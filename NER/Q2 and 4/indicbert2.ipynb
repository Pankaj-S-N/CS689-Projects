{
  "nbformat": 4,
  "nbformat_minor": 0,
  "metadata": {
    "colab": {
      "provenance": []
    },
    "kernelspec": {
      "name": "python3",
      "display_name": "Python 3"
    },
    "language_info": {
      "name": "python"
    },
    "widgets": {
      "application/vnd.jupyter.widget-state+json": {
        "8c916a0f65af4b3ba329527dc74a3036": {
          "model_module": "@jupyter-widgets/controls",
          "model_name": "HBoxModel",
          "model_module_version": "1.5.0",
          "state": {
            "_dom_classes": [],
            "_model_module": "@jupyter-widgets/controls",
            "_model_module_version": "1.5.0",
            "_model_name": "HBoxModel",
            "_view_count": null,
            "_view_module": "@jupyter-widgets/controls",
            "_view_module_version": "1.5.0",
            "_view_name": "HBoxView",
            "box_style": "",
            "children": [
              "IPY_MODEL_a69a549953d34529802e2c01fed44092",
              "IPY_MODEL_578a6f9ef4754326b4cb0bb275313653",
              "IPY_MODEL_b17756c5889d464b82055eb72f1e2b42"
            ],
            "layout": "IPY_MODEL_8daa2982ea894e4f97b0c69be0a46d96"
          }
        },
        "a69a549953d34529802e2c01fed44092": {
          "model_module": "@jupyter-widgets/controls",
          "model_name": "HTMLModel",
          "model_module_version": "1.5.0",
          "state": {
            "_dom_classes": [],
            "_model_module": "@jupyter-widgets/controls",
            "_model_module_version": "1.5.0",
            "_model_name": "HTMLModel",
            "_view_count": null,
            "_view_module": "@jupyter-widgets/controls",
            "_view_module_version": "1.5.0",
            "_view_name": "HTMLView",
            "description": "",
            "description_tooltip": null,
            "layout": "IPY_MODEL_f1a9745c2e384ac79913c4f54637fb0d",
            "placeholder": "​",
            "style": "IPY_MODEL_d39fc99b363d48a1ae7a6ae96b343547",
            "value": "Running tokenizer on train dataset (num_proc=32): 100%"
          }
        },
        "578a6f9ef4754326b4cb0bb275313653": {
          "model_module": "@jupyter-widgets/controls",
          "model_name": "FloatProgressModel",
          "model_module_version": "1.5.0",
          "state": {
            "_dom_classes": [],
            "_model_module": "@jupyter-widgets/controls",
            "_model_module_version": "1.5.0",
            "_model_name": "FloatProgressModel",
            "_view_count": null,
            "_view_module": "@jupyter-widgets/controls",
            "_view_module_version": "1.5.0",
            "_view_name": "ProgressView",
            "bar_style": "success",
            "description": "",
            "description_tooltip": null,
            "layout": "IPY_MODEL_fd3e3c64b11d471b9aaf4937a1d095ff",
            "max": 100000,
            "min": 0,
            "orientation": "horizontal",
            "style": "IPY_MODEL_0600638aebde45d594984d26bfe67d95",
            "value": 100000
          }
        },
        "b17756c5889d464b82055eb72f1e2b42": {
          "model_module": "@jupyter-widgets/controls",
          "model_name": "HTMLModel",
          "model_module_version": "1.5.0",
          "state": {
            "_dom_classes": [],
            "_model_module": "@jupyter-widgets/controls",
            "_model_module_version": "1.5.0",
            "_model_name": "HTMLModel",
            "_view_count": null,
            "_view_module": "@jupyter-widgets/controls",
            "_view_module_version": "1.5.0",
            "_view_name": "HTMLView",
            "description": "",
            "description_tooltip": null,
            "layout": "IPY_MODEL_49a2d552d880446ca1694467a76f5b04",
            "placeholder": "​",
            "style": "IPY_MODEL_8be0ca0f86164922852a3bbea0fa2f46",
            "value": " 100000/100000 [00:23&lt;00:00, 5783.05 examples/s]"
          }
        },
        "8daa2982ea894e4f97b0c69be0a46d96": {
          "model_module": "@jupyter-widgets/base",
          "model_name": "LayoutModel",
          "model_module_version": "1.2.0",
          "state": {
            "_model_module": "@jupyter-widgets/base",
            "_model_module_version": "1.2.0",
            "_model_name": "LayoutModel",
            "_view_count": null,
            "_view_module": "@jupyter-widgets/base",
            "_view_module_version": "1.2.0",
            "_view_name": "LayoutView",
            "align_content": null,
            "align_items": null,
            "align_self": null,
            "border": null,
            "bottom": null,
            "display": null,
            "flex": null,
            "flex_flow": null,
            "grid_area": null,
            "grid_auto_columns": null,
            "grid_auto_flow": null,
            "grid_auto_rows": null,
            "grid_column": null,
            "grid_gap": null,
            "grid_row": null,
            "grid_template_areas": null,
            "grid_template_columns": null,
            "grid_template_rows": null,
            "height": null,
            "justify_content": null,
            "justify_items": null,
            "left": null,
            "margin": null,
            "max_height": null,
            "max_width": null,
            "min_height": null,
            "min_width": null,
            "object_fit": null,
            "object_position": null,
            "order": null,
            "overflow": null,
            "overflow_x": null,
            "overflow_y": null,
            "padding": null,
            "right": null,
            "top": null,
            "visibility": null,
            "width": null
          }
        },
        "f1a9745c2e384ac79913c4f54637fb0d": {
          "model_module": "@jupyter-widgets/base",
          "model_name": "LayoutModel",
          "model_module_version": "1.2.0",
          "state": {
            "_model_module": "@jupyter-widgets/base",
            "_model_module_version": "1.2.0",
            "_model_name": "LayoutModel",
            "_view_count": null,
            "_view_module": "@jupyter-widgets/base",
            "_view_module_version": "1.2.0",
            "_view_name": "LayoutView",
            "align_content": null,
            "align_items": null,
            "align_self": null,
            "border": null,
            "bottom": null,
            "display": null,
            "flex": null,
            "flex_flow": null,
            "grid_area": null,
            "grid_auto_columns": null,
            "grid_auto_flow": null,
            "grid_auto_rows": null,
            "grid_column": null,
            "grid_gap": null,
            "grid_row": null,
            "grid_template_areas": null,
            "grid_template_columns": null,
            "grid_template_rows": null,
            "height": null,
            "justify_content": null,
            "justify_items": null,
            "left": null,
            "margin": null,
            "max_height": null,
            "max_width": null,
            "min_height": null,
            "min_width": null,
            "object_fit": null,
            "object_position": null,
            "order": null,
            "overflow": null,
            "overflow_x": null,
            "overflow_y": null,
            "padding": null,
            "right": null,
            "top": null,
            "visibility": null,
            "width": null
          }
        },
        "d39fc99b363d48a1ae7a6ae96b343547": {
          "model_module": "@jupyter-widgets/controls",
          "model_name": "DescriptionStyleModel",
          "model_module_version": "1.5.0",
          "state": {
            "_model_module": "@jupyter-widgets/controls",
            "_model_module_version": "1.5.0",
            "_model_name": "DescriptionStyleModel",
            "_view_count": null,
            "_view_module": "@jupyter-widgets/base",
            "_view_module_version": "1.2.0",
            "_view_name": "StyleView",
            "description_width": ""
          }
        },
        "fd3e3c64b11d471b9aaf4937a1d095ff": {
          "model_module": "@jupyter-widgets/base",
          "model_name": "LayoutModel",
          "model_module_version": "1.2.0",
          "state": {
            "_model_module": "@jupyter-widgets/base",
            "_model_module_version": "1.2.0",
            "_model_name": "LayoutModel",
            "_view_count": null,
            "_view_module": "@jupyter-widgets/base",
            "_view_module_version": "1.2.0",
            "_view_name": "LayoutView",
            "align_content": null,
            "align_items": null,
            "align_self": null,
            "border": null,
            "bottom": null,
            "display": null,
            "flex": null,
            "flex_flow": null,
            "grid_area": null,
            "grid_auto_columns": null,
            "grid_auto_flow": null,
            "grid_auto_rows": null,
            "grid_column": null,
            "grid_gap": null,
            "grid_row": null,
            "grid_template_areas": null,
            "grid_template_columns": null,
            "grid_template_rows": null,
            "height": null,
            "justify_content": null,
            "justify_items": null,
            "left": null,
            "margin": null,
            "max_height": null,
            "max_width": null,
            "min_height": null,
            "min_width": null,
            "object_fit": null,
            "object_position": null,
            "order": null,
            "overflow": null,
            "overflow_x": null,
            "overflow_y": null,
            "padding": null,
            "right": null,
            "top": null,
            "visibility": null,
            "width": null
          }
        },
        "0600638aebde45d594984d26bfe67d95": {
          "model_module": "@jupyter-widgets/controls",
          "model_name": "ProgressStyleModel",
          "model_module_version": "1.5.0",
          "state": {
            "_model_module": "@jupyter-widgets/controls",
            "_model_module_version": "1.5.0",
            "_model_name": "ProgressStyleModel",
            "_view_count": null,
            "_view_module": "@jupyter-widgets/base",
            "_view_module_version": "1.2.0",
            "_view_name": "StyleView",
            "bar_color": null,
            "description_width": ""
          }
        },
        "49a2d552d880446ca1694467a76f5b04": {
          "model_module": "@jupyter-widgets/base",
          "model_name": "LayoutModel",
          "model_module_version": "1.2.0",
          "state": {
            "_model_module": "@jupyter-widgets/base",
            "_model_module_version": "1.2.0",
            "_model_name": "LayoutModel",
            "_view_count": null,
            "_view_module": "@jupyter-widgets/base",
            "_view_module_version": "1.2.0",
            "_view_name": "LayoutView",
            "align_content": null,
            "align_items": null,
            "align_self": null,
            "border": null,
            "bottom": null,
            "display": null,
            "flex": null,
            "flex_flow": null,
            "grid_area": null,
            "grid_auto_columns": null,
            "grid_auto_flow": null,
            "grid_auto_rows": null,
            "grid_column": null,
            "grid_gap": null,
            "grid_row": null,
            "grid_template_areas": null,
            "grid_template_columns": null,
            "grid_template_rows": null,
            "height": null,
            "justify_content": null,
            "justify_items": null,
            "left": null,
            "margin": null,
            "max_height": null,
            "max_width": null,
            "min_height": null,
            "min_width": null,
            "object_fit": null,
            "object_position": null,
            "order": null,
            "overflow": null,
            "overflow_x": null,
            "overflow_y": null,
            "padding": null,
            "right": null,
            "top": null,
            "visibility": null,
            "width": null
          }
        },
        "8be0ca0f86164922852a3bbea0fa2f46": {
          "model_module": "@jupyter-widgets/controls",
          "model_name": "DescriptionStyleModel",
          "model_module_version": "1.5.0",
          "state": {
            "_model_module": "@jupyter-widgets/controls",
            "_model_module_version": "1.5.0",
            "_model_name": "DescriptionStyleModel",
            "_view_count": null,
            "_view_module": "@jupyter-widgets/base",
            "_view_module_version": "1.2.0",
            "_view_name": "StyleView",
            "description_width": ""
          }
        },
        "ac50785ed1ea4cd4bb3a705eee77642b": {
          "model_module": "@jupyter-widgets/controls",
          "model_name": "HBoxModel",
          "model_module_version": "1.5.0",
          "state": {
            "_dom_classes": [],
            "_model_module": "@jupyter-widgets/controls",
            "_model_module_version": "1.5.0",
            "_model_name": "HBoxModel",
            "_view_count": null,
            "_view_module": "@jupyter-widgets/controls",
            "_view_module_version": "1.5.0",
            "_view_name": "HBoxView",
            "box_style": "",
            "children": [
              "IPY_MODEL_1b4a621f96ce4dbe83050dda66fe7edb",
              "IPY_MODEL_5fd3fcd66c3449239f78f279d7e14412",
              "IPY_MODEL_8419bd1449a24cf48ca0af5a1570707e"
            ],
            "layout": "IPY_MODEL_3b1ebb8d4a6044a48d2cf84acf4aaa96"
          }
        },
        "1b4a621f96ce4dbe83050dda66fe7edb": {
          "model_module": "@jupyter-widgets/controls",
          "model_name": "HTMLModel",
          "model_module_version": "1.5.0",
          "state": {
            "_dom_classes": [],
            "_model_module": "@jupyter-widgets/controls",
            "_model_module_version": "1.5.0",
            "_model_name": "HTMLModel",
            "_view_count": null,
            "_view_module": "@jupyter-widgets/controls",
            "_view_module_version": "1.5.0",
            "_view_name": "HTMLView",
            "description": "",
            "description_tooltip": null,
            "layout": "IPY_MODEL_28786c7629ea4410a8c26193ce1a044f",
            "placeholder": "​",
            "style": "IPY_MODEL_11004bacce464dd49810677125d35f26",
            "value": "Running tokenizer on Validation dataset (num_proc=4): 100%"
          }
        },
        "5fd3fcd66c3449239f78f279d7e14412": {
          "model_module": "@jupyter-widgets/controls",
          "model_name": "FloatProgressModel",
          "model_module_version": "1.5.0",
          "state": {
            "_dom_classes": [],
            "_model_module": "@jupyter-widgets/controls",
            "_model_module_version": "1.5.0",
            "_model_name": "FloatProgressModel",
            "_view_count": null,
            "_view_module": "@jupyter-widgets/controls",
            "_view_module_version": "1.5.0",
            "_view_name": "ProgressView",
            "bar_style": "success",
            "description": "",
            "description_tooltip": null,
            "layout": "IPY_MODEL_636fd685bd474dbd8e7a17fe6b0c3ad5",
            "max": 2300,
            "min": 0,
            "orientation": "horizontal",
            "style": "IPY_MODEL_e831d675214c4a4e90b8f96deb8dde13",
            "value": 2300
          }
        },
        "8419bd1449a24cf48ca0af5a1570707e": {
          "model_module": "@jupyter-widgets/controls",
          "model_name": "HTMLModel",
          "model_module_version": "1.5.0",
          "state": {
            "_dom_classes": [],
            "_model_module": "@jupyter-widgets/controls",
            "_model_module_version": "1.5.0",
            "_model_name": "HTMLModel",
            "_view_count": null,
            "_view_module": "@jupyter-widgets/controls",
            "_view_module_version": "1.5.0",
            "_view_name": "HTMLView",
            "description": "",
            "description_tooltip": null,
            "layout": "IPY_MODEL_bbe93c75e85a47779bc3632085cde25a",
            "placeholder": "​",
            "style": "IPY_MODEL_da7640d9cb60455496f3455517d58786",
            "value": " 2300/2300 [00:01&lt;00:00, 2557.14 examples/s]"
          }
        },
        "3b1ebb8d4a6044a48d2cf84acf4aaa96": {
          "model_module": "@jupyter-widgets/base",
          "model_name": "LayoutModel",
          "model_module_version": "1.2.0",
          "state": {
            "_model_module": "@jupyter-widgets/base",
            "_model_module_version": "1.2.0",
            "_model_name": "LayoutModel",
            "_view_count": null,
            "_view_module": "@jupyter-widgets/base",
            "_view_module_version": "1.2.0",
            "_view_name": "LayoutView",
            "align_content": null,
            "align_items": null,
            "align_self": null,
            "border": null,
            "bottom": null,
            "display": null,
            "flex": null,
            "flex_flow": null,
            "grid_area": null,
            "grid_auto_columns": null,
            "grid_auto_flow": null,
            "grid_auto_rows": null,
            "grid_column": null,
            "grid_gap": null,
            "grid_row": null,
            "grid_template_areas": null,
            "grid_template_columns": null,
            "grid_template_rows": null,
            "height": null,
            "justify_content": null,
            "justify_items": null,
            "left": null,
            "margin": null,
            "max_height": null,
            "max_width": null,
            "min_height": null,
            "min_width": null,
            "object_fit": null,
            "object_position": null,
            "order": null,
            "overflow": null,
            "overflow_x": null,
            "overflow_y": null,
            "padding": null,
            "right": null,
            "top": null,
            "visibility": null,
            "width": null
          }
        },
        "28786c7629ea4410a8c26193ce1a044f": {
          "model_module": "@jupyter-widgets/base",
          "model_name": "LayoutModel",
          "model_module_version": "1.2.0",
          "state": {
            "_model_module": "@jupyter-widgets/base",
            "_model_module_version": "1.2.0",
            "_model_name": "LayoutModel",
            "_view_count": null,
            "_view_module": "@jupyter-widgets/base",
            "_view_module_version": "1.2.0",
            "_view_name": "LayoutView",
            "align_content": null,
            "align_items": null,
            "align_self": null,
            "border": null,
            "bottom": null,
            "display": null,
            "flex": null,
            "flex_flow": null,
            "grid_area": null,
            "grid_auto_columns": null,
            "grid_auto_flow": null,
            "grid_auto_rows": null,
            "grid_column": null,
            "grid_gap": null,
            "grid_row": null,
            "grid_template_areas": null,
            "grid_template_columns": null,
            "grid_template_rows": null,
            "height": null,
            "justify_content": null,
            "justify_items": null,
            "left": null,
            "margin": null,
            "max_height": null,
            "max_width": null,
            "min_height": null,
            "min_width": null,
            "object_fit": null,
            "object_position": null,
            "order": null,
            "overflow": null,
            "overflow_x": null,
            "overflow_y": null,
            "padding": null,
            "right": null,
            "top": null,
            "visibility": null,
            "width": null
          }
        },
        "11004bacce464dd49810677125d35f26": {
          "model_module": "@jupyter-widgets/controls",
          "model_name": "DescriptionStyleModel",
          "model_module_version": "1.5.0",
          "state": {
            "_model_module": "@jupyter-widgets/controls",
            "_model_module_version": "1.5.0",
            "_model_name": "DescriptionStyleModel",
            "_view_count": null,
            "_view_module": "@jupyter-widgets/base",
            "_view_module_version": "1.2.0",
            "_view_name": "StyleView",
            "description_width": ""
          }
        },
        "636fd685bd474dbd8e7a17fe6b0c3ad5": {
          "model_module": "@jupyter-widgets/base",
          "model_name": "LayoutModel",
          "model_module_version": "1.2.0",
          "state": {
            "_model_module": "@jupyter-widgets/base",
            "_model_module_version": "1.2.0",
            "_model_name": "LayoutModel",
            "_view_count": null,
            "_view_module": "@jupyter-widgets/base",
            "_view_module_version": "1.2.0",
            "_view_name": "LayoutView",
            "align_content": null,
            "align_items": null,
            "align_self": null,
            "border": null,
            "bottom": null,
            "display": null,
            "flex": null,
            "flex_flow": null,
            "grid_area": null,
            "grid_auto_columns": null,
            "grid_auto_flow": null,
            "grid_auto_rows": null,
            "grid_column": null,
            "grid_gap": null,
            "grid_row": null,
            "grid_template_areas": null,
            "grid_template_columns": null,
            "grid_template_rows": null,
            "height": null,
            "justify_content": null,
            "justify_items": null,
            "left": null,
            "margin": null,
            "max_height": null,
            "max_width": null,
            "min_height": null,
            "min_width": null,
            "object_fit": null,
            "object_position": null,
            "order": null,
            "overflow": null,
            "overflow_x": null,
            "overflow_y": null,
            "padding": null,
            "right": null,
            "top": null,
            "visibility": null,
            "width": null
          }
        },
        "e831d675214c4a4e90b8f96deb8dde13": {
          "model_module": "@jupyter-widgets/controls",
          "model_name": "ProgressStyleModel",
          "model_module_version": "1.5.0",
          "state": {
            "_model_module": "@jupyter-widgets/controls",
            "_model_module_version": "1.5.0",
            "_model_name": "ProgressStyleModel",
            "_view_count": null,
            "_view_module": "@jupyter-widgets/base",
            "_view_module_version": "1.2.0",
            "_view_name": "StyleView",
            "bar_color": null,
            "description_width": ""
          }
        },
        "bbe93c75e85a47779bc3632085cde25a": {
          "model_module": "@jupyter-widgets/base",
          "model_name": "LayoutModel",
          "model_module_version": "1.2.0",
          "state": {
            "_model_module": "@jupyter-widgets/base",
            "_model_module_version": "1.2.0",
            "_model_name": "LayoutModel",
            "_view_count": null,
            "_view_module": "@jupyter-widgets/base",
            "_view_module_version": "1.2.0",
            "_view_name": "LayoutView",
            "align_content": null,
            "align_items": null,
            "align_self": null,
            "border": null,
            "bottom": null,
            "display": null,
            "flex": null,
            "flex_flow": null,
            "grid_area": null,
            "grid_auto_columns": null,
            "grid_auto_flow": null,
            "grid_auto_rows": null,
            "grid_column": null,
            "grid_gap": null,
            "grid_row": null,
            "grid_template_areas": null,
            "grid_template_columns": null,
            "grid_template_rows": null,
            "height": null,
            "justify_content": null,
            "justify_items": null,
            "left": null,
            "margin": null,
            "max_height": null,
            "max_width": null,
            "min_height": null,
            "min_width": null,
            "object_fit": null,
            "object_position": null,
            "order": null,
            "overflow": null,
            "overflow_x": null,
            "overflow_y": null,
            "padding": null,
            "right": null,
            "top": null,
            "visibility": null,
            "width": null
          }
        },
        "da7640d9cb60455496f3455517d58786": {
          "model_module": "@jupyter-widgets/controls",
          "model_name": "DescriptionStyleModel",
          "model_module_version": "1.5.0",
          "state": {
            "_model_module": "@jupyter-widgets/controls",
            "_model_module_version": "1.5.0",
            "_model_name": "DescriptionStyleModel",
            "_view_count": null,
            "_view_module": "@jupyter-widgets/base",
            "_view_module_version": "1.2.0",
            "_view_name": "StyleView",
            "description_width": ""
          }
        },
        "add361dc26b94d16ad48bb1b89f9f83b": {
          "model_module": "@jupyter-widgets/controls",
          "model_name": "HBoxModel",
          "model_module_version": "1.5.0",
          "state": {
            "_dom_classes": [],
            "_model_module": "@jupyter-widgets/controls",
            "_model_module_version": "1.5.0",
            "_model_name": "HBoxModel",
            "_view_count": null,
            "_view_module": "@jupyter-widgets/controls",
            "_view_module_version": "1.5.0",
            "_view_name": "HBoxView",
            "box_style": "",
            "children": [
              "IPY_MODEL_a54c1d7f89b9495e865694180a59badd",
              "IPY_MODEL_d1de7f899bad4eac8b576c67d1f72724",
              "IPY_MODEL_5273654ea2224b5aa160fb692ef2834f"
            ],
            "layout": "IPY_MODEL_b1ac53b8536b4a189e181d5a7ddfd683"
          }
        },
        "a54c1d7f89b9495e865694180a59badd": {
          "model_module": "@jupyter-widgets/controls",
          "model_name": "HTMLModel",
          "model_module_version": "1.5.0",
          "state": {
            "_dom_classes": [],
            "_model_module": "@jupyter-widgets/controls",
            "_model_module_version": "1.5.0",
            "_model_name": "HTMLModel",
            "_view_count": null,
            "_view_module": "@jupyter-widgets/controls",
            "_view_module_version": "1.5.0",
            "_view_name": "HTMLView",
            "description": "",
            "description_tooltip": null,
            "layout": "IPY_MODEL_8f5a6dd9949a405f8e8c911b5fdf562d",
            "placeholder": "​",
            "style": "IPY_MODEL_296c8bc1bff34ce6976a459b024e6692",
            "value": "Map (num_proc=32): 100%"
          }
        },
        "d1de7f899bad4eac8b576c67d1f72724": {
          "model_module": "@jupyter-widgets/controls",
          "model_name": "FloatProgressModel",
          "model_module_version": "1.5.0",
          "state": {
            "_dom_classes": [],
            "_model_module": "@jupyter-widgets/controls",
            "_model_module_version": "1.5.0",
            "_model_name": "FloatProgressModel",
            "_view_count": null,
            "_view_module": "@jupyter-widgets/controls",
            "_view_module_version": "1.5.0",
            "_view_name": "ProgressView",
            "bar_style": "success",
            "description": "",
            "description_tooltip": null,
            "layout": "IPY_MODEL_6fc92786724e4dbd8b6c5c548a5e286b",
            "max": 1080,
            "min": 0,
            "orientation": "horizontal",
            "style": "IPY_MODEL_0e10538991c342e89bb3a0aadd0df8bf",
            "value": 1080
          }
        },
        "5273654ea2224b5aa160fb692ef2834f": {
          "model_module": "@jupyter-widgets/controls",
          "model_name": "HTMLModel",
          "model_module_version": "1.5.0",
          "state": {
            "_dom_classes": [],
            "_model_module": "@jupyter-widgets/controls",
            "_model_module_version": "1.5.0",
            "_model_name": "HTMLModel",
            "_view_count": null,
            "_view_module": "@jupyter-widgets/controls",
            "_view_module_version": "1.5.0",
            "_view_name": "HTMLView",
            "description": "",
            "description_tooltip": null,
            "layout": "IPY_MODEL_9718b5cd940141e5be179789e0a98249",
            "placeholder": "​",
            "style": "IPY_MODEL_ac62c463381b42669ea4962067d9cb11",
            "value": " 1080/1080 [00:01&lt;00:00, 1493.14 examples/s]"
          }
        },
        "b1ac53b8536b4a189e181d5a7ddfd683": {
          "model_module": "@jupyter-widgets/base",
          "model_name": "LayoutModel",
          "model_module_version": "1.2.0",
          "state": {
            "_model_module": "@jupyter-widgets/base",
            "_model_module_version": "1.2.0",
            "_model_name": "LayoutModel",
            "_view_count": null,
            "_view_module": "@jupyter-widgets/base",
            "_view_module_version": "1.2.0",
            "_view_name": "LayoutView",
            "align_content": null,
            "align_items": null,
            "align_self": null,
            "border": null,
            "bottom": null,
            "display": null,
            "flex": null,
            "flex_flow": null,
            "grid_area": null,
            "grid_auto_columns": null,
            "grid_auto_flow": null,
            "grid_auto_rows": null,
            "grid_column": null,
            "grid_gap": null,
            "grid_row": null,
            "grid_template_areas": null,
            "grid_template_columns": null,
            "grid_template_rows": null,
            "height": null,
            "justify_content": null,
            "justify_items": null,
            "left": null,
            "margin": null,
            "max_height": null,
            "max_width": null,
            "min_height": null,
            "min_width": null,
            "object_fit": null,
            "object_position": null,
            "order": null,
            "overflow": null,
            "overflow_x": null,
            "overflow_y": null,
            "padding": null,
            "right": null,
            "top": null,
            "visibility": null,
            "width": null
          }
        },
        "8f5a6dd9949a405f8e8c911b5fdf562d": {
          "model_module": "@jupyter-widgets/base",
          "model_name": "LayoutModel",
          "model_module_version": "1.2.0",
          "state": {
            "_model_module": "@jupyter-widgets/base",
            "_model_module_version": "1.2.0",
            "_model_name": "LayoutModel",
            "_view_count": null,
            "_view_module": "@jupyter-widgets/base",
            "_view_module_version": "1.2.0",
            "_view_name": "LayoutView",
            "align_content": null,
            "align_items": null,
            "align_self": null,
            "border": null,
            "bottom": null,
            "display": null,
            "flex": null,
            "flex_flow": null,
            "grid_area": null,
            "grid_auto_columns": null,
            "grid_auto_flow": null,
            "grid_auto_rows": null,
            "grid_column": null,
            "grid_gap": null,
            "grid_row": null,
            "grid_template_areas": null,
            "grid_template_columns": null,
            "grid_template_rows": null,
            "height": null,
            "justify_content": null,
            "justify_items": null,
            "left": null,
            "margin": null,
            "max_height": null,
            "max_width": null,
            "min_height": null,
            "min_width": null,
            "object_fit": null,
            "object_position": null,
            "order": null,
            "overflow": null,
            "overflow_x": null,
            "overflow_y": null,
            "padding": null,
            "right": null,
            "top": null,
            "visibility": null,
            "width": null
          }
        },
        "296c8bc1bff34ce6976a459b024e6692": {
          "model_module": "@jupyter-widgets/controls",
          "model_name": "DescriptionStyleModel",
          "model_module_version": "1.5.0",
          "state": {
            "_model_module": "@jupyter-widgets/controls",
            "_model_module_version": "1.5.0",
            "_model_name": "DescriptionStyleModel",
            "_view_count": null,
            "_view_module": "@jupyter-widgets/base",
            "_view_module_version": "1.2.0",
            "_view_name": "StyleView",
            "description_width": ""
          }
        },
        "6fc92786724e4dbd8b6c5c548a5e286b": {
          "model_module": "@jupyter-widgets/base",
          "model_name": "LayoutModel",
          "model_module_version": "1.2.0",
          "state": {
            "_model_module": "@jupyter-widgets/base",
            "_model_module_version": "1.2.0",
            "_model_name": "LayoutModel",
            "_view_count": null,
            "_view_module": "@jupyter-widgets/base",
            "_view_module_version": "1.2.0",
            "_view_name": "LayoutView",
            "align_content": null,
            "align_items": null,
            "align_self": null,
            "border": null,
            "bottom": null,
            "display": null,
            "flex": null,
            "flex_flow": null,
            "grid_area": null,
            "grid_auto_columns": null,
            "grid_auto_flow": null,
            "grid_auto_rows": null,
            "grid_column": null,
            "grid_gap": null,
            "grid_row": null,
            "grid_template_areas": null,
            "grid_template_columns": null,
            "grid_template_rows": null,
            "height": null,
            "justify_content": null,
            "justify_items": null,
            "left": null,
            "margin": null,
            "max_height": null,
            "max_width": null,
            "min_height": null,
            "min_width": null,
            "object_fit": null,
            "object_position": null,
            "order": null,
            "overflow": null,
            "overflow_x": null,
            "overflow_y": null,
            "padding": null,
            "right": null,
            "top": null,
            "visibility": null,
            "width": null
          }
        },
        "0e10538991c342e89bb3a0aadd0df8bf": {
          "model_module": "@jupyter-widgets/controls",
          "model_name": "ProgressStyleModel",
          "model_module_version": "1.5.0",
          "state": {
            "_model_module": "@jupyter-widgets/controls",
            "_model_module_version": "1.5.0",
            "_model_name": "ProgressStyleModel",
            "_view_count": null,
            "_view_module": "@jupyter-widgets/base",
            "_view_module_version": "1.2.0",
            "_view_name": "StyleView",
            "bar_color": null,
            "description_width": ""
          }
        },
        "9718b5cd940141e5be179789e0a98249": {
          "model_module": "@jupyter-widgets/base",
          "model_name": "LayoutModel",
          "model_module_version": "1.2.0",
          "state": {
            "_model_module": "@jupyter-widgets/base",
            "_model_module_version": "1.2.0",
            "_model_name": "LayoutModel",
            "_view_count": null,
            "_view_module": "@jupyter-widgets/base",
            "_view_module_version": "1.2.0",
            "_view_name": "LayoutView",
            "align_content": null,
            "align_items": null,
            "align_self": null,
            "border": null,
            "bottom": null,
            "display": null,
            "flex": null,
            "flex_flow": null,
            "grid_area": null,
            "grid_auto_columns": null,
            "grid_auto_flow": null,
            "grid_auto_rows": null,
            "grid_column": null,
            "grid_gap": null,
            "grid_row": null,
            "grid_template_areas": null,
            "grid_template_columns": null,
            "grid_template_rows": null,
            "height": null,
            "justify_content": null,
            "justify_items": null,
            "left": null,
            "margin": null,
            "max_height": null,
            "max_width": null,
            "min_height": null,
            "min_width": null,
            "object_fit": null,
            "object_position": null,
            "order": null,
            "overflow": null,
            "overflow_x": null,
            "overflow_y": null,
            "padding": null,
            "right": null,
            "top": null,
            "visibility": null,
            "width": null
          }
        },
        "ac62c463381b42669ea4962067d9cb11": {
          "model_module": "@jupyter-widgets/controls",
          "model_name": "DescriptionStyleModel",
          "model_module_version": "1.5.0",
          "state": {
            "_model_module": "@jupyter-widgets/controls",
            "_model_module_version": "1.5.0",
            "_model_name": "DescriptionStyleModel",
            "_view_count": null,
            "_view_module": "@jupyter-widgets/base",
            "_view_module_version": "1.2.0",
            "_view_name": "StyleView",
            "description_width": ""
          }
        }
      }
    }
  },
  "cells": [
    {
      "cell_type": "code",
      "execution_count": null,
      "metadata": {
        "colab": {
          "base_uri": "https://localhost:8080/"
        },
        "id": "Ws38mXVzMeWA",
        "outputId": "25680e2f-0968-46a1-d6b2-3daac62bb518"
      },
      "outputs": [
        {
          "output_type": "stream",
          "name": "stdout",
          "text": [
            "Mounted at /content/gdrive\n"
          ]
        }
      ],
      "source": [
        "from google.colab import drive\n",
        "drive.mount('/content/gdrive')"
      ]
    },
    {
      "cell_type": "code",
      "execution_count": null,
      "metadata": {
        "id": "ypbWu0MBNI6P"
      },
      "outputs": [],
      "source": [
        "!pip3 install transformers\n",
        "!pip3 install datasets\n",
        "!pip3 install sentencepiece\n",
        "!pip3 install seqeval\n",
        "!pip3 install accelerate"
      ]
    },
    {
      "cell_type": "code",
      "execution_count": null,
      "metadata": {
        "id": "-r1Vuab5M29y"
      },
      "outputs": [],
      "source": [
        "from sklearn.model_selection import train_test_split\n",
        "import json\n",
        "from transformers import AutoModelForTokenClassification, AutoConfig, AutoTokenizer, TrainingArguments, Trainer, DataCollatorForTokenClassification, EarlyStoppingCallback, IntervalStrategy\n",
        "import numpy as np\n",
        "from sklearn.metrics import precision_recall_fscore_support,f1_score\n",
        "from datasets import ClassLabel, load_dataset, load_metric, DownloadMode"
      ]
    },
    {
      "cell_type": "code",
      "execution_count": null,
      "metadata": {
        "id": "EP54OtZZIXuU"
      },
      "outputs": [],
      "source": [
        "# Import all the necessary classes and initialize the tokenizer and model.\n",
        "from transformers import AutoTokenizer, AutoModelForTokenClassification\n",
        "import torch\n",
        "\n",
        "config = AutoConfig.from_pretrained('ai4bharat/indic-bert', num_labels=7, finetuning_task='ner')\n",
        "tokenizer = AutoTokenizer.from_pretrained(\"ai4bharat/indic-bert\")\n",
        "model = AutoModelForTokenClassification.from_pretrained('ai4bharat/indic-bert', num_labels=7)"
      ]
    },
    {
      "cell_type": "code",
      "source": [
        "model.config #checking configuration"
      ],
      "metadata": {
        "id": "q1ISQC3bNu6i",
        "outputId": "0acd4958-b1de-4afe-a829-99e514825870",
        "colab": {
          "base_uri": "https://localhost:8080/"
        }
      },
      "execution_count": null,
      "outputs": [
        {
          "output_type": "execute_result",
          "data": {
            "text/plain": [
              "AlbertConfig {\n",
              "  \"_name_or_path\": \"ai4bharat/indic-bert\",\n",
              "  \"attention_probs_dropout_prob\": 0,\n",
              "  \"bos_token_id\": 2,\n",
              "  \"classifier_dropout_prob\": 0.1,\n",
              "  \"down_scale_factor\": 1,\n",
              "  \"embedding_size\": 128,\n",
              "  \"eos_token_id\": 3,\n",
              "  \"gap_size\": 0,\n",
              "  \"hidden_act\": \"gelu\",\n",
              "  \"hidden_dropout_prob\": 0,\n",
              "  \"hidden_size\": 768,\n",
              "  \"id2label\": {\n",
              "    \"0\": \"LABEL_0\",\n",
              "    \"1\": \"LABEL_1\",\n",
              "    \"2\": \"LABEL_2\",\n",
              "    \"3\": \"LABEL_3\",\n",
              "    \"4\": \"LABEL_4\",\n",
              "    \"5\": \"LABEL_5\",\n",
              "    \"6\": \"LABEL_6\"\n",
              "  },\n",
              "  \"initializer_range\": 0.02,\n",
              "  \"inner_group_num\": 1,\n",
              "  \"intermediate_size\": 3072,\n",
              "  \"label2id\": {\n",
              "    \"LABEL_0\": 0,\n",
              "    \"LABEL_1\": 1,\n",
              "    \"LABEL_2\": 2,\n",
              "    \"LABEL_3\": 3,\n",
              "    \"LABEL_4\": 4,\n",
              "    \"LABEL_5\": 5,\n",
              "    \"LABEL_6\": 6\n",
              "  },\n",
              "  \"layer_norm_eps\": 1e-12,\n",
              "  \"max_position_embeddings\": 512,\n",
              "  \"model_type\": \"albert\",\n",
              "  \"net_structure_type\": 0,\n",
              "  \"num_attention_heads\": 12,\n",
              "  \"num_hidden_groups\": 1,\n",
              "  \"num_hidden_layers\": 12,\n",
              "  \"num_memory_blocks\": 0,\n",
              "  \"pad_token_id\": 0,\n",
              "  \"position_embedding_type\": \"absolute\",\n",
              "  \"transformers_version\": \"4.38.2\",\n",
              "  \"type_vocab_size\": 2,\n",
              "  \"vocab_size\": 200000\n",
              "}"
            ]
          },
          "metadata": {},
          "execution_count": 3
        }
      ]
    },
    {
      "cell_type": "code",
      "execution_count": null,
      "metadata": {
        "id": "8czis05xUJDQ"
      },
      "outputs": [],
      "source": [
        "lang='mr'\n",
        "\n",
        "data = load_dataset('ai4bharat/naamapadam', lang) #loading data online"
      ]
    },
    {
      "cell_type": "code",
      "execution_count": null,
      "metadata": {
        "id": "v9ywLACqUe4n",
        "colab": {
          "base_uri": "https://localhost:8080/"
        },
        "outputId": "744263ed-298f-409d-cdf0-0b59846bf534"
      },
      "outputs": [
        {
          "output_type": "execute_result",
          "data": {
            "text/plain": [
              "DatasetDict({\n",
              "    train: Dataset({\n",
              "        features: ['tokens', 'ner_tags'],\n",
              "        num_rows: 455248\n",
              "    })\n",
              "    test: Dataset({\n",
              "        features: ['tokens', 'ner_tags'],\n",
              "        num_rows: 1080\n",
              "    })\n",
              "    validation: Dataset({\n",
              "        features: ['tokens', 'ner_tags'],\n",
              "        num_rows: 2300\n",
              "    })\n",
              "})"
            ]
          },
          "metadata": {},
          "execution_count": 9
        }
      ],
      "source": [
        "data #data format"
      ]
    },
    {
      "cell_type": "code",
      "execution_count": null,
      "metadata": {
        "id": "rBinRTusUCve"
      },
      "outputs": [],
      "source": [
        "label_list = [\"O\", \"B-PER\", \"I-PER\", \"B-ORG\", \"I-ORG\",\"B-LOC\", \"I-LOC\"]\n",
        "label_to_index = {\"O\": 0, \"B-PER\": 1, \"I-PER\": 2, \"B-ORG\": 3, \"I-ORG\": 4,\"B-LOC\": 5, \"I-LOC\": 6}\n",
        "index_to_label = {0: \"O\" , 1: \"B-PER\" , 2: \"I-PER\" , 3: \"B-ORG\" , 4: \"I-ORG\" ,5: \"B-LOC\" , 6: \"I-LOC\" }\n",
        "# label_to_index = {\"O\": 0, \"B-PER\": 1, \"I-PER\": 2, \"B-ORG\": 3, \"I-ORG\": 4,\"B-LOC\": 5, \"I-LOC\": 6,\"B-MISC\": 7, \"I-MISC\": 8}\n",
        "# index_to_label = {0: \"O\" , 1: \"B-PER\" , 2: \"I-PER\" , 3: \"B-ORG\" , 4: \"I-ORG\" ,5: \"B-LOC\" , 6: \"I-LOC\",7: \"B-MISC\",8:  \"I-MISC\" }\n",
        "label2id= {\n",
        "    \"B-LOC\": 0,\n",
        "    \"B-ORG\": 1,\n",
        "    \"B-PER\": 2,\n",
        "    \"I-LOC\": 3,\n",
        "    \"I-ORG\": 4,\n",
        "    \"I-PER\": 5,\n",
        "    \"O\": 6\n",
        "  }\n",
        "id2label= {\n",
        "    \"0\": \"B-LOC\",\n",
        "    \"1\": \"B-ORG\",\n",
        "    \"2\": \"B-PER\",\n",
        "    \"3\": \"I-LOC\",\n",
        "    \"4\": \"I-ORG\",\n",
        "    \"5\": \"I-PER\",\n",
        "    \"6\": \"O\"\n",
        "  }\n",
        "num_labels = len(label_list)"
      ]
    },
    {
      "cell_type": "code",
      "execution_count": null,
      "metadata": {
        "id": "Av4v_l_OU-Fe"
      },
      "outputs": [],
      "source": [
        "text_column_name = \"tokens\"\n",
        "label_column_name = \"ner_tags\""
      ]
    },
    {
      "cell_type": "code",
      "execution_count": null,
      "metadata": {
        "id": "CkW4DxNfifit"
      },
      "outputs": [],
      "source": [
        "# Sample only 1,00,000 entries from the training dataset\n",
        "train_dataset_sampled = data['train'].shuffle(seed=53).select(range(100000))"
      ]
    },
    {
      "cell_type": "code",
      "execution_count": null,
      "metadata": {
        "id": "_reQTFqlihyT",
        "colab": {
          "base_uri": "https://localhost:8080/"
        },
        "outputId": "42f1be5c-8711-44e6-b52e-5233d97f4e28"
      },
      "outputs": [
        {
          "output_type": "execute_result",
          "data": {
            "text/plain": [
              "['मी',\n",
              " 'आज',\n",
              " 'या',\n",
              " 'शुभ',\n",
              " 'प्रसंगी',\n",
              " ',',\n",
              " 'या',\n",
              " 'भव्य',\n",
              " 'आयोजनासाठी',\n",
              " 'समितीला',\n",
              " 'शुभेच्छा',\n",
              " 'देतो',\n",
              " ',',\n",
              " 'पूज्य',\n",
              " 'महाराज',\n",
              " 'साहेबांना',\n",
              " 'वंदन',\n",
              " 'करतो',\n",
              " 'आणि',\n",
              " 'भगवान',\n",
              " 'महावीरांच्या',\n",
              " 'चरणी',\n",
              " 'प्रार्थना',\n",
              " 'करतो',\n",
              " 'की',\n",
              " 'अशा',\n",
              " 'आचार्य',\n",
              " 'भगवंतांना',\n",
              " 'अशी',\n",
              " 'आचार्य',\n",
              " 'शक्ती',\n",
              " 'दे',\n",
              " ',',\n",
              " 'अशी',\n",
              " 'दिव्यता',\n",
              " 'दे',\n",
              " 'की',\n",
              " 'येणाऱ्या',\n",
              " 'शतकापर्यंत',\n",
              " 'मानवजातीच्या',\n",
              " 'कल्याणासाठी',\n",
              " 'त्यांचा',\n",
              " 'मार्ग',\n",
              " 'आमच्या',\n",
              " 'कामी',\n",
              " 'येईल',\n",
              " '.']"
            ]
          },
          "metadata": {},
          "execution_count": 14
        }
      ],
      "source": [
        "train_dataset_sampled['tokens'][0]"
      ]
    },
    {
      "cell_type": "code",
      "execution_count": null,
      "metadata": {
        "id": "VsHevPyTixd1"
      },
      "outputs": [],
      "source": [
        "max_seq_length = max(len(seq) for seq in train_dataset_sampled['tokens'])"
      ]
    },
    {
      "cell_type": "code",
      "execution_count": null,
      "metadata": {
        "id": "RMHF5L6Ki-ho",
        "colab": {
          "base_uri": "https://localhost:8080/"
        },
        "outputId": "4dcd0d72-885d-4c59-bf43-7a5f13c6acf2"
      },
      "outputs": [
        {
          "output_type": "execute_result",
          "data": {
            "text/plain": [
              "100"
            ]
          },
          "metadata": {},
          "execution_count": 10
        }
      ],
      "source": [
        "max_seq_length"
      ]
    },
    {
      "cell_type": "code",
      "execution_count": null,
      "metadata": {
        "id": "js8FvE3yedk-"
      },
      "outputs": [],
      "source": [
        "# model=model.to(\"cuda\")"
      ]
    },
    {
      "cell_type": "code",
      "execution_count": null,
      "metadata": {
        "id": "ZwDWp_giMJwf"
      },
      "outputs": [],
      "source": [
        "# Tokenize all texts and align the labels with them.\n",
        "padding = \"max_length\"\n",
        "def tokenize_and_align_labels(examples):\n",
        "    tokenized_inputs = tokenizer(\n",
        "        examples[text_column_name],\n",
        "        # padding=padding,\n",
        "        # truncation=True,\n",
        "        # max_length=max_seq_length,\n",
        "        # We use this argument because the texts in our dataset are lists of words (with a label for each word).\n",
        "        is_split_into_words=True,\n",
        "    )\n",
        "    labels = []\n",
        "    for i, label in enumerate(examples[label_column_name]):\n",
        "        # print('=====')\n",
        "        # print('{} {}'.format(i,label)) #ak\n",
        "        word_ids = tokenized_inputs.word_ids(batch_index=i)\n",
        "\n",
        "        previous_word_idx = None\n",
        "        label_ids = []\n",
        "        for word_idx in word_ids:\n",
        "            # if i==0:\n",
        "            #   print(word_idx)\n",
        "            # Special tokens have a word id that is None. We set the label to -100 so they are automatically\n",
        "            # ignored in the loss function.\n",
        "            if word_idx is None:\n",
        "                label_ids.append(-100)\n",
        "            # We set the label for the first token of each word.\n",
        "            elif word_idx != previous_word_idx:\n",
        "                label_ids.append(label[word_idx])\n",
        "            # For the other tokens in a word, we set the label to either the current label or -100, depending on\n",
        "            # the label_all_tokens flag.\n",
        "            else:\n",
        "                # label_ids.append(-100)\n",
        "                label_ids.append(label[word_idx]) #changed this to make all the tokens of a word have the same label\n",
        "            previous_word_idx = word_idx\n",
        "\n",
        "        labels.append(label_ids)\n",
        "    tokenized_inputs[\"labels\"] = labels\n",
        "    return tokenized_inputs"
      ]
    },
    {
      "cell_type": "code",
      "execution_count": null,
      "metadata": {
        "id": "oEhWoszfehp4",
        "colab": {
          "base_uri": "https://localhost:8080/",
          "height": 49,
          "referenced_widgets": [
            "8c916a0f65af4b3ba329527dc74a3036",
            "a69a549953d34529802e2c01fed44092",
            "578a6f9ef4754326b4cb0bb275313653",
            "b17756c5889d464b82055eb72f1e2b42",
            "8daa2982ea894e4f97b0c69be0a46d96",
            "f1a9745c2e384ac79913c4f54637fb0d",
            "d39fc99b363d48a1ae7a6ae96b343547",
            "fd3e3c64b11d471b9aaf4937a1d095ff",
            "0600638aebde45d594984d26bfe67d95",
            "49a2d552d880446ca1694467a76f5b04",
            "8be0ca0f86164922852a3bbea0fa2f46"
          ]
        },
        "outputId": "783696d5-8a42-4f56-fa59-24e7994665f9"
      },
      "outputs": [
        {
          "output_type": "display_data",
          "data": {
            "text/plain": [
              "Running tokenizer on train dataset (num_proc=32):   0%|          | 0/100000 [00:00<?, ? examples/s]"
            ],
            "application/vnd.jupyter.widget-view+json": {
              "version_major": 2,
              "version_minor": 0,
              "model_id": "8c916a0f65af4b3ba329527dc74a3036"
            }
          },
          "metadata": {}
        }
      ],
      "source": [
        "train_dataset = train_dataset_sampled\n",
        "train_dataset = train_dataset.map(\n",
        "    tokenize_and_align_labels,\n",
        "    batched=True,\n",
        "    num_proc=32,\n",
        "    load_from_cache_file=True,\n",
        "    desc=\"Running tokenizer on train dataset\",\n",
        "    batch_size=500,\n",
        ")"
      ]
    },
    {
      "cell_type": "code",
      "source": [
        "train_dataset['tokens'][3]"
      ],
      "metadata": {
        "colab": {
          "base_uri": "https://localhost:8080/"
        },
        "id": "1I4HULn4Zokn",
        "outputId": "f8f5dd49-57c5-4eb1-e6f6-61a15e2ec3ac"
      },
      "execution_count": null,
      "outputs": [
        {
          "output_type": "execute_result",
          "data": {
            "text/plain": [
              "['मी', 'त्यांचे', 'समर्थन', '.']"
            ]
          },
          "metadata": {},
          "execution_count": 22
        }
      ]
    },
    {
      "cell_type": "code",
      "source": [
        "tokenizer.convert_ids_to_tokens(train_dataset['input_ids'][3][:20])"
      ],
      "metadata": {
        "colab": {
          "base_uri": "https://localhost:8080/"
        },
        "id": "bh_9HLtMZZoW",
        "outputId": "7de4f216-081d-47e2-e11b-aa5cf1c63709"
      },
      "execution_count": null,
      "outputs": [
        {
          "output_type": "execute_result",
          "data": {
            "text/plain": [
              "['[CLS]', '▁म', '▁तय', 'च', '▁समर', 'थन', '▁.', '[SEP]']"
            ]
          },
          "metadata": {},
          "execution_count": 23
        }
      ]
    },
    {
      "cell_type": "code",
      "source": [
        "train_dataset['labels'][3][:10]"
      ],
      "metadata": {
        "id": "HubLMSewruDH",
        "colab": {
          "base_uri": "https://localhost:8080/"
        },
        "outputId": "6e0c81bc-523c-4821-b1de-52d86fcfdd43"
      },
      "execution_count": null,
      "outputs": [
        {
          "output_type": "execute_result",
          "data": {
            "text/plain": [
              "[-100, 0, 0, 0, 0, 0, 0, -100]"
            ]
          },
          "metadata": {},
          "execution_count": 24
        }
      ]
    },
    {
      "cell_type": "code",
      "source": [
        "train_dataset['tokens'][3]"
      ],
      "metadata": {
        "colab": {
          "base_uri": "https://localhost:8080/"
        },
        "id": "mUfqQQR3adFr",
        "outputId": "93962813-2738-475d-a61f-06cf469ccb09"
      },
      "execution_count": null,
      "outputs": [
        {
          "output_type": "execute_result",
          "data": {
            "text/plain": [
              "['मी', 'त्यांचे', 'समर्थन', '.']"
            ]
          },
          "metadata": {},
          "execution_count": 25
        }
      ]
    },
    {
      "cell_type": "code",
      "execution_count": null,
      "metadata": {
        "id": "UGbziIF-erIM",
        "colab": {
          "base_uri": "https://localhost:8080/",
          "height": 49,
          "referenced_widgets": [
            "ac50785ed1ea4cd4bb3a705eee77642b",
            "1b4a621f96ce4dbe83050dda66fe7edb",
            "5fd3fcd66c3449239f78f279d7e14412",
            "8419bd1449a24cf48ca0af5a1570707e",
            "3b1ebb8d4a6044a48d2cf84acf4aaa96",
            "28786c7629ea4410a8c26193ce1a044f",
            "11004bacce464dd49810677125d35f26",
            "636fd685bd474dbd8e7a17fe6b0c3ad5",
            "e831d675214c4a4e90b8f96deb8dde13",
            "bbe93c75e85a47779bc3632085cde25a",
            "da7640d9cb60455496f3455517d58786"
          ]
        },
        "outputId": "cdc6ea8d-f80e-4a39-ae7d-b817b4df0fa0"
      },
      "outputs": [
        {
          "output_type": "display_data",
          "data": {
            "text/plain": [
              "Running tokenizer on Validation dataset (num_proc=4):   0%|          | 0/2300 [00:00<?, ? examples/s]"
            ],
            "application/vnd.jupyter.widget-view+json": {
              "version_major": 2,
              "version_minor": 0,
              "model_id": "ac50785ed1ea4cd4bb3a705eee77642b"
            }
          },
          "metadata": {}
        }
      ],
      "source": [
        "eval_dataset = data[\"validation\"]\n",
        "eval_dataset = eval_dataset.map(\n",
        "    tokenize_and_align_labels,\n",
        "    batched=True,\n",
        "    num_proc=4,\n",
        "    load_from_cache_file=True,\n",
        "    desc=\"Running tokenizer on Validation dataset\",\n",
        "    batch_size=8,\n",
        ")"
      ]
    },
    {
      "cell_type": "code",
      "source": [
        "eval_dataset['labels'][0][:10]"
      ],
      "metadata": {
        "colab": {
          "base_uri": "https://localhost:8080/"
        },
        "id": "K62ClQM2ZWfH",
        "outputId": "51804e38-c9ab-429f-e60d-fca560a9320d"
      },
      "execution_count": null,
      "outputs": [
        {
          "output_type": "execute_result",
          "data": {
            "text/plain": [
              "[-100, 5, 5, 0, 0, 0, 0, 0, 0, -100]"
            ]
          },
          "metadata": {},
          "execution_count": 27
        }
      ]
    },
    {
      "cell_type": "markdown",
      "metadata": {
        "id": "otaDz1H7BiPC"
      },
      "source": [
        "**Create Data Collator, Metrics**"
      ]
    },
    {
      "cell_type": "code",
      "execution_count": null,
      "metadata": {
        "id": "k_IPs2dPfIaR"
      },
      "outputs": [],
      "source": [
        "data_collator = DataCollatorForTokenClassification(tokenizer)"
      ]
    },
    {
      "cell_type": "code",
      "execution_count": null,
      "metadata": {
        "id": "tgJ4EXYofS9f"
      },
      "outputs": [],
      "source": [
        "# Metrics\n",
        "metric = load_metric(\"seqeval\")\n",
        "\n",
        "def compute_metrics(p):\n",
        "    predictions, labels = p\n",
        "    predictions = np.argmax(predictions, axis=2)\n",
        "\n",
        "    # Remove ignored index (special tokens)\n",
        "    true_predictions = [\n",
        "        [label_list[p] for (p, l) in zip(prediction, label) if l != -100]\n",
        "        for prediction, label in zip(predictions, labels)\n",
        "    ]\n",
        "    true_labels = [\n",
        "        [label_list[l] for (p, l) in zip(prediction, label) if l != -100]\n",
        "        for prediction, label in zip(predictions, labels)\n",
        "    ]\n",
        "    # macro_f1 = f1_score(true_labels, true_predictions, average='macro')\n",
        "    results = metric.compute(predictions=true_predictions, references=true_labels)\n",
        "    # Unpack nested dictionaries\n",
        "    final_results = {}\n",
        "    for key, value in results.items():\n",
        "        if isinstance(value, dict):\n",
        "            for n, v in value.items():\n",
        "                final_results[f\"{key}_{n}\"] = v\n",
        "        else:\n",
        "            final_results[key] = value\n",
        "    # final_results['macro_f1'] = macro_f1;\n",
        "    return final_results"
      ]
    },
    {
      "cell_type": "markdown",
      "metadata": {
        "id": "B4fQl8c1B1CO"
      },
      "source": [
        "**Set Training Arguments**"
      ]
    },
    {
      "cell_type": "code",
      "execution_count": null,
      "metadata": {
        "id": "6VqwJ7ugRD7X"
      },
      "outputs": [],
      "source": [
        "args=TrainingArguments(\n",
        "    output_dir=\"/content/gdrive/MyDrive/cs689/a2/\",\n",
        "    per_device_train_batch_size=50,\n",
        "\n",
        "\n",
        "    per_device_eval_batch_size=8,num_train_epochs=5,save_steps=5000,save_safetensors=False,weight_decay = 1e-6)"
      ]
    },
    {
      "cell_type": "markdown",
      "metadata": {
        "id": "Qn30_OWzCFTM"
      },
      "source": [
        "\n",
        "**Training**"
      ]
    },
    {
      "cell_type": "code",
      "source": [
        "# # Load the last saved checkpoint\n",
        "# checkpoint_path = '/content/gdrive/MyDrive/cs689/a2/checkpoint-10000/pytorch_model.bin'\n",
        "# checkpoint = torch.load(checkpoint_path,map_location=torch.device('cpu'))\n",
        "# # checkpoint = torch.load(checkpoint_path)\n",
        "\n",
        "# # Load the model weights from the checkpoint\n",
        "# model.load_state_dict(checkpoint)"
      ],
      "metadata": {
        "id": "8NSa8_xRK7ew",
        "colab": {
          "base_uri": "https://localhost:8080/"
        },
        "outputId": "5a83e1af-9709-429a-b5a6-49940cdb2949"
      },
      "execution_count": null,
      "outputs": [
        {
          "output_type": "execute_result",
          "data": {
            "text/plain": [
              "<All keys matched successfully>"
            ]
          },
          "metadata": {},
          "execution_count": 7
        }
      ]
    },
    {
      "cell_type": "code",
      "source": [
        "# checkpoint.keys()"
      ],
      "metadata": {
        "id": "yM0olZjbPhcT"
      },
      "execution_count": null,
      "outputs": []
    },
    {
      "cell_type": "code",
      "execution_count": null,
      "metadata": {
        "id": "vBz8ZFYGfakw"
      },
      "outputs": [],
      "source": [
        "# Initialize our Trainer\n",
        "# early_stopping_callback = EarlyStoppingCallback(early_stopping_patience=2)\n",
        "# args.metric_for_best_model = \"f1\"\n",
        "# args.load_best_model_at_end = True\n",
        "# args.evaluation_strategy = IntervalStrategy.STEPS\n",
        "# args.eval_steps = args.save_steps\n",
        "# args.greater_is_better = True\n",
        "\n",
        "trainer = Trainer(\n",
        "    model=model,\n",
        "    train_dataset=train_dataset,\n",
        "    eval_dataset=eval_dataset,\n",
        "    tokenizer=tokenizer,\n",
        "    data_collator=data_collator,\n",
        "    compute_metrics=compute_metrics,\n",
        "    # callbacks=[early_stopping_callback],\n",
        "    args=args,\n",
        ")"
      ]
    },
    {
      "cell_type": "code",
      "execution_count": null,
      "metadata": {
        "id": "KvoHHBqaVbQk"
      },
      "outputs": [],
      "source": [
        "trainer.args"
      ]
    },
    {
      "cell_type": "code",
      "execution_count": null,
      "metadata": {
        "id": "JxeugXOWfzIG",
        "colab": {
          "base_uri": "https://localhost:8080/",
          "height": 702
        },
        "outputId": "5878f434-c3dc-48f9-8865-b4bbbf18532d"
      },
      "outputs": [
        {
          "output_type": "display_data",
          "data": {
            "text/plain": [
              "<IPython.core.display.HTML object>"
            ],
            "text/html": [
              "\n",
              "    <div>\n",
              "      \n",
              "      <progress value='10000' max='10000' style='width:300px; height:20px; vertical-align: middle;'></progress>\n",
              "      [10000/10000 1:47:08, Epoch 5/5]\n",
              "    </div>\n",
              "    <table border=\"1\" class=\"dataframe\">\n",
              "  <thead>\n",
              " <tr style=\"text-align: left;\">\n",
              "      <th>Step</th>\n",
              "      <th>Training Loss</th>\n",
              "    </tr>\n",
              "  </thead>\n",
              "  <tbody>\n",
              "    <tr>\n",
              "      <td>500</td>\n",
              "      <td>0.594300</td>\n",
              "    </tr>\n",
              "    <tr>\n",
              "      <td>1000</td>\n",
              "      <td>0.398300</td>\n",
              "    </tr>\n",
              "    <tr>\n",
              "      <td>1500</td>\n",
              "      <td>0.361600</td>\n",
              "    </tr>\n",
              "    <tr>\n",
              "      <td>2000</td>\n",
              "      <td>0.340600</td>\n",
              "    </tr>\n",
              "    <tr>\n",
              "      <td>2500</td>\n",
              "      <td>0.308900</td>\n",
              "    </tr>\n",
              "    <tr>\n",
              "      <td>3000</td>\n",
              "      <td>0.307700</td>\n",
              "    </tr>\n",
              "    <tr>\n",
              "      <td>3500</td>\n",
              "      <td>0.304600</td>\n",
              "    </tr>\n",
              "    <tr>\n",
              "      <td>4000</td>\n",
              "      <td>0.297800</td>\n",
              "    </tr>\n",
              "    <tr>\n",
              "      <td>4500</td>\n",
              "      <td>0.269500</td>\n",
              "    </tr>\n",
              "    <tr>\n",
              "      <td>5000</td>\n",
              "      <td>0.265500</td>\n",
              "    </tr>\n",
              "    <tr>\n",
              "      <td>5500</td>\n",
              "      <td>0.266100</td>\n",
              "    </tr>\n",
              "    <tr>\n",
              "      <td>6000</td>\n",
              "      <td>0.259800</td>\n",
              "    </tr>\n",
              "    <tr>\n",
              "      <td>6500</td>\n",
              "      <td>0.229300</td>\n",
              "    </tr>\n",
              "    <tr>\n",
              "      <td>7000</td>\n",
              "      <td>0.229100</td>\n",
              "    </tr>\n",
              "    <tr>\n",
              "      <td>7500</td>\n",
              "      <td>0.226200</td>\n",
              "    </tr>\n",
              "    <tr>\n",
              "      <td>8000</td>\n",
              "      <td>0.230700</td>\n",
              "    </tr>\n",
              "    <tr>\n",
              "      <td>8500</td>\n",
              "      <td>0.198600</td>\n",
              "    </tr>\n",
              "    <tr>\n",
              "      <td>9000</td>\n",
              "      <td>0.195200</td>\n",
              "    </tr>\n",
              "    <tr>\n",
              "      <td>9500</td>\n",
              "      <td>0.194700</td>\n",
              "    </tr>\n",
              "    <tr>\n",
              "      <td>10000</td>\n",
              "      <td>0.193300</td>\n",
              "    </tr>\n",
              "  </tbody>\n",
              "</table><p>"
            ]
          },
          "metadata": {}
        }
      ],
      "source": [
        "train_result = trainer.train()\n"
      ]
    },
    {
      "cell_type": "code",
      "source": [
        "metrics = train_result.metrics"
      ],
      "metadata": {
        "id": "T-bgh220ROoh"
      },
      "execution_count": null,
      "outputs": []
    },
    {
      "cell_type": "code",
      "execution_count": null,
      "metadata": {
        "id": "yd97CJLvf3-x",
        "colab": {
          "base_uri": "https://localhost:8080/",
          "height": 37
        },
        "outputId": "eab04459-e827-4a9c-9171-bf64f8119d97"
      },
      "outputs": [
        {
          "output_type": "display_data",
          "data": {
            "text/plain": [
              "<IPython.core.display.HTML object>"
            ],
            "text/html": [
              "\n",
              "    <div>\n",
              "      \n",
              "      <progress value='288' max='288' style='width:300px; height:20px; vertical-align: middle;'></progress>\n",
              "      [288/288 00:08]\n",
              "    </div>\n",
              "    "
            ]
          },
          "metadata": {}
        }
      ],
      "source": [
        "metrics = trainer.evaluate()"
      ]
    },
    {
      "cell_type": "code",
      "source": [
        "trainer.log_metrics(\"eval\", metrics)"
      ],
      "metadata": {
        "id": "4QwjViR4UcXF",
        "colab": {
          "base_uri": "https://localhost:8080/"
        },
        "outputId": "2f59138a-3f5f-415d-ee55-c4dbe0d7e8ce"
      },
      "execution_count": null,
      "outputs": [
        {
          "output_type": "stream",
          "name": "stdout",
          "text": [
            "***** eval metrics *****\n",
            "  epoch                   =        5.0\n",
            "  eval_LOC_f1             =     0.7822\n",
            "  eval_LOC_number         =       3110\n",
            "  eval_LOC_precision      =     0.7608\n",
            "  eval_LOC_recall         =     0.8048\n",
            "  eval_ORG_f1             =     0.6935\n",
            "  eval_ORG_number         =       2577\n",
            "  eval_ORG_precision      =     0.6811\n",
            "  eval_ORG_recall         =     0.7062\n",
            "  eval_PER_f1             =     0.7963\n",
            "  eval_PER_number         =       3945\n",
            "  eval_PER_precision      =     0.7939\n",
            "  eval_PER_recall         =     0.7987\n",
            "  eval_loss               =      0.309\n",
            "  eval_overall_accuracy   =     0.9032\n",
            "  eval_overall_f1         =     0.7641\n",
            "  eval_overall_precision  =     0.7526\n",
            "  eval_overall_recall     =      0.776\n",
            "  eval_runtime            = 0:00:09.95\n",
            "  eval_samples_per_second =    231.132\n",
            "  eval_steps_per_second   =     28.942\n"
          ]
        }
      ]
    },
    {
      "cell_type": "code",
      "execution_count": null,
      "metadata": {
        "id": "j8a9XSqll1HL"
      },
      "outputs": [],
      "source": [
        "with open('/content/gdrive/MyDrive/cs689/a2/saved_models/metrics/val_metrics.json', 'w') as f:\n",
        "    json.dump(metrics, f)"
      ]
    },
    {
      "cell_type": "code",
      "source": [
        "metrics = trainer.evaluate(train_dataset)\n"
      ],
      "metadata": {
        "id": "_gFHRo6KjwcU",
        "colab": {
          "base_uri": "https://localhost:8080/",
          "height": 37
        },
        "outputId": "963394c9-929d-4705-ef7d-3a8d0e96f09f"
      },
      "execution_count": null,
      "outputs": [
        {
          "output_type": "display_data",
          "data": {
            "text/plain": [
              "<IPython.core.display.HTML object>"
            ],
            "text/html": [
              "\n",
              "    <div>\n",
              "      \n",
              "      <progress value='12788' max='288' style='width:300px; height:20px; vertical-align: middle;'></progress>\n",
              "      [288/288 06:52]\n",
              "    </div>\n",
              "    "
            ]
          },
          "metadata": {}
        }
      ]
    },
    {
      "cell_type": "code",
      "source": [
        "trainer.log_metrics(\"eval\", metrics)"
      ],
      "metadata": {
        "id": "oe0ERrUVUfPZ",
        "colab": {
          "base_uri": "https://localhost:8080/"
        },
        "outputId": "33a7efa4-2fe1-4089-9d5c-10d9ce77cf4d"
      },
      "execution_count": null,
      "outputs": [
        {
          "output_type": "stream",
          "name": "stdout",
          "text": [
            "***** eval metrics *****\n",
            "  epoch                   =        5.0\n",
            "  eval_LOC_f1             =     0.8633\n",
            "  eval_LOC_number         =     134763\n",
            "  eval_LOC_precision      =     0.8426\n",
            "  eval_LOC_recall         =     0.8851\n",
            "  eval_ORG_f1             =     0.7999\n",
            "  eval_ORG_number         =     105539\n",
            "  eval_ORG_precision      =      0.809\n",
            "  eval_ORG_recall         =     0.7909\n",
            "  eval_PER_f1             =     0.8664\n",
            "  eval_PER_number         =     164191\n",
            "  eval_PER_precision      =     0.8615\n",
            "  eval_PER_recall         =     0.8714\n",
            "  eval_loss               =      0.174\n",
            "  eval_overall_accuracy   =      0.943\n",
            "  eval_overall_f1         =     0.8483\n",
            "  eval_overall_precision  =     0.8418\n",
            "  eval_overall_recall     =      0.855\n",
            "  eval_runtime            = 0:07:53.08\n",
            "  eval_samples_per_second =    211.378\n",
            "  eval_steps_per_second   =     26.422\n"
          ]
        }
      ]
    },
    {
      "cell_type": "code",
      "source": [
        "with open('/content/gdrive/MyDrive/cs689/a2/saved_models/metrics/train_metrics.json', 'w') as f:\n",
        "    json.dump(metrics, f)"
      ],
      "metadata": {
        "id": "p89qULYBj_mi"
      },
      "execution_count": null,
      "outputs": []
    },
    {
      "cell_type": "markdown",
      "metadata": {
        "id": "_YU6MTtiINit"
      },
      "source": [
        "## Evaluate the Trained Model"
      ]
    },
    {
      "cell_type": "markdown",
      "metadata": {
        "id": "jBZdKQdXHgUt"
      },
      "source": [
        "Let us now evaluate the trained model on the test sets of all languages"
      ]
    },
    {
      "cell_type": "markdown",
      "metadata": {
        "id": "L8399hl6HmTS"
      },
      "source": [
        "We need to first tokenize the test sets"
      ]
    },
    {
      "cell_type": "code",
      "execution_count": null,
      "metadata": {
        "id": "npCAivkgEv0Z",
        "colab": {
          "base_uri": "https://localhost:8080/",
          "height": 49,
          "referenced_widgets": [
            "add361dc26b94d16ad48bb1b89f9f83b",
            "a54c1d7f89b9495e865694180a59badd",
            "d1de7f899bad4eac8b576c67d1f72724",
            "5273654ea2224b5aa160fb692ef2834f",
            "b1ac53b8536b4a189e181d5a7ddfd683",
            "8f5a6dd9949a405f8e8c911b5fdf562d",
            "296c8bc1bff34ce6976a459b024e6692",
            "6fc92786724e4dbd8b6c5c548a5e286b",
            "0e10538991c342e89bb3a0aadd0df8bf",
            "9718b5cd940141e5be179789e0a98249",
            "ac62c463381b42669ea4962067d9cb11"
          ]
        },
        "outputId": "e5e6a222-2b2e-4f78-f980-18f2571a7077"
      },
      "outputs": [
        {
          "output_type": "display_data",
          "data": {
            "text/plain": [
              "Map (num_proc=32):   0%|          | 0/1080 [00:00<?, ? examples/s]"
            ],
            "application/vnd.jupyter.widget-view+json": {
              "version_major": 2,
              "version_minor": 0,
              "model_id": "add361dc26b94d16ad48bb1b89f9f83b"
            }
          },
          "metadata": {}
        }
      ],
      "source": [
        "# tokenized_test_set = {}\n",
        "tokenized_test_set = data['test'].map(\n",
        "      tokenize_and_align_labels,\n",
        "      batched=True,\n",
        "      num_proc=32,\n",
        "      load_from_cache_file=True,\n",
        "      # desc=\"Running tokenizer on test dataset of language {0}\".format(lang),\n",
        "      )"
      ]
    },
    {
      "cell_type": "markdown",
      "metadata": {
        "id": "K5xzlcXJHugf"
      },
      "source": [
        "Run prediction on test set of each of the language separately and extract overall `Precison`, `Recall` and `F-Score` separately"
      ]
    },
    {
      "cell_type": "code",
      "source": [
        "tokenized_test_set['ner_tags'][0]"
      ],
      "metadata": {
        "id": "pJLJwkPQ1d15",
        "colab": {
          "base_uri": "https://localhost:8080/"
        },
        "outputId": "6e08ba46-aa5c-4bd8-b4c4-aba72b13818d"
      },
      "execution_count": null,
      "outputs": [
        {
          "output_type": "execute_result",
          "data": {
            "text/plain": [
              "[3, 4, 4, 0, 5, 0, 0, 0, 0]"
            ]
          },
          "metadata": {},
          "execution_count": 50
        }
      ]
    },
    {
      "cell_type": "code",
      "execution_count": null,
      "metadata": {
        "id": "6D41qDnAPPbD",
        "colab": {
          "base_uri": "https://localhost:8080/",
          "height": 17
        },
        "outputId": "f91e2ee9-456b-41ce-bf36-17471ea531e4"
      },
      "outputs": [
        {
          "output_type": "display_data",
          "data": {
            "text/plain": [
              "<IPython.core.display.HTML object>"
            ],
            "text/html": []
          },
          "metadata": {}
        }
      ],
      "source": [
        "# final_metrics = {}\n",
        "\n",
        "# for lang in tokenized_test_set:\n",
        "predictions, labels, metrics = trainer.predict(tokenized_test_set)\n",
        "\n",
        "lang_specific_results = {}\n",
        "for key in metrics:\n",
        "  if 'overall_precision' in key:\n",
        "    lang_specific_results['Precision'] = metrics[key]\n",
        "  elif 'overall_recall' in key:\n",
        "    lang_specific_results['Recall'] = metrics[key]\n",
        "  elif 'overall_f1' in key:\n",
        "    lang_specific_results['F1'] = metrics[key]\n",
        "  # elif 'macro_f1' in key:\n",
        "  #   lang_specific_results['macro_f1'] = metrics[key]\n",
        "final_metrics = lang_specific_results"
      ]
    },
    {
      "cell_type": "code",
      "source": [
        "(predictions[0][0])"
      ],
      "metadata": {
        "id": "CeBqj5EZq4so",
        "colab": {
          "base_uri": "https://localhost:8080/"
        },
        "outputId": "52ecf3be-c407-4f7c-8515-601755ba1f2b"
      },
      "execution_count": null,
      "outputs": [
        {
          "output_type": "execute_result",
          "data": {
            "text/plain": [
              "array([ 1.5927824 , -0.3106748 , -0.7261397 , -0.36029962, -0.6925054 ,\n",
              "       -0.03230964, -0.4041909 ], dtype=float32)"
            ]
          },
          "metadata": {},
          "execution_count": 52
        }
      ]
    },
    {
      "cell_type": "code",
      "execution_count": null,
      "metadata": {
        "id": "nnnHWuGamXws"
      },
      "outputs": [],
      "source": [
        "with open('/content/gdrive/MyDrive/cs689/a2/saved_models/metrics/final_metrics.json', 'w') as f:\n",
        "    json.dump(final_metrics, f)"
      ]
    },
    {
      "cell_type": "markdown",
      "metadata": {
        "id": "Ce7SYK6AH5uK"
      },
      "source": [
        "Print the individual result on each of the language"
      ]
    },
    {
      "cell_type": "code",
      "execution_count": null,
      "metadata": {
        "id": "0yZ57-xjGMQL",
        "colab": {
          "base_uri": "https://localhost:8080/"
        },
        "outputId": "2b1e240b-be47-4d9b-c412-d26cea913ae3"
      },
      "outputs": [
        {
          "output_type": "stream",
          "name": "stdout",
          "text": [
            "                  0\n",
            "Precision  0.814007\n",
            "Recall     0.761814\n",
            "F1         0.787046\n"
          ]
        }
      ],
      "source": [
        "import pandas as pd\n",
        "\n",
        "combined_results = pd.DataFrame.from_dict(\n",
        "            final_metrics, orient=\"index\"\n",
        "        )\n",
        "\n",
        "print(combined_results)"
      ]
    },
    {
      "cell_type": "code",
      "execution_count": null,
      "metadata": {
        "id": "eRcmxBfjNJ4o"
      },
      "outputs": [],
      "source": [
        "combined_results.to_csv('/content/gdrive/MyDrive/cs689/a2/saved_models/metrics/combined_results.csv')"
      ]
    },
    {
      "cell_type": "code",
      "execution_count": null,
      "metadata": {
        "id": "mYQqE9DFyLQb"
      },
      "outputs": [],
      "source": [
        "model=model.to(\"cpu\")"
      ]
    },
    {
      "cell_type": "code",
      "source": [
        "model.config.label2id={\"O\": 0, \"B-PER\": 1, \"I-PER\": 2, \"B-ORG\": 3, \"I-ORG\": 4,\"B-LOC\": 5, \"I-LOC\": 6}\n",
        "model.config.id2label={0: \"O\" , 1: \"B-PER\" , 2: \"I-PER\" , 3: \"B-ORG\" , 4: \"I-ORG\" ,5: \"B-LOC\" , 6: \"I-LOC\" }\n"
      ],
      "metadata": {
        "id": "h9IX9jN32UUN"
      },
      "execution_count": null,
      "outputs": []
    },
    {
      "cell_type": "code",
      "execution_count": null,
      "metadata": {
        "id": "VtW5-KVw0Cx0"
      },
      "outputs": [],
      "source": [
        "def get_predictions( sentence, tokenizer, model ):\n",
        "  # Let us first tokenize the sentence - split words into subwords\n",
        "  tok_sentence = tokenizer(sentence, return_tensors='pt')\n",
        "\n",
        "  with torch.no_grad():\n",
        "    # we will send the tokenized sentence to the model to get predictions\n",
        "    logits = model(**tok_sentence).logits.argmax(-1)\n",
        "\n",
        "    # We will map the maximum predicted class id with the class label\n",
        "    # predicted_tokens_classes = [model.config.id2label[t.item()] for t in logits[0]]\n",
        "    predicted_tokens_classes = [str(t.item()) for t in logits[0]]\n",
        "\n",
        "    predicted_labels = []\n",
        "\n",
        "    previous_token_id = 0\n",
        "    # we need to assign the named entity label to the head word and not the following sub-words\n",
        "    word_ids = tok_sentence.word_ids()\n",
        "    for word_index in range(len(word_ids)):\n",
        "        if word_ids[word_index] == None:\n",
        "            previous_token_id = word_ids[word_index]\n",
        "        elif word_ids[word_index] == previous_token_id:\n",
        "            previous_token_id = word_ids[word_index]\n",
        "        else:\n",
        "            predicted_labels.append( int(predicted_tokens_classes[ word_index ]) )\n",
        "            previous_token_id = word_ids[word_index]\n",
        "\n",
        "    return predicted_labels"
      ]
    },
    {
      "cell_type": "code",
      "execution_count": null,
      "metadata": {
        "colab": {
          "base_uri": "https://localhost:8080/"
        },
        "outputId": "1481b68b-0f2c-4e80-a55d-16b1a637a5d0",
        "id": "s-6vegrOyLQc"
      },
      "outputs": [
        {
          "output_type": "stream",
          "name": "stdout",
          "text": [
            "उल्हासनगर \t 5 रेल्वे \t 0 स्थानक \t 0 हे \t 0 ठाणे \t 5 जिल्ह्यातील \t 0 शहर \t 0 आहे \t 0 . \t 0 "
          ]
        }
      ],
      "source": [
        "# let us try with some example sentences herejj\n",
        "# sentence = 'लगातार हमलावर हो रहे शिवपाल और राजभर को सपा की दो टूक, चिट्ठी जारी कर कहा- जहां जाना चाहें जा सकते हैं'\n",
        "sentence = ' '.join(['उल्हासनगर',\n",
        " 'रेल्वे',\n",
        " 'स्थानक',\n",
        " 'हे',\n",
        " 'ठाणे',\n",
        " 'जिल्ह्यातील',\n",
        " 'शहर',\n",
        " 'आहे',\n",
        " '.'])\n",
        "# sentence = ' '.join(train_dataset['tokens'][1])\n",
        "predicted_labels = get_predictions(sentence=sentence,\n",
        "                                   tokenizer=tokenizer,\n",
        "                                   model=model\n",
        "                                   )\n",
        "\n",
        "for index in range(len(sentence.split(' '))):\n",
        "  print( sentence.split(' ')[index] , '\\t' , predicted_labels[index] ,end=' ')"
      ]
    },
    {
      "cell_type": "code",
      "source": [
        "index_to_label"
      ],
      "metadata": {
        "colab": {
          "base_uri": "https://localhost:8080/"
        },
        "id": "KgepeuPeT43V",
        "outputId": "8a4e2dfd-a9f7-475b-efb3-d4069bc20fd9"
      },
      "execution_count": null,
      "outputs": [
        {
          "output_type": "execute_result",
          "data": {
            "text/plain": [
              "{0: 'O',\n",
              " 1: 'B-PER',\n",
              " 2: 'I-PER',\n",
              " 3: 'B-ORG',\n",
              " 4: 'I-ORG',\n",
              " 5: 'B-LOC',\n",
              " 6: 'I-LOC'}"
            ]
          },
          "metadata": {},
          "execution_count": 16
        }
      ]
    },
    {
      "cell_type": "code",
      "source": [
        "train_actual_labels = []\n",
        "train_predicted_labels = []\n",
        "test_actual_labels = []\n",
        "test_predicted_labels = []\n",
        "validation_actual_labels = []\n",
        "validation_predicted_labels = []"
      ],
      "metadata": {
        "id": "Rlm8aO4Eqlvx"
      },
      "execution_count": null,
      "outputs": []
    },
    {
      "cell_type": "code",
      "source": [
        "train_tags = train_dataset_sampled['ner_tags']\n",
        "train_toks = train_dataset_sampled['tokens']\n",
        "for i in range(len(train_dataset_sampled)):\n",
        "  train_actual_labels.append(train_tags[i])\n",
        "  train_predicted_labels.append(get_predictions(sentence=' '.join(train_toks[i]), tokenizer=tokenizer, model=model))"
      ],
      "metadata": {
        "id": "8bfXKBRnCR5j"
      },
      "execution_count": null,
      "outputs": []
    },
    {
      "cell_type": "code",
      "source": [
        "for i in range(len(data['validation'])):\n",
        "  validation_actual_labels.append(data['validation'][i]['ner_tags'])\n",
        "  predicted_labels = get_predictions(sentence=' '.join(data['validation'][i]['tokens']), tokenizer=tokenizer, model=model)\n",
        "  validation_predicted_labels.append(predicted_labels)"
      ],
      "metadata": {
        "id": "_4JcuVEQroWk"
      },
      "execution_count": null,
      "outputs": []
    },
    {
      "cell_type": "code",
      "source": [
        "for i in range(len(data['test'])):\n",
        "  test_actual_labels.append(data['test'][i]['ner_tags'])\n",
        "  predicted_labels = get_predictions(sentence=' '.join(data['test'][i]['tokens']), tokenizer=tokenizer, model=model)\n",
        "  test_predicted_labels.append(predicted_labels)"
      ],
      "metadata": {
        "id": "ZpDDnSY3rv5c"
      },
      "execution_count": null,
      "outputs": []
    },
    {
      "cell_type": "code",
      "source": [
        "data_to_save = {\n",
        "    \"train_actual_labels\": train_actual_labels,\n",
        "    \"train_predicted_labels\": train_predicted_labels,\n",
        "    \"validation_actual_labels\": validation_actual_labels,\n",
        "    \"validation_predicted_labels\": validation_predicted_labels,\n",
        "    \"test_actual_labels\": test_actual_labels,\n",
        "    \"test_predicted_labels\": test_predicted_labels,\n",
        "}\n",
        "\n",
        "\n",
        "# Save the data to a JSON file\n",
        "with open('/content/gdrive/MyDrive/cs689/a2/saved_models/bert_predictions/prediction_ttv_indicbert.json', 'w') as f:\n",
        "    json.dump(data_to_save, f)"
      ],
      "metadata": {
        "id": "jQ6zUlm9sWEB"
      },
      "execution_count": null,
      "outputs": []
    },
    {
      "cell_type": "code",
      "source": [
        "from sklearn.metrics import precision_recall_fscore_support\n",
        "\n",
        "def calculate_metrics_sentencewise(actual_tags, predicted_tags, labels):\n",
        "    # Initialize lists to store precision, recall, F1 score, and support for each class\n",
        "    precision_list = []\n",
        "    recall_list = []\n",
        "    f1_list = []\n",
        "    macro_f1 = []\n",
        "    # macro_f1 = []\n",
        "    # for actual_tags2, predicted_tags2 in zip(actual_tags,predicted_tags):\n",
        "    for i in range(len(actual_tags)):\n",
        "          if(i%1000==0):\n",
        "            print(i)\n",
        "          if(len(actual_tags[i])!=len(predicted_tags[i])):\n",
        "            continue\n",
        "    # Calculate precision, recall, F1 score, and support for each class\n",
        "      # for label in labels:\n",
        "          # vjvjvj\n",
        "          # Calculate precision, recall, F1 score, and support for the current class\n",
        "          precision, recall, f1, _ = precision_recall_fscore_support(actual_tags[i], predicted_tags[i], labels=labels, average=None,zero_division=0)\n",
        "          # type(precision)\n",
        "          # Append the values to the respective lists\n",
        "          precision_list.append(precision)\n",
        "          recall_list.append(recall)\n",
        "          f1_list.append(f1)\n",
        "          macro_f1.append(sum(f1)/len(f1))\n",
        "        # Calculate macro F1 score\n",
        "      # macro_f1.append(np.sum(f1_list) / len(f1_list))\n",
        "    precision_list = np.sum(precision_list,axis=0)/len(precision_list)\n",
        "    recall_list = np.sum(recall_list,axis=0)/len(recall_list)\n",
        "    f1_list = np.sum(f1_list,axis=0)/len(f1_list)\n",
        "    macro_f1 = sum(macro_f1)/len(macro_f1)\n",
        "    return precision_list, recall_list, f1_list, macro_f1\n"
      ],
      "metadata": {
        "id": "T9SPG7VEh_2k"
      },
      "execution_count": null,
      "outputs": []
    },
    {
      "cell_type": "code",
      "source": [
        "def calculate_metrics_overall(actual_tags, predicted_tags, labels):\n",
        "    # Initialize lists to store precision, recall, F1 score, and support for each class\n",
        "    at=[]\n",
        "    pt=[]\n",
        "    precision_list = []\n",
        "    recall_list = []\n",
        "    f1_list = []\n",
        "    macro_f1 = []\n",
        "    # macro_f1 = []\n",
        "    # for actual_tags2, predicted_tags2 in zip(actual_tags,predicted_tags):\n",
        "    for i in range(len(actual_tags)):\n",
        "          if(i%1000==0):\n",
        "            print(i)\n",
        "          if(len(actual_tags[i])!=len(predicted_tags[i])):\n",
        "            continue\n",
        "          at.extend(actual_tags[i])\n",
        "          pt.extend(predicted_tags[i])\n",
        "\n",
        "    precision, recall, f1, _ = precision_recall_fscore_support(at, pt, labels=labels, average=None,zero_division=0)\n",
        "          # type(precision)\n",
        "          # Append the values to the respective lists\n",
        "    precision_list.append(precision)\n",
        "    recall_list.append(recall)\n",
        "    f1_list.append(f1)\n",
        "    macro_f1.append(sum(f1)/len(f1))\n",
        "        # Calculate macro F1 score\n",
        "      # macro_f1.append(np.sum(f1_list) / len(f1_list))\n",
        "    precision_list = np.sum(precision_list,axis=0)/len(precision_list)\n",
        "    recall_list = np.sum(recall_list,axis=0)/len(recall_list)\n",
        "    f1_list = np.sum(f1_list,axis=0)/len(f1_list)\n",
        "    macro_f1 = sum(macro_f1)/len(macro_f1)\n",
        "    precision_all, recall_all, f1_all, _ = precision_recall_fscore_support(at, pt, labels=labels, average='micro',zero_division=0)\n",
        "    return precision_list, recall_list, f1_list, macro_f1, precision_all, recall_all, f1_all\n",
        "    # return precision_list, recall_list, f1_list, macro_f1"
      ],
      "metadata": {
        "id": "qKk6IX_20bQN"
      },
      "execution_count": null,
      "outputs": []
    },
    {
      "cell_type": "code",
      "source": [
        "with open('/content/gdrive/MyDrive/cs689/a2/saved_models/bert_predictions/prediction_ttv_indicbert.json', 'r') as f:\n",
        "    data_ttv = json.load(f)"
      ],
      "metadata": {
        "id": "firvXU9GwkGT"
      },
      "execution_count": null,
      "outputs": []
    },
    {
      "cell_type": "code",
      "source": [
        "data_ttv['train_predicted_labels'][26]"
      ],
      "metadata": {
        "colab": {
          "base_uri": "https://localhost:8080/"
        },
        "id": "PWqQWu9Hx1t0",
        "outputId": "e6efc9e6-58b7-4c6a-8f7b-ff0d1c557557"
      },
      "execution_count": null,
      "outputs": [
        {
          "output_type": "execute_result",
          "data": {
            "text/plain": [
              "[0, 4, 4, 4, 4, 1, 2, 0, 0, 0, 0, 0, 0, 0, 0, 0, 0, 0]"
            ]
          },
          "metadata": {},
          "execution_count": 155
        }
      ]
    },
    {
      "cell_type": "code",
      "source": [
        "train_dataset_sampled['tokens'][26]"
      ],
      "metadata": {
        "colab": {
          "base_uri": "https://localhost:8080/"
        },
        "id": "3PCKSJIhywz2",
        "outputId": "269353e7-e137-4015-a56e-4a414238ae93"
      },
      "execution_count": null,
      "outputs": [
        {
          "output_type": "execute_result",
          "data": {
            "text/plain": [
              "['मुंबईतील',\n",
              " 'वरळी',\n",
              " 'येथील',\n",
              " 'ग्रीनलॉन्स',\n",
              " 'स्कूलच्या',\n",
              " 'फरझान',\n",
              " 'भरुचाने',\n",
              " '99.20',\n",
              " 'टक्के',\n",
              " 'गुणांसह',\n",
              " 'देशातून',\n",
              " 'दुसरा',\n",
              " 'क्रमांक',\n",
              " 'मिळवला',\n",
              " 'आहे',\n",
              " '.']"
            ]
          },
          "metadata": {},
          "execution_count": 158
        }
      ]
    },
    {
      "cell_type": "code",
      "source": [
        "train_dataset_sampled['ner_tags'][26]"
      ],
      "metadata": {
        "colab": {
          "base_uri": "https://localhost:8080/"
        },
        "id": "UvLrv9Vey-3c",
        "outputId": "6bb8581a-33e7-4c9e-8682-06770ebd6e8b"
      },
      "execution_count": null,
      "outputs": [
        {
          "output_type": "execute_result",
          "data": {
            "text/plain": [
              "[3, 4, 4, 4, 4, 1, 2, 0, 0, 0, 5, 0, 0, 0, 0, 0]"
            ]
          },
          "metadata": {},
          "execution_count": 156
        }
      ]
    },
    {
      "cell_type": "code",
      "execution_count": null,
      "metadata": {
        "id": "DIJgm62_cjDU",
        "colab": {
          "base_uri": "https://localhost:8080/"
        },
        "outputId": "4a6f0036-109a-4cc6-9f83-e3fcf6a0ea76"
      },
      "outputs": [
        {
          "output_type": "stream",
          "name": "stdout",
          "text": [
            "0\n",
            "1000\n",
            "2000\n",
            "0\n",
            "1000\n",
            "2000\n",
            "precision_classwise_sentencewisecalculated:  [0.9500628  0.39874562 0.30215505 0.17809408 0.06241443 0.23042532\n",
            " 0.04286852] \n",
            "recall_classwise_sentencewisecalculated:  [0.95565131 0.39976674 0.29934272 0.17941615 0.06043918 0.23802657\n",
            " 0.04321805] \n",
            "f1_classwise_sentencewisecalculated:  [0.94893187 0.39547    0.29646542 0.17518223 0.05907925 0.23043962\n",
            " 0.042     ] \n",
            "macro_f1_sentencewisecalculated:  0.30679548259164824\n",
            "precision_classwise_overall:  [0.95603712 0.84308365 0.8723545  0.70574713 0.64154104 0.78812861\n",
            " 0.60816327] \n",
            "recall_classwise_overall:  [0.96051575 0.84911894 0.83639822 0.70737327 0.56573117 0.82556131\n",
            " 0.54181818] \n",
            "f1_classwise_overall:  [0.9582712  0.84609053 0.85399806 0.70655926 0.60125589 0.8064108\n",
            " 0.57307692] \n",
            "macro_f1_overall:  0.7636660952994229\n"
          ]
        }
      ],
      "source": [
        "\n",
        "# Have to run this cell thrice for train, testing and validation\n",
        "labels = [0, 1, 2, 3, 4, 5, 6]\n",
        "# # labels = [0, 1, 2, 3]\n",
        "# # Define the actual and predicted tags\n",
        "# # actual_tags = [[0, 0, 1], [2, 2, 3]]\n",
        "# # predicted_tags = [[2, 2, 1], [2, 0, 3]]\n",
        "actual_tags = data_ttv['validation_actual_labels']\n",
        "predicted_tags = data_ttv['validation_predicted_labels']\n",
        "\n",
        "# Calculate metrics\n",
        "precision_list, recall_list, f1_list, macro_f1 = calculate_metrics_sentencewise(actual_tags, predicted_tags, labels)\n",
        "validation_sentwise_stats=[precision_list,recall_list,f1_list,macro_f1]\n",
        "\n",
        "precision_list_overall, recall_list_overall, f1_list_overall, macro_f1_overall = calculate_metrics_overall(actual_tags, predicted_tags, labels)\n",
        "validation_overall_stats=[precision_list_overall,recall_list_overall,f1_list_overall,macro_f1_overall]\n",
        "\n",
        "print('precision_classwise_sentencewisecalculated: ',precision_list,'\\nrecall_classwise_sentencewisecalculated: ',recall_list,\n",
        "      '\\nf1_classwise_sentencewisecalculated: ',f1_list,'\\nmacro_f1_sentencewisecalculated: ',macro_f1)\n",
        "\n",
        "print('precision_classwise_overall: ',precision_list_overall,'\\nrecall_classwise_overall: ',recall_list_overall,\n",
        "      '\\nf1_classwise_overall: ',f1_list_overall,'\\nmacro_f1_overall: ',macro_f1_overall)\n",
        "\n"
      ]
    },
    {
      "cell_type": "code",
      "source": [
        "train_overall_stats[0]"
      ],
      "metadata": {
        "colab": {
          "base_uri": "https://localhost:8080/"
        },
        "id": "MteYI7zK_MRT",
        "outputId": "d0edf99a-b6d7-480b-9a3f-647475c278eb"
      },
      "execution_count": null,
      "outputs": [
        {
          "output_type": "execute_result",
          "data": {
            "text/plain": [
              "array([0.97074165, 0.89355861, 0.91015029, 0.84381716, 0.844869  ,\n",
              "       0.86020977, 0.77656561])"
            ]
          },
          "metadata": {},
          "execution_count": 11
        }
      ]
    },
    {
      "cell_type": "code",
      "source": [
        "with open('/content/gdrive/MyDrive/cs689/a2/saved_models/bert_predictions/stats_ttv_indicbert.txt', 'w') as f3:\n",
        "    f3.write('IndicBERT\\n\\n')\n",
        "    f3.write('Over all the predicted words\\n\\n')\n",
        "    f3.write('TRAINING\\n')\n",
        "    f3.write('MACRO-f1  : %1f\\n' % (train_overall_stats[3]))\n",
        "    f3.write('Metric    :     O    :   B-PER  :   I-PER  :   B-ORG  :   I-ORG  :   B-LOC  :   I-LOC\\n')\n",
        "    f3.write('Precision : %1f : %1f : %1f : %1f : %1f : %1f : %1f\\n' % (train_overall_stats[0][0],train_overall_stats[0][1],train_overall_stats[0][2],train_overall_stats[0][3],train_overall_stats[0][4],train_overall_stats[0][5],train_overall_stats[0][6]))\n",
        "    f3.write('Recall    : %1f : %1f : %1f : %1f : %1f : %1f : %1f\\n' % (train_overall_stats[1][0],train_overall_stats[1][1],train_overall_stats[1][2],train_overall_stats[1][3],train_overall_stats[1][4],train_overall_stats[1][5],train_overall_stats[1][6]))\n",
        "    f3.write('f1        : %1f : %1f : %1f : %1f : %1f : %1f : %1f\\n' % (train_overall_stats[2][0],train_overall_stats[2][1],train_overall_stats[2][2],train_overall_stats[2][3],train_overall_stats[2][4],train_overall_stats[2][5],train_overall_stats[2][6]))\n",
        "    f3.write('\\nTESTING\\n')\n",
        "    f3.write('MACRO-f1  : %1f\\n' % (test_overall_stats[3]))\n",
        "    f3.write('Metric    :     O    :   B-PER  :   I-PER  :   B-ORG  :   I-ORG  :   B-LOC  :   I-LOC\\n')\n",
        "    f3.write('Precision : %1f : %1f : %1f : %1f : %1f : %1f : %1f\\n' % (test_overall_stats[0][0],test_overall_stats[0][1],test_overall_stats[0][2],test_overall_stats[0][3],test_overall_stats[0][4],test_overall_stats[0][5],test_overall_stats[0][6]))\n",
        "    f3.write('Recall    : %1f : %1f : %1f : %1f : %1f : %1f : %1f\\n' % (test_overall_stats[1][0],test_overall_stats[1][1],test_overall_stats[1][2],test_overall_stats[1][3],test_overall_stats[1][4],test_overall_stats[1][5],test_overall_stats[1][6]))\n",
        "    f3.write('f1        : %1f : %1f : %1f : %1f : %1f : %1f : %1f\\n' % (test_overall_stats[2][0],test_overall_stats[2][1],test_overall_stats[2][2],test_overall_stats[2][3],test_overall_stats[2][4],test_overall_stats[2][5],test_overall_stats[2][6]))\n",
        "    f3.write('\\nVALIDATION\\n')\n",
        "    f3.write('MACRO-f1  : %1f\\n' % (validation_overall_stats[3]))\n",
        "    f3.write('Metric    :     O    :   B-PER  :   I-PER  :   B-ORG  :   I-ORG  :   B-LOC  :   I-LOC\\n')\n",
        "    f3.write('Precision : %1f : %1f : %1f : %1f : %1f : %1f : %1f\\n' % (validation_overall_stats[0][0],validation_overall_stats[0][1],validation_overall_stats[0][2],validation_overall_stats[0][3],validation_overall_stats[0][4],validation_overall_stats[0][5],validation_overall_stats[0][6]))\n",
        "    f3.write('Recall    : %1f : %1f : %1f : %1f : %1f : %1f : %1f\\n' % (validation_overall_stats[1][0],validation_overall_stats[1][1],validation_overall_stats[1][2],validation_overall_stats[1][3],validation_overall_stats[1][4],validation_overall_stats[1][5],validation_overall_stats[1][6]))\n",
        "    f3.write('f1        : %1f : %1f : %1f : %1f : %1f : %1f : %1f\\n' % (validation_overall_stats[2][0],validation_overall_stats[2][1],validation_overall_stats[2][2],validation_overall_stats[2][3],validation_overall_stats[2][4],validation_overall_stats[2][5],validation_overall_stats[2][6]))\n",
        "    f3.write('\\n\\n------------------------------------------------------------------------------------------------------------------------------------------\\n\\n')\n",
        "    f3.write('Averaged over sentences (Not very important, just for stats)\\n\\n')\n",
        "    f3.write('TRAINING\\n')\n",
        "    f3.write('MACRO-f1  : %1f\\n' % (train_sentwise_stats[3]))\n",
        "    f3.write('Metric    :     O    :   B-PER  :   I-PER  :   B-ORG  :   I-ORG  :   B-LOC  :   I-LOC\\n')\n",
        "    f3.write('Precision : %1f : %1f : %1f : %1f : %1f : %1f : %1f\\n' % (train_sentwise_stats[0][0],train_sentwise_stats[0][1],train_sentwise_stats[0][2],train_sentwise_stats[0][3],train_sentwise_stats[0][4],train_sentwise_stats[0][5],train_sentwise_stats[0][6]))\n",
        "    f3.write('Recall    : %1f : %1f : %1f : %1f : %1f : %1f : %1f\\n' % (train_sentwise_stats[1][0],train_sentwise_stats[1][1],train_sentwise_stats[1][2],train_sentwise_stats[1][3],train_sentwise_stats[1][4],train_sentwise_stats[1][5],train_sentwise_stats[1][6]))\n",
        "    f3.write('f1        : %1f : %1f : %1f : %1f : %1f : %1f : %1f\\n' % (train_sentwise_stats[2][0],train_sentwise_stats[2][1],train_sentwise_stats[2][2],train_sentwise_stats[2][3],train_sentwise_stats[2][4],train_sentwise_stats[2][5],train_sentwise_stats[2][6]))\n",
        "    f3.write('\\nTESTING\\n')\n",
        "    f3.write('MACRO-f1  : %1f\\n' % (test_sentwise_stats[3]))\n",
        "    f3.write('Metric    :     O    :   B-PER  :   I-PER  :   B-ORG  :   I-ORG  :   B-LOC  :   I-LOC\\n')\n",
        "    f3.write('Precision : %1f : %1f : %1f : %1f : %1f : %1f : %1f\\n' % (test_sentwise_stats[0][0],test_sentwise_stats[0][1],test_sentwise_stats[0][2],test_sentwise_stats[0][3],test_sentwise_stats[0][4],test_sentwise_stats[0][5],test_sentwise_stats[0][6]))\n",
        "    f3.write('Recall    : %1f : %1f : %1f : %1f : %1f : %1f : %1f\\n' % (test_sentwise_stats[1][0],test_sentwise_stats[1][1],test_sentwise_stats[1][2],test_sentwise_stats[1][3],test_sentwise_stats[1][4],test_sentwise_stats[1][5],test_sentwise_stats[1][6]))\n",
        "    f3.write('f1        : %1f : %1f : %1f : %1f : %1f : %1f : %1f\\n' % (test_sentwise_stats[2][0],test_sentwise_stats[2][1],test_sentwise_stats[2][2],test_sentwise_stats[2][3],test_sentwise_stats[2][4],test_sentwise_stats[2][5],test_sentwise_stats[2][6]))\n",
        "    f3.write('\\nVALIDATION\\n')\n",
        "    f3.write('MACRO-f1  : %1f\\n' % (validation_sentwise_stats[3]))\n",
        "    f3.write('Metric    :     O    :   B-PER  :   I-PER  :   B-ORG  :   I-ORG  :   B-LOC  :   I-LOC\\n')\n",
        "    f3.write('Precision : %1f : %1f : %1f : %1f : %1f : %1f : %1f\\n' % (validation_sentwise_stats[0][0],validation_sentwise_stats[0][1],validation_sentwise_stats[0][2],validation_sentwise_stats[0][3],validation_sentwise_stats[0][4],validation_sentwise_stats[0][5],validation_sentwise_stats[0][6]))\n",
        "    f3.write('Recall    : %1f : %1f : %1f : %1f : %1f : %1f : %1f\\n' % (validation_sentwise_stats[1][0],validation_sentwise_stats[1][1],validation_sentwise_stats[1][2],validation_sentwise_stats[1][3],validation_sentwise_stats[1][4],validation_sentwise_stats[1][5],validation_sentwise_stats[1][6]))\n",
        "    f3.write('f1        : %1f : %1f : %1f : %1f : %1f : %1f : %1f\\n' % (validation_sentwise_stats[2][0],validation_sentwise_stats[2][1],validation_sentwise_stats[2][2],validation_sentwise_stats[2][3],validation_sentwise_stats[2][4],validation_sentwise_stats[2][5],validation_sentwise_stats[2][6]))"
      ],
      "metadata": {
        "id": "sMJO6Hz6YDXo"
      },
      "execution_count": null,
      "outputs": []
    },
    {
      "cell_type": "code",
      "source": [
        "import re\n",
        "#converting sentences to proper format for classification\n",
        "def sen_to_list(sentence):\n",
        "\n",
        "  pattern = r'[\\'\\+’\\-\\*/\\.!‘@#$%&~`=,<>\\?\\|\\(\\)]'\n",
        "  words = re.sub(r'([कखगघङचछजझञटठडढणतथदधनपफबभमयरलवशषसहabcdefghijklmnopqrstuvwxyz])(?=[1234567890०१२३४५६७८९])|([1234567890०१२३४५६७८९])(?=[कखगघङचछजझञटठडढणतथदधनपफबभमयरलवशषसहabcdefghijklmnopqrstuvwxyz])', r'\\g<1>\\g<2> ', sentence)\n",
        "  words = re.sub(r'[‘’@#$%&~`=,<>\\+\\-\\?\\|\\(\\)\\'\\*\\.]',r' \\g<0> ' ,words)\n",
        "  words = re.sub('\\xa0',r' ' ,words)\n",
        "  words = words.strip()\n",
        "  words = words.split(' ')\n",
        "  words = [item for item in words if item]\n",
        "  return words"
      ],
      "metadata": {
        "id": "Szv9wpnSGiGW"
      },
      "execution_count": null,
      "outputs": []
    },
    {
      "cell_type": "code",
      "source": [
        "with open('/content/gdrive/MyDrive/cs689/a2/q1_cs689_a2_gpt.txt', 'r') as f2:\n",
        "  gpt = f2.read()"
      ],
      "metadata": {
        "id": "T57fJXMyanlU"
      },
      "execution_count": null,
      "outputs": []
    },
    {
      "cell_type": "code",
      "source": [
        "with open('/content/gdrive/MyDrive/cs689/a2/q1_cs689_a2.txt', 'r') as f3:\n",
        "  orig = f3.read()"
      ],
      "metadata": {
        "id": "RUaWOKivGsbF"
      },
      "execution_count": null,
      "outputs": []
    },
    {
      "cell_type": "code",
      "source": [
        "orig = orig.split('\\n')\n",
        "gpt = gpt.split('\\n')"
      ],
      "metadata": {
        "id": "pZxNA38WHLzT"
      },
      "execution_count": null,
      "outputs": []
    },
    {
      "cell_type": "code",
      "source": [
        "orig = [item for item in orig if item]\n",
        "gpt = [item for item in gpt if item]"
      ],
      "metadata": {
        "id": "mhabRkqyHQSA"
      },
      "execution_count": null,
      "outputs": []
    },
    {
      "cell_type": "code",
      "source": [
        "# orig"
      ],
      "metadata": {
        "id": "1N2zMCpGHfzt"
      },
      "execution_count": null,
      "outputs": []
    },
    {
      "cell_type": "code",
      "source": [
        "q1_list = []\n",
        "q1_actual_labels = []\n",
        "q1_predicted_labels = []\n",
        "q1_gpt_labels = []"
      ],
      "metadata": {
        "id": "UXwGVAOuIAAh"
      },
      "execution_count": null,
      "outputs": []
    },
    {
      "cell_type": "code",
      "source": [
        "for i in range(0,len(orig)-1,2):\n",
        "  q1_list.append(sen_to_list(orig[i][3:]))\n",
        "  q1_actual_labels.append(orig[i+1].split(' '))\n",
        "  q1_gpt_labels.append(gpt[i+1].split(' '))"
      ],
      "metadata": {
        "id": "QEwtQlwAIaaq"
      },
      "execution_count": null,
      "outputs": []
    },
    {
      "cell_type": "code",
      "source": [
        "label_to_index_q1 = {\"O\": 0, \"B-PER\": 1, \"I-PER\": 2, \"B-ORG\": 3, \"I-ORG\": 4,\"B-LOC\": 5, \"I-LOC\": 6, \"B-MISC\":7,\"I-MISC\":8}  # Add more labels as needed\n",
        "index_to_label_q1 = {0: \"O\" , 1: \"B-PER\" , 2: \"I-PER\" , 3: \"B-ORG\" , 4: \"I-ORG\" ,5: \"B-LOC\" , 6: \"I-LOC\",7:\"B-MISC\",8: \"I-MISC\" }  # Add more labels as needed"
      ],
      "metadata": {
        "id": "WsvRs6osbd0T"
      },
      "execution_count": null,
      "outputs": []
    },
    {
      "cell_type": "code",
      "source": [
        "for j in range(len(q1_actual_labels)):\n",
        "  for i in range(len(q1_actual_labels[j])):\n",
        "    q1_actual_labels[j][i] = label_to_index_q1[q1_actual_labels[j][i]]\n",
        "    q1_gpt_labels[j][i] = label_to_index_q1[q1_gpt_labels[j][i]]"
      ],
      "metadata": {
        "id": "0NMLIbv2alno"
      },
      "execution_count": null,
      "outputs": []
    },
    {
      "cell_type": "code",
      "source": [
        " for i in range(len(q1_list)):\n",
        "  # predicted_labels = get_predictions(sentence=' '.join(train_toks[i]), tokenizer=tokenizer, model=model)\n",
        "  # train_predicted_labels.append(predicted_labels)\n",
        "  q1_predicted_labels.append(get_predictions(sentence=' '.join(q1_list[i]), tokenizer=tokenizer, model=model))"
      ],
      "metadata": {
        "id": "sJTrSC3OdE-f"
      },
      "execution_count": null,
      "outputs": []
    },
    {
      "cell_type": "code",
      "source": [
        "\n",
        "# Define the labels\n",
        "labels = [0, 1, 2, 3, 4, 5, 6,7,8]\n",
        "\n",
        "# Calculate metrics\n",
        "precision_list_overall, recall_list_overall, f1_list_overall, macro_f1_overall, precision_all_overall,recall_all_overall,f1_all_overall = calculate_metrics_overall(q1_actual_labels, q1_predicted_labels, labels)\n",
        "bert_vs_manual_overall_stats=[precision_list_overall,recall_list_overall,f1_list_overall,macro_f1_overall,precision_all_overall,recall_all_overall,f1_all_overall]\n",
        "\n",
        "precision_list_overall2, recall_list_overall2, f1_list_overall2, macro_f1_overall2, precision_all_overall2,recall_all_overall2,f1_all_overall2 = calculate_metrics_overall(q1_actual_labels, q1_gpt_labels, labels)\n",
        "gpt_vs_manual_overall2_stats=[precision_list_overall2,recall_list_overall2,f1_list_overall2,macro_f1_overall2, precision_all_overall2,recall_all_overall2,f1_all_overall2]\n",
        "\n",
        "print('precision_classwise_overall: ',precision_list_overall,'\\nrecall_classwise_overall: ',recall_list_overall,\n",
        "      '\\nf1_classwise_overall: ',f1_list_overall,'\\nmacro_f1_overall: ',macro_f1_overall,'\\nprecision_all_overall: ',precision_all_overall,'\\nrecall_all_overall: ',recall_all_overall,\n",
        "      '\\nf1_all_overall: ',f1_all_overall)\n",
        "\n",
        "print('precision_classwise_overall2: ',precision_list_overall2,'\\nrecall_classwise_overall2: ',recall_list_overall2,\n",
        "      '\\nf1_classwise_overall2: ',f1_list_overall2,'\\nmacro_f1_overall2: ',macro_f1_overall2,'\\nprecision_all_overall2: ',precision_all_overall2,'\\nrecall_all_overall2: ',recall_all_overall2,\n",
        "      '\\nf1_all_overall2: ',f1_all_overall2)\n",
        "\n"
      ],
      "metadata": {
        "id": "nzLqdFxTeiSl",
        "colab": {
          "base_uri": "https://localhost:8080/"
        },
        "outputId": "71a73e28-1528-4cd8-cb32-0422223bee1c"
      },
      "execution_count": null,
      "outputs": [
        {
          "output_type": "stream",
          "name": "stdout",
          "text": [
            "0\n",
            "0\n",
            "precision_classwise_overall:  [0.81108312 0.6        0.75       0.68421053 0.65217391 0.5\n",
            " 0.25       0.         0.        ] \n",
            "recall_classwise_overall:  [0.95266272 0.9        0.75       0.56521739 0.71428571 0.5\n",
            " 1.         0.         0.        ] \n",
            "f1_classwise_overall:  [0.87619048 0.72       0.75       0.61904762 0.68181818 0.5\n",
            " 0.4        0.         0.        ] \n",
            "macro_f1_overall:  0.5052284752284754 \n",
            "precision_all_overall:  0.7815126050420168 \n",
            "recall_all_overall:  0.7815126050420168 \n",
            "f1_all_overall:  0.7815126050420168\n",
            "precision_classwise_overall2:  [0.75555556 0.57142857 0.5        0.         0.         0.\n",
            " 0.         1.         1.        ] \n",
            "recall_classwise_overall2:  [0.98421053 0.4        0.33333333 0.         0.         0.\n",
            " 0.         0.04       0.025     ] \n",
            "f1_classwise_overall2:  [0.85485714 0.47058824 0.4        0.         0.         0.\n",
            " 0.         0.07692308 0.04878049] \n",
            "macro_f1_overall2:  0.20568321587546834 \n",
            "precision_all_overall2:  0.7413127413127413 \n",
            "recall_all_overall2:  0.7413127413127413 \n",
            "f1_all_overall2:  0.7413127413127413\n"
          ]
        }
      ]
    },
    {
      "cell_type": "code",
      "source": [
        "with open('/content/gdrive/MyDrive/cs689/a2/saved_models/bert_predictions/bert_vs_manual.txt', 'w') as f3:\n",
        "    f3.write('IndicBERT\\n\\n')\n",
        "    f3.write('Over all the predicted words over all 9 labels\\n\\n')\n",
        "    f3.write('BERT Model\\n')\n",
        "    f3.write('MACRO-f1  : %1f\\n' % (bert_vs_manual_overall_stats[3]))\n",
        "    f3.write('Metric    :     O    :   B-PER  :   I-PER  :   B-ORG  :   I-ORG  :   B-LOC  :   I-LOC  :  B-MISC  :  I-MISC\\n')\n",
        "    f3.write('Precision : %1f : %1f : %1f : %1f : %1f : %1f : %1f : %1f : %1f\\n' % (bert_vs_manual_overall_stats[0][0],bert_vs_manual_overall_stats[0][1],bert_vs_manual_overall_stats[0][2],bert_vs_manual_overall_stats[0][3],bert_vs_manual_overall_stats[0][4],bert_vs_manual_overall_stats[0][5],bert_vs_manual_overall_stats[0][6],bert_vs_manual_overall_stats[0][7],bert_vs_manual_overall_stats[0][8]))\n",
        "    f3.write('Recall    : %1f : %1f : %1f : %1f : %1f : %1f : %1f : %1f : %1f\\n' % (bert_vs_manual_overall_stats[1][0],bert_vs_manual_overall_stats[1][1],bert_vs_manual_overall_stats[1][2],bert_vs_manual_overall_stats[1][3],bert_vs_manual_overall_stats[1][4],bert_vs_manual_overall_stats[1][5],bert_vs_manual_overall_stats[1][6],bert_vs_manual_overall_stats[1][7],bert_vs_manual_overall_stats[1][8]))\n",
        "    f3.write('f1        : %1f : %1f : %1f : %1f : %1f : %1f : %1f : %1f : %1f\\n' % (bert_vs_manual_overall_stats[2][0],bert_vs_manual_overall_stats[2][1],bert_vs_manual_overall_stats[2][2],bert_vs_manual_overall_stats[2][3],bert_vs_manual_overall_stats[2][4],bert_vs_manual_overall_stats[2][5],bert_vs_manual_overall_stats[2][6],bert_vs_manual_overall_stats[2][7],bert_vs_manual_overall_stats[2][8]))\n",
        "    f3.write('Prec_all  : %1f\\n' % (bert_vs_manual_overall_stats[4]))\n",
        "    f3.write('Recall_all: %1f\\n' % (bert_vs_manual_overall_stats[5]))\n",
        "    f3.write('f1_all    : %1f\\n' % (bert_vs_manual_overall_stats[6]))\n",
        "    f3.write('\\nGPT\\n')\n",
        "    f3.write('MACRO-f1  : %1f\\n' % (gpt_vs_manual_overall2_stats[3]))\n",
        "    f3.write('Metric    :     O    :   B-PER  :   I-PER  :   B-ORG  :   I-ORG  :   B-LOC  :   I-LOC  :  B-MISC  :  I-MISC\\n')\n",
        "    f3.write('Precision : %1f : %1f : %1f : %1f : %1f : %1f : %1f : %1f : %1f\\n' % (gpt_vs_manual_overall2_stats[0][0],gpt_vs_manual_overall2_stats[0][1],gpt_vs_manual_overall2_stats[0][2],gpt_vs_manual_overall2_stats[0][3],gpt_vs_manual_overall2_stats[0][4],gpt_vs_manual_overall2_stats[0][5],gpt_vs_manual_overall2_stats[0][6],gpt_vs_manual_overall2_stats[0][7],gpt_vs_manual_overall2_stats[0][8]))\n",
        "    f3.write('Recall    : %1f : %1f : %1f : %1f : %1f : %1f : %1f : %1f : %1f\\n' % (gpt_vs_manual_overall2_stats[1][0],gpt_vs_manual_overall2_stats[1][1],gpt_vs_manual_overall2_stats[1][2],gpt_vs_manual_overall2_stats[1][3],gpt_vs_manual_overall2_stats[1][4],gpt_vs_manual_overall2_stats[1][5],gpt_vs_manual_overall2_stats[1][6],gpt_vs_manual_overall2_stats[1][7],gpt_vs_manual_overall2_stats[1][8]))\n",
        "    f3.write('f1        : %1f : %1f : %1f : %1f : %1f : %1f : %1f : %1f : %1f\\n' % (gpt_vs_manual_overall2_stats[2][0],gpt_vs_manual_overall2_stats[2][1],gpt_vs_manual_overall2_stats[2][2],gpt_vs_manual_overall2_stats[2][3],gpt_vs_manual_overall2_stats[2][4],gpt_vs_manual_overall2_stats[2][5],gpt_vs_manual_overall2_stats[2][6],gpt_vs_manual_overall2_stats[2][7],gpt_vs_manual_overall2_stats[2][8]))\n",
        "    f3.write('Prec_all  : %1f\\n' % (gpt_vs_manual_overall2_stats[4]))\n",
        "    f3.write('Recall_all: %1f\\n' % (gpt_vs_manual_overall2_stats[5]))\n",
        "    f3.write('f1_all    : %1f\\n' % (gpt_vs_manual_overall2_stats[6]))"
      ],
      "metadata": {
        "id": "aFqAUT5_i4Yy"
      },
      "execution_count": null,
      "outputs": []
    }
  ]
}