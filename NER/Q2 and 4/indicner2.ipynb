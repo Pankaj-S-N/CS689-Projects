{
  "cells": [
    {
      "cell_type": "code",
      "execution_count": null,
      "metadata": {
        "colab": {
          "base_uri": "https://localhost:8080/"
        },
        "id": "Ws38mXVzMeWA",
        "outputId": "f984b310-20ba-4941-96aa-ca22a41075be"
      },
      "outputs": [
        {
          "output_type": "stream",
          "name": "stdout",
          "text": [
            "Mounted at /content/gdrive\n"
          ]
        }
      ],
      "source": [
        "from google.colab import drive\n",
        "drive.mount('/content/gdrive')"
      ]
    },
    {
      "cell_type": "code",
      "execution_count": null,
      "metadata": {
        "id": "ypbWu0MBNI6P"
      },
      "outputs": [],
      "source": [
        "!pip3 install transformers\n",
        "!pip3 install datasets\n",
        "!pip3 install sentencepiece\n",
        "!pip3 install seqeval\n",
        "!pip3 install accelerate"
      ]
    },
    {
      "cell_type": "code",
      "execution_count": null,
      "metadata": {
        "id": "EP54OtZZIXuU"
      },
      "outputs": [],
      "source": [
        "# Import all the necessary classes and initialize the tokenizer and model.\n",
        "from transformers import AutoTokenizer, AutoModelForTokenClassification\n",
        "import torch\n",
        "\n",
        "tokenizer = AutoTokenizer.from_pretrained(\"ai4bharat/IndicNER\")\n",
        "\n",
        "model = AutoModelForTokenClassification.from_pretrained(\"ai4bharat/IndicNER\",)"
      ]
    },
    {
      "cell_type": "code",
      "execution_count": null,
      "metadata": {
        "id": "-r1Vuab5M29y"
      },
      "outputs": [],
      "source": [
        "from sklearn.model_selection import train_test_split\n",
        "import json\n",
        "from transformers import AutoModelForTokenClassification, AutoConfig, AutoTokenizer, TrainingArguments, Trainer, DataCollatorForTokenClassification, EarlyStoppingCallback, IntervalStrategy, pipeline\n",
        "import numpy as np\n",
        "from sklearn.metrics import precision_recall_fscore_support,f1_score\n",
        "from datasets import ClassLabel, load_dataset, load_metric, DownloadMode, Dataset, Value, Features"
      ]
    },
    {
      "cell_type": "code",
      "execution_count": null,
      "metadata": {
        "id": "8czis05xUJDQ"
      },
      "outputs": [],
      "source": [
        "lang='mr'\n",
        "\n",
        "data = load_dataset('ai4bharat/naamapadam', lang) #importing online"
      ]
    },
    {
      "cell_type": "code",
      "execution_count": null,
      "metadata": {
        "colab": {
          "base_uri": "https://localhost:8080/"
        },
        "id": "v9ywLACqUe4n",
        "outputId": "53deda80-84b9-426c-96c7-8705e22a1361"
      },
      "outputs": [
        {
          "data": {
            "text/plain": [
              "DatasetDict({\n",
              "    train: Dataset({\n",
              "        features: ['tokens', 'ner_tags'],\n",
              "        num_rows: 455248\n",
              "    })\n",
              "    test: Dataset({\n",
              "        features: ['tokens', 'ner_tags'],\n",
              "        num_rows: 1080\n",
              "    })\n",
              "    validation: Dataset({\n",
              "        features: ['tokens', 'ner_tags'],\n",
              "        num_rows: 2300\n",
              "    })\n",
              "})"
            ]
          },
          "execution_count": 8,
          "metadata": {},
          "output_type": "execute_result"
        }
      ],
      "source": [
        "data #data format"
      ]
    },
    {
      "cell_type": "code",
      "execution_count": null,
      "metadata": {
        "id": "rBinRTusUCve"
      },
      "outputs": [],
      "source": [
        "label_list = [\"O\", \"B-PER\", \"I-PER\", \"B-ORG\", \"I-ORG\",\"B-LOC\", \"I-LOC\"]\n",
        "label_to_index = {\"O\": 0, \"B-PER\": 1, \"I-PER\": 2, \"B-ORG\": 3, \"I-ORG\": 4,\"B-LOC\": 5, \"I-LOC\": 6}\n",
        "index_to_label = {0: \"O\" , 1: \"B-PER\" , 2: \"I-PER\" , 3: \"B-ORG\" , 4: \"I-ORG\" ,5: \"B-LOC\" , 6: \"I-LOC\" }\n",
        "# label_to_index = {\"O\": 0, \"B-PER\": 1, \"I-PER\": 2, \"B-ORG\": 3, \"I-ORG\": 4,\"B-LOC\": 5, \"I-LOC\": 6,\"B-MISC\": 7, \"I-MISC\": 8}\n",
        "# index_to_label = {0: \"O\" , 1: \"B-PER\" , 2: \"I-PER\" , 3: \"B-ORG\" , 4: \"I-ORG\" ,5: \"B-LOC\" , 6: \"I-LOC\",7: \"B-MISC\",8:  \"I-MISC\" }\n",
        "label2id= {\n",
        "    \"B-LOC\": 0,\n",
        "    \"B-ORG\": 1,\n",
        "    \"B-PER\": 2,\n",
        "    \"I-LOC\": 3,\n",
        "    \"I-ORG\": 4,\n",
        "    \"I-PER\": 5,\n",
        "    \"O\": 6\n",
        "  }\n",
        "id2label= {\n",
        "    \"0\": \"B-LOC\",\n",
        "    \"1\": \"B-ORG\",\n",
        "    \"2\": \"B-PER\",\n",
        "    \"3\": \"I-LOC\",\n",
        "    \"4\": \"I-ORG\",\n",
        "    \"5\": \"I-PER\",\n",
        "    \"6\": \"O\"\n",
        "  }\n",
        "num_labels = len(label_list)"
      ]
    },
    {
      "cell_type": "code",
      "execution_count": null,
      "metadata": {
        "id": "Av4v_l_OU-Fe"
      },
      "outputs": [],
      "source": [
        "text_column_name = \"tokens\"\n",
        "label_column_name = \"ner_tags\""
      ]
    },
    {
      "cell_type": "code",
      "execution_count": null,
      "metadata": {
        "id": "CkW4DxNfifit"
      },
      "outputs": [],
      "source": [
        "# Sample only 1,00,000 entries from the training dataset\n",
        "train_dataset_sampled = data['train'].shuffle(seed=53).select(range(100000))"
      ]
    },
    {
      "cell_type": "code",
      "execution_count": null,
      "metadata": {
        "colab": {
          "base_uri": "https://localhost:8080/"
        },
        "id": "_reQTFqlihyT",
        "outputId": "c8fc55cf-e775-4350-8389-d08d07f7ad1b"
      },
      "outputs": [
        {
          "data": {
            "text/plain": [
              "['मी',\n",
              " 'आज',\n",
              " 'या',\n",
              " 'शुभ',\n",
              " 'प्रसंगी',\n",
              " ',',\n",
              " 'या',\n",
              " 'भव्य',\n",
              " 'आयोजनासाठी',\n",
              " 'समितीला',\n",
              " 'शुभेच्छा',\n",
              " 'देतो',\n",
              " ',',\n",
              " 'पूज्य',\n",
              " 'महाराज',\n",
              " 'साहेबांना',\n",
              " 'वंदन',\n",
              " 'करतो',\n",
              " 'आणि',\n",
              " 'भगवान',\n",
              " 'महावीरांच्या',\n",
              " 'चरणी',\n",
              " 'प्रार्थना',\n",
              " 'करतो',\n",
              " 'की',\n",
              " 'अशा',\n",
              " 'आचार्य',\n",
              " 'भगवंतांना',\n",
              " 'अशी',\n",
              " 'आचार्य',\n",
              " 'शक्ती',\n",
              " 'दे',\n",
              " ',',\n",
              " 'अशी',\n",
              " 'दिव्यता',\n",
              " 'दे',\n",
              " 'की',\n",
              " 'येणाऱ्या',\n",
              " 'शतकापर्यंत',\n",
              " 'मानवजातीच्या',\n",
              " 'कल्याणासाठी',\n",
              " 'त्यांचा',\n",
              " 'मार्ग',\n",
              " 'आमच्या',\n",
              " 'कामी',\n",
              " 'येईल',\n",
              " '.']"
            ]
          },
          "execution_count": 13,
          "metadata": {},
          "output_type": "execute_result"
        }
      ],
      "source": [
        "train_dataset_sampled['tokens'][0]"
      ]
    },
    {
      "cell_type": "code",
      "execution_count": null,
      "metadata": {
        "id": "VsHevPyTixd1"
      },
      "outputs": [],
      "source": [
        "max_seq_length = max(len(seq) for seq in train_dataset_sampled['tokens'])"
      ]
    },
    {
      "cell_type": "code",
      "execution_count": null,
      "metadata": {
        "colab": {
          "base_uri": "https://localhost:8080/"
        },
        "id": "RMHF5L6Ki-ho",
        "outputId": "acb7e137-ea50-47da-da32-fc6dff5f258b"
      },
      "outputs": [
        {
          "output_type": "execute_result",
          "data": {
            "text/plain": [
              "100"
            ]
          },
          "metadata": {},
          "execution_count": 24
        }
      ],
      "source": [
        "max_seq_length"
      ]
    },
    {
      "cell_type": "code",
      "execution_count": null,
      "metadata": {
        "id": "js8FvE3yedk-"
      },
      "outputs": [],
      "source": [
        "# model=model.to(\"cuda\")"
      ]
    },
    {
      "cell_type": "code",
      "execution_count": null,
      "metadata": {
        "id": "ZwDWp_giMJwf"
      },
      "outputs": [],
      "source": [
        "# Tokenize all texts and align the labels with them.\n",
        "padding = \"max_length\"\n",
        "def tokenize_and_align_labels(examples):\n",
        "    tokenized_inputs = tokenizer(\n",
        "        examples[text_column_name],\n",
        "        # padding=padding,\n",
        "        # truncation=True,\n",
        "        # max_length=max_seq_length,\n",
        "        # We use this argument because the texts in our dataset are lists of words (with a label for each word).\n",
        "        is_split_into_words=True,\n",
        "    )\n",
        "    labels = []\n",
        "    for i, label in enumerate(examples[label_column_name]):\n",
        "        # print('=====')\n",
        "        # print('{} {}'.format(i,label)) #ak\n",
        "        word_ids = tokenized_inputs.word_ids(batch_index=i)\n",
        "\n",
        "        previous_word_idx = None\n",
        "        label_ids = []\n",
        "        for word_idx in word_ids:\n",
        "            # if i==0:\n",
        "            #   print(word_idx)\n",
        "            # Special tokens have a word id that is None. We set the label to -100 so they are automatically\n",
        "            # ignored in the loss function.\n",
        "            if word_idx is None:\n",
        "                label_ids.append(-100)\n",
        "            # We set the label for the first token of each word.\n",
        "            elif word_idx != previous_word_idx:\n",
        "                label_ids.append(label[word_idx])\n",
        "            # For the other tokens in a word, we set the label to either the current label or -100, depending on\n",
        "            # the label_all_tokens flag.\n",
        "            else:\n",
        "                # label_ids.append(-100)\n",
        "                label_ids.append(label[word_idx]) #changed this to make all the tokens of a word have the same label\n",
        "            previous_word_idx = word_idx\n",
        "\n",
        "        labels.append(label_ids)\n",
        "    tokenized_inputs[\"labels\"] = labels\n",
        "    return tokenized_inputs"
      ]
    },
    {
      "cell_type": "code",
      "execution_count": null,
      "metadata": {
        "colab": {
          "base_uri": "https://localhost:8080/",
          "height": 49,
          "referenced_widgets": [
            "610c97d3cf95410791e040c76fab423b",
            "7a90686ebded4365a8bec662711ef056",
            "8d69bf5ec3c9412bbe882ed72d3e75a1",
            "823881efab4f448dab61085d8f0b77a2",
            "45a10198c71c4b068598bcc8f3e17bef",
            "2a6bd3856cda4055ac44aef60dbd56e3",
            "e52632ca71be498baa7f224ee87e4ae1",
            "324eb0843e3b47578f4071134d6e9d50",
            "9bc2217a5796447d8eab8c39e08ad217",
            "3bdbef4418f24e60a224fc2b440bde8c",
            "11f975d233a94ef9b5e5b97c71d60a18"
          ]
        },
        "id": "oEhWoszfehp4",
        "outputId": "7051bad8-067c-4f3b-ec07-4640f73f66a5"
      },
      "outputs": [
        {
          "output_type": "display_data",
          "data": {
            "text/plain": [
              "Running tokenizer on train dataset (num_proc=20):   0%|          | 0/100000 [00:00<?, ? examples/s]"
            ],
            "application/vnd.jupyter.widget-view+json": {
              "version_major": 2,
              "version_minor": 0,
              "model_id": "610c97d3cf95410791e040c76fab423b"
            }
          },
          "metadata": {}
        }
      ],
      "source": [
        "train_dataset = train_dataset_sampled\n",
        "train_dataset = train_dataset.map(\n",
        "    tokenize_and_align_labels,\n",
        "    batched=True,\n",
        "    num_proc=20,\n",
        "    load_from_cache_file=True,\n",
        "    desc=\"Running tokenizer on train dataset\",\n",
        "    batch_size=350,\n",
        ")"
      ]
    },
    {
      "cell_type": "code",
      "execution_count": null,
      "metadata": {
        "colab": {
          "base_uri": "https://localhost:8080/"
        },
        "id": "1I4HULn4Zokn",
        "outputId": "817d7013-b1b2-4134-8c09-224cf1716f39"
      },
      "outputs": [
        {
          "data": {
            "text/plain": [
              "['मी', 'त्यांचे', 'समर्थन', '.']"
            ]
          },
          "execution_count": 21,
          "metadata": {},
          "output_type": "execute_result"
        }
      ],
      "source": [
        "train_dataset['tokens'][3]"
      ]
    },
    {
      "cell_type": "code",
      "execution_count": null,
      "metadata": {
        "colab": {
          "base_uri": "https://localhost:8080/"
        },
        "id": "bh_9HLtMZZoW",
        "outputId": "e04df16f-06df-46ce-f7df-8855b63a3c60"
      },
      "outputs": [
        {
          "data": {
            "text/plain": [
              "['[CLS]', 'मी', 'तयाच', 'स', '##मर', '##थन', '.', '[SEP]']"
            ]
          },
          "execution_count": 22,
          "metadata": {},
          "output_type": "execute_result"
        }
      ],
      "source": [
        "tokenizer.convert_ids_to_tokens(train_dataset['input_ids'][3][:20])"
      ]
    },
    {
      "cell_type": "code",
      "execution_count": null,
      "metadata": {
        "colab": {
          "base_uri": "https://localhost:8080/"
        },
        "id": "HubLMSewruDH",
        "outputId": "635e16c7-f9ee-4b53-d6af-7818c14a229b"
      },
      "outputs": [
        {
          "data": {
            "text/plain": [
              "[-100, 0, 0, 0, 0, 0, 0, -100]"
            ]
          },
          "execution_count": 23,
          "metadata": {},
          "output_type": "execute_result"
        }
      ],
      "source": [
        "train_dataset['labels'][3][:10]"
      ]
    },
    {
      "cell_type": "code",
      "execution_count": null,
      "metadata": {
        "colab": {
          "base_uri": "https://localhost:8080/"
        },
        "id": "mUfqQQR3adFr",
        "outputId": "7e3fed26-12ce-4ea7-cf3e-8a4dfbd66507"
      },
      "outputs": [
        {
          "data": {
            "text/plain": [
              "['मी', 'त्यांचे', 'समर्थन', '.']"
            ]
          },
          "execution_count": 24,
          "metadata": {},
          "output_type": "execute_result"
        }
      ],
      "source": [
        "train_dataset['tokens'][3]"
      ]
    },
    {
      "cell_type": "code",
      "execution_count": null,
      "metadata": {
        "colab": {
          "base_uri": "https://localhost:8080/",
          "height": 49,
          "referenced_widgets": [
            "70a1a9630b474daf93a2c9cf5a029190",
            "89af7fdad51f4bdf8ab28b1d576d9a52",
            "c7d109fe36a54f05ad0c13e73c64d973",
            "4a29f1d6eea54b7f815c6b830709d55a",
            "06171875f549454bbcbe784ffa3e8365",
            "cd1b84456eb14491a1c8ad03ceaf4ea6",
            "a1f2e359b6cc4bf0b73397ff06147e2d",
            "b9eafbd4f4c54f69a15645b660d8c41e",
            "e62ba5e198474df1b3384b7c6a471e11",
            "67862b7550734334a7f1461a86563f8f",
            "e7a5083aced34bcb9777f31c1fd956a8"
          ]
        },
        "id": "UGbziIF-erIM",
        "outputId": "75d5a822-61a9-43f3-b283-725d7b52be88"
      },
      "outputs": [
        {
          "output_type": "display_data",
          "data": {
            "text/plain": [
              "Running tokenizer on Validation dataset (num_proc=4):   0%|          | 0/2300 [00:00<?, ? examples/s]"
            ],
            "application/vnd.jupyter.widget-view+json": {
              "version_major": 2,
              "version_minor": 0,
              "model_id": "70a1a9630b474daf93a2c9cf5a029190"
            }
          },
          "metadata": {}
        }
      ],
      "source": [
        "eval_dataset = data[\"validation\"]\n",
        "eval_dataset = eval_dataset.map(\n",
        "    tokenize_and_align_labels,\n",
        "    batched=True,\n",
        "    num_proc=4,\n",
        "    load_from_cache_file=True,\n",
        "    desc=\"Running tokenizer on Validation dataset\",\n",
        "    batch_size=8,\n",
        ")"
      ]
    },
    {
      "cell_type": "code",
      "execution_count": null,
      "metadata": {
        "colab": {
          "base_uri": "https://localhost:8080/"
        },
        "id": "K62ClQM2ZWfH",
        "outputId": "ddac1df9-7206-4588-fbdc-afeef41bda6f"
      },
      "outputs": [
        {
          "data": {
            "text/plain": [
              "[-100, 5, 5, 0, 0, 0, 0, 0, 0, 0]"
            ]
          },
          "execution_count": 26,
          "metadata": {},
          "output_type": "execute_result"
        }
      ],
      "source": [
        "eval_dataset['labels'][0][:10]"
      ]
    },
    {
      "cell_type": "markdown",
      "metadata": {
        "id": "otaDz1H7BiPC"
      },
      "source": [
        "**Create Data Collator, Metrics**"
      ]
    },
    {
      "cell_type": "code",
      "execution_count": null,
      "metadata": {
        "id": "k_IPs2dPfIaR"
      },
      "outputs": [],
      "source": [
        "data_collator = DataCollatorForTokenClassification(tokenizer)"
      ]
    },
    {
      "cell_type": "code",
      "execution_count": null,
      "metadata": {
        "id": "tgJ4EXYofS9f"
      },
      "outputs": [],
      "source": [
        "# Metrics\n",
        "metric = load_metric(\"seqeval\")\n",
        "\n",
        "def compute_metrics(p):\n",
        "    predictions, labels = p\n",
        "    predictions = np.argmax(predictions, axis=2)\n",
        "\n",
        "    # Remove ignored index (special tokens)\n",
        "    true_predictions = [\n",
        "        [label_list[p] for (p, l) in zip(prediction, label) if l != -100]\n",
        "        for prediction, label in zip(predictions, labels)\n",
        "    ]\n",
        "    true_labels = [\n",
        "        [label_list[l] for (p, l) in zip(prediction, label) if l != -100]\n",
        "        for prediction, label in zip(predictions, labels)\n",
        "    ]\n",
        "    # macro_f1 = f1_score(true_labels, true_predictions, average='macro')\n",
        "    results = metric.compute(predictions=true_predictions, references=true_labels)\n",
        "    #For calculation of macro F1 score, Calculate precision, recall, and f1 scores for each label\n",
        "    label_precision, label_recall, label_f1, _ = precision_recall_fscore_support(np.concatenate(true_labels), np.concatenate(true_predictions), average=None, labels=label_list)\n",
        "    macro_f1 = np.mean(label_f1)\n",
        "    # Unpack nested dictionaries\n",
        "    final_results = {}\n",
        "    for key, value in results.items():\n",
        "        if isinstance(value, dict):\n",
        "            for n, v in value.items():\n",
        "                final_results[f\"{key}_{n}\"] = v\n",
        "        else:\n",
        "            final_results[key] = value\n",
        "    # final_results['macro_f1'] = macro_f1;\n",
        "    return final_results"
      ]
    },
    {
      "cell_type": "markdown",
      "metadata": {
        "id": "B4fQl8c1B1CO"
      },
      "source": [
        "**Set Training Arguments**"
      ]
    },
    {
      "cell_type": "code",
      "execution_count": null,
      "metadata": {
        "id": "6VqwJ7ugRD7X"
      },
      "outputs": [],
      "source": [
        "args=TrainingArguments(\n",
        "    output_dir=\"/content/gdrive/MyDrive/cs689/a2/\",\n",
        "    per_device_train_batch_size=40,\n",
        "    per_device_eval_batch_size=8,num_train_epochs=5,save_steps=2500,save_safetensors=False,weight_decay = 1e-6)"
      ]
    },
    {
      "cell_type": "markdown",
      "metadata": {
        "id": "Qn30_OWzCFTM"
      },
      "source": [
        "\n",
        "**Training**"
      ]
    },
    {
      "cell_type": "code",
      "execution_count": null,
      "metadata": {
        "id": "8NSa8_xRK7ew",
        "colab": {
          "base_uri": "https://localhost:8080/"
        },
        "outputId": "d8a8feb9-aa19-426f-da4f-57a639d84613"
      },
      "outputs": [
        {
          "output_type": "execute_result",
          "data": {
            "text/plain": [
              "<All keys matched successfully>"
            ]
          },
          "metadata": {},
          "execution_count": 25
        }
      ],
      "source": [
        "# # Load the last saved checkpoint\n",
        "# checkpoint_path = '/content/gdrive/MyDrive/cs689/a2/checkpoint-12500/pytorch_model.bin'\n",
        "# checkpoint = torch.load(checkpoint_path,map_location=torch.device('cpu'))\n",
        "# # checkpoint = torch.load(checkpoint_path)\n",
        "\n",
        "# # Load the model weights from the checkpoint\n",
        "# model.load_state_dict(checkpoint)"
      ]
    },
    {
      "cell_type": "code",
      "execution_count": null,
      "metadata": {
        "id": "yM0olZjbPhcT"
      },
      "outputs": [],
      "source": [
        "# checkpoint.keys()"
      ]
    },
    {
      "cell_type": "code",
      "execution_count": null,
      "metadata": {
        "id": "vBz8ZFYGfakw",
        "colab": {
          "base_uri": "https://localhost:8080/",
          "height": 219
        },
        "outputId": "92d9b857-99ad-45be-9e0b-cc0e7f963d8c"
      },
      "outputs": [
        {
          "output_type": "error",
          "ename": "NameError",
          "evalue": "name 'train_dataset' is not defined",
          "traceback": [
            "\u001b[0;31m---------------------------------------------------------------------------\u001b[0m",
            "\u001b[0;31mNameError\u001b[0m                                 Traceback (most recent call last)",
            "\u001b[0;32m<ipython-input-14-729b3b53d2d4>\u001b[0m in \u001b[0;36m<cell line: 9>\u001b[0;34m()\u001b[0m\n\u001b[1;32m      9\u001b[0m trainer = Trainer(\n\u001b[1;32m     10\u001b[0m     \u001b[0mmodel\u001b[0m\u001b[0;34m=\u001b[0m\u001b[0mmodel\u001b[0m\u001b[0;34m,\u001b[0m\u001b[0;34m\u001b[0m\u001b[0;34m\u001b[0m\u001b[0m\n\u001b[0;32m---> 11\u001b[0;31m     \u001b[0mtrain_dataset\u001b[0m\u001b[0;34m=\u001b[0m\u001b[0mtrain_dataset\u001b[0m\u001b[0;34m,\u001b[0m\u001b[0;34m\u001b[0m\u001b[0;34m\u001b[0m\u001b[0m\n\u001b[0m\u001b[1;32m     12\u001b[0m     \u001b[0meval_dataset\u001b[0m\u001b[0;34m=\u001b[0m\u001b[0meval_dataset\u001b[0m\u001b[0;34m,\u001b[0m\u001b[0;34m\u001b[0m\u001b[0;34m\u001b[0m\u001b[0m\n\u001b[1;32m     13\u001b[0m     \u001b[0mtokenizer\u001b[0m\u001b[0;34m=\u001b[0m\u001b[0mtokenizer\u001b[0m\u001b[0;34m,\u001b[0m\u001b[0;34m\u001b[0m\u001b[0;34m\u001b[0m\u001b[0m\n",
            "\u001b[0;31mNameError\u001b[0m: name 'train_dataset' is not defined"
          ]
        }
      ],
      "source": [
        "# Initialize our Trainer\n",
        "# early_stopping_callback = EarlyStoppingCallback(early_stopping_patience=2)\n",
        "# args.metric_for_best_model = \"f1\"\n",
        "# args.load_best_model_at_end = True\n",
        "# args.evaluation_strategy = IntervalStrategy.STEPS\n",
        "# args.eval_steps = args.save_steps\n",
        "# args.greater_is_better = True\n",
        "\n",
        "trainer = Trainer(\n",
        "    model=model,\n",
        "    train_dataset=train_dataset,\n",
        "    eval_dataset=eval_dataset,\n",
        "    tokenizer=tokenizer,\n",
        "    data_collator=data_collator,\n",
        "    compute_metrics=compute_metrics,\n",
        "    # callbacks=[early_stopping_callback],\n",
        "    args=args,\n",
        ")"
      ]
    },
    {
      "cell_type": "code",
      "execution_count": null,
      "metadata": {
        "id": "KvoHHBqaVbQk"
      },
      "outputs": [],
      "source": [
        "trainer.args"
      ]
    },
    {
      "cell_type": "code",
      "execution_count": null,
      "metadata": {
        "colab": {
          "background_save": true,
          "base_uri": "https://localhost:8080/",
          "height": 1000
        },
        "id": "JxeugXOWfzIG",
        "outputId": "c33fe5cc-b651-43eb-8c2d-1174d7047388"
      },
      "outputs": [
        {
          "data": {
            "text/html": [
              "\n",
              "    <div>\n",
              "      \n",
              "      <progress value='12500' max='12500' style='width:300px; height:20px; vertical-align: middle;'></progress>\n",
              "      [12500/12500 2:22:33, Epoch 5/5]\n",
              "    </div>\n",
              "    <table border=\"1\" class=\"dataframe\">\n",
              "  <thead>\n",
              " <tr style=\"text-align: left;\">\n",
              "      <th>Step</th>\n",
              "      <th>Training Loss</th>\n",
              "    </tr>\n",
              "  </thead>\n",
              "  <tbody>\n",
              "    <tr>\n",
              "      <td>500</td>\n",
              "      <td>0.408800</td>\n",
              "    </tr>\n",
              "    <tr>\n",
              "      <td>1000</td>\n",
              "      <td>0.249100</td>\n",
              "    </tr>\n",
              "    <tr>\n",
              "      <td>1500</td>\n",
              "      <td>0.244100</td>\n",
              "    </tr>\n",
              "    <tr>\n",
              "      <td>2000</td>\n",
              "      <td>0.238200</td>\n",
              "    </tr>\n",
              "    <tr>\n",
              "      <td>2500</td>\n",
              "      <td>0.237300</td>\n",
              "    </tr>\n",
              "    <tr>\n",
              "      <td>3000</td>\n",
              "      <td>0.190900</td>\n",
              "    </tr>\n",
              "    <tr>\n",
              "      <td>3500</td>\n",
              "      <td>0.193700</td>\n",
              "    </tr>\n",
              "    <tr>\n",
              "      <td>4000</td>\n",
              "      <td>0.197700</td>\n",
              "    </tr>\n",
              "    <tr>\n",
              "      <td>4500</td>\n",
              "      <td>0.191600</td>\n",
              "    </tr>\n",
              "    <tr>\n",
              "      <td>5000</td>\n",
              "      <td>0.194900</td>\n",
              "    </tr>\n",
              "    <tr>\n",
              "      <td>5500</td>\n",
              "      <td>0.149800</td>\n",
              "    </tr>\n",
              "    <tr>\n",
              "      <td>6000</td>\n",
              "      <td>0.153500</td>\n",
              "    </tr>\n",
              "    <tr>\n",
              "      <td>6500</td>\n",
              "      <td>0.154500</td>\n",
              "    </tr>\n",
              "    <tr>\n",
              "      <td>7000</td>\n",
              "      <td>0.152200</td>\n",
              "    </tr>\n",
              "    <tr>\n",
              "      <td>7500</td>\n",
              "      <td>0.151700</td>\n",
              "    </tr>\n",
              "    <tr>\n",
              "      <td>8000</td>\n",
              "      <td>0.119900</td>\n",
              "    </tr>\n",
              "    <tr>\n",
              "      <td>8500</td>\n",
              "      <td>0.123300</td>\n",
              "    </tr>\n",
              "    <tr>\n",
              "      <td>9000</td>\n",
              "      <td>0.120300</td>\n",
              "    </tr>\n",
              "    <tr>\n",
              "      <td>9500</td>\n",
              "      <td>0.120500</td>\n",
              "    </tr>\n",
              "    <tr>\n",
              "      <td>10000</td>\n",
              "      <td>0.124400</td>\n",
              "    </tr>\n",
              "    <tr>\n",
              "      <td>10500</td>\n",
              "      <td>0.099200</td>\n",
              "    </tr>\n",
              "    <tr>\n",
              "      <td>11000</td>\n",
              "      <td>0.098200</td>\n",
              "    </tr>\n",
              "    <tr>\n",
              "      <td>11500</td>\n",
              "      <td>0.100700</td>\n",
              "    </tr>\n",
              "    <tr>\n",
              "      <td>12000</td>\n",
              "      <td>0.099200</td>\n",
              "    </tr>\n",
              "    <tr>\n",
              "      <td>12500</td>\n",
              "      <td>0.097800</td>\n",
              "    </tr>\n",
              "  </tbody>\n",
              "</table><p>"
            ],
            "text/plain": [
              "<IPython.core.display.HTML object>"
            ]
          },
          "metadata": {},
          "output_type": "display_data"
        }
      ],
      "source": [
        "train_result = trainer.train()\n"
      ]
    },
    {
      "cell_type": "code",
      "execution_count": null,
      "metadata": {
        "colab": {
          "background_save": true
        },
        "id": "T-bgh220ROoh"
      },
      "outputs": [],
      "source": [
        "metrics = train_result.metrics"
      ]
    },
    {
      "cell_type": "code",
      "execution_count": null,
      "metadata": {
        "colab": {
          "background_save": true
        },
        "id": "yd97CJLvf3-x",
        "outputId": "53c3f805-68dd-4a7c-a266-1eea6128c65b"
      },
      "outputs": [
        {
          "data": {
            "text/html": [
              "\n",
              "    <div>\n",
              "      \n",
              "      <progress value='288' max='288' style='width:300px; height:20px; vertical-align: middle;'></progress>\n",
              "      [288/288 00:10]\n",
              "    </div>\n",
              "    "
            ],
            "text/plain": [
              "<IPython.core.display.HTML object>"
            ]
          },
          "metadata": {},
          "output_type": "display_data"
        }
      ],
      "source": [
        "metrics = trainer.evaluate()"
      ]
    },
    {
      "cell_type": "code",
      "execution_count": null,
      "metadata": {
        "colab": {
          "background_save": true
        },
        "id": "4QwjViR4UcXF",
        "outputId": "6b37b690-e207-4bfa-9c83-f3cc1267561c"
      },
      "outputs": [
        {
          "name": "stdout",
          "output_type": "stream",
          "text": [
            "***** eval metrics *****\n",
            "  epoch                   =        5.0\n",
            "  eval_LOC_f1             =     0.8212\n",
            "  eval_LOC_number         =       3392\n",
            "  eval_LOC_precision      =     0.8042\n",
            "  eval_LOC_recall         =      0.839\n",
            "  eval_ORG_f1             =     0.7363\n",
            "  eval_ORG_number         =       2741\n",
            "  eval_ORG_precision      =     0.7321\n",
            "  eval_ORG_recall         =     0.7406\n",
            "  eval_PER_f1             =      0.842\n",
            "  eval_PER_number         =       5462\n",
            "  eval_PER_precision      =     0.8366\n",
            "  eval_PER_recall         =     0.8475\n",
            "  eval_loss               =     0.3253\n",
            "  eval_overall_accuracy   =     0.9203\n",
            "  eval_overall_f1         =      0.811\n",
            "  eval_overall_precision  =     0.8024\n",
            "  eval_overall_recall     =     0.8197\n",
            "  eval_runtime            = 0:00:13.50\n",
            "  eval_samples_per_second =    170.369\n",
            "  eval_steps_per_second   =     21.333\n"
          ]
        }
      ],
      "source": [
        "trainer.log_metrics(\"eval\", metrics)"
      ]
    },
    {
      "cell_type": "code",
      "execution_count": null,
      "metadata": {
        "colab": {
          "background_save": true
        },
        "id": "j8a9XSqll1HL"
      },
      "outputs": [],
      "source": [
        "with open('/content/gdrive/MyDrive/cs689/a2/saved_models/metrics/val_metrics.json', 'w') as f:\n",
        "    json.dump(metrics, f)"
      ]
    },
    {
      "cell_type": "code",
      "execution_count": null,
      "metadata": {
        "colab": {
          "background_save": true
        },
        "id": "_gFHRo6KjwcU",
        "outputId": "dd52d494-bc51-4a77-cb46-25c387ec6412"
      },
      "outputs": [
        {
          "data": {
            "text/html": [
              "\n",
              "    <div>\n",
              "      \n",
              "      <progress value='12788' max='288' style='width:300px; height:20px; vertical-align: middle;'></progress>\n",
              "      [288/288 08:24]\n",
              "    </div>\n",
              "    "
            ],
            "text/plain": [
              "<IPython.core.display.HTML object>"
            ]
          },
          "metadata": {},
          "output_type": "display_data"
        }
      ],
      "source": [
        "metrics = trainer.evaluate(train_dataset)"
      ]
    },
    {
      "cell_type": "code",
      "execution_count": null,
      "metadata": {
        "colab": {
          "background_save": true
        },
        "id": "oe0ERrUVUfPZ",
        "outputId": "fcd8a6f6-b8fe-4e48-a36f-0be6d90de90e"
      },
      "outputs": [
        {
          "name": "stdout",
          "output_type": "stream",
          "text": [
            "***** eval metrics *****\n",
            "  epoch                   =        5.0\n",
            "  eval_LOC_f1             =     0.9352\n",
            "  eval_LOC_number         =     144982\n",
            "  eval_LOC_precision      =     0.9248\n",
            "  eval_LOC_recall         =     0.9457\n",
            "  eval_ORG_f1             =     0.9095\n",
            "  eval_ORG_number         =     115437\n",
            "  eval_ORG_precision      =     0.9171\n",
            "  eval_ORG_recall         =      0.902\n",
            "  eval_PER_f1             =     0.9453\n",
            "  eval_PER_number         =     226386\n",
            "  eval_PER_precision      =     0.9438\n",
            "  eval_PER_recall         =     0.9468\n",
            "  eval_loss               =     0.0668\n",
            "  eval_overall_accuracy   =     0.9768\n",
            "  eval_overall_f1         =     0.9338\n",
            "  eval_overall_precision  =     0.9318\n",
            "  eval_overall_recall     =     0.9358\n",
            "  eval_runtime            = 0:09:31.94\n",
            "  eval_samples_per_second =    174.841\n",
            "  eval_steps_per_second   =     21.855\n"
          ]
        }
      ],
      "source": [
        "trainer.log_metrics(\"eval\", metrics)"
      ]
    },
    {
      "cell_type": "code",
      "execution_count": null,
      "metadata": {
        "colab": {
          "background_save": true
        },
        "id": "p89qULYBj_mi"
      },
      "outputs": [],
      "source": [
        "with open('/content/gdrive/MyDrive/cs689/a2/saved_models/metrics/train_metrics.json', 'w') as f:\n",
        "    json.dump(metrics, f)"
      ]
    },
    {
      "cell_type": "markdown",
      "metadata": {
        "id": "_YU6MTtiINit"
      },
      "source": [
        "## Evaluate the Trained Model"
      ]
    },
    {
      "cell_type": "markdown",
      "metadata": {
        "id": "jBZdKQdXHgUt"
      },
      "source": [
        "Let us now evaluate the trained model on the test sets of all languages"
      ]
    },
    {
      "cell_type": "markdown",
      "metadata": {
        "id": "L8399hl6HmTS"
      },
      "source": [
        "We need to first tokenize the test sets"
      ]
    },
    {
      "cell_type": "code",
      "execution_count": null,
      "metadata": {
        "colab": {
          "base_uri": "https://localhost:8080/",
          "height": 49,
          "referenced_widgets": [
            "e95f3164ce9d416ea2e74ef3d5fda814",
            "12e2065d41914ce8a0d776b575140271",
            "bbea5963ce7048db9065426ca1c09a52",
            "f5bc5457ee65428f9af241bb6ce6ecd1",
            "8ac6a1d36b054b33b21220df78402f18",
            "fb5bf06930d345bc885a764a1228a74c",
            "1334533062e04c18a1eb30556a90fa76",
            "8a971c15041d46e584e174efd5b0e0a6",
            "e4ea85494d544246873c2953991fa06d",
            "637ce09d24cb4696a34b71ff75e2df0e",
            "38a1eb6fc49e4719aa2758b92d147a76"
          ]
        },
        "id": "npCAivkgEv0Z",
        "outputId": "7c054790-4389-409e-d0ed-cc833c8bf1a3"
      },
      "outputs": [
        {
          "output_type": "display_data",
          "data": {
            "text/plain": [
              "Map (num_proc=32):   0%|          | 0/1080 [00:00<?, ? examples/s]"
            ],
            "application/vnd.jupyter.widget-view+json": {
              "version_major": 2,
              "version_minor": 0,
              "model_id": "e95f3164ce9d416ea2e74ef3d5fda814"
            }
          },
          "metadata": {}
        }
      ],
      "source": [
        "# tokenized_test_set = {}\n",
        "tokenized_test_set = data['test'].map(\n",
        "      tokenize_and_align_labels,\n",
        "      batched=True,\n",
        "      num_proc=32,\n",
        "      load_from_cache_file=True,\n",
        "      # desc=\"Running tokenizer on test dataset of language {0}\".format(lang),\n",
        "      )"
      ]
    },
    {
      "cell_type": "code",
      "source": [
        "data['test'].column_names"
      ],
      "metadata": {
        "colab": {
          "base_uri": "https://localhost:8080/"
        },
        "id": "RArwatxLifaI",
        "outputId": "19c6bad1-9c9f-4abd-f082-83d2d0c2a73d"
      },
      "execution_count": null,
      "outputs": [
        {
          "output_type": "execute_result",
          "data": {
            "text/plain": [
              "['tokens', 'ner_tags']"
            ]
          },
          "metadata": {},
          "execution_count": 86
        }
      ]
    },
    {
      "cell_type": "code",
      "source": [
        "tokenized_test_set['labels'][0]"
      ],
      "metadata": {
        "colab": {
          "base_uri": "https://localhost:8080/"
        },
        "id": "2PBPcV4BOt3Q",
        "outputId": "7494d4dd-dec3-49e3-b785-494caeb9ee7e"
      },
      "execution_count": null,
      "outputs": [
        {
          "output_type": "execute_result",
          "data": {
            "text/plain": [
              "[-100, 3, 3, 3, 3, 3, 4, 4, 4, 0, 5, 5, 5, 0, 0, 0, 0, 0, 0, -100]"
            ]
          },
          "metadata": {},
          "execution_count": 21
        }
      ]
    },
    {
      "cell_type": "markdown",
      "metadata": {
        "id": "K5xzlcXJHugf"
      },
      "source": [
        "Run prediction on test set of each of the language separately and extract overall `Precison`, `Recall` and `F-Score` separately"
      ]
    },
    {
      "cell_type": "code",
      "execution_count": null,
      "metadata": {
        "colab": {
          "background_save": true
        },
        "id": "pJLJwkPQ1d15",
        "outputId": "010d887a-9d3d-4505-db6d-b5e0779bff9b"
      },
      "outputs": [
        {
          "data": {
            "text/plain": [
              "[3, 4, 4, 0, 5, 0, 0, 0, 0]"
            ]
          },
          "execution_count": 49,
          "metadata": {},
          "output_type": "execute_result"
        }
      ],
      "source": [
        "tokenized_test_set['ner_tags'][0]"
      ]
    },
    {
      "cell_type": "code",
      "source": [
        "# help(tokenized_test_set)"
      ],
      "metadata": {
        "id": "lsybaTFjdQ_K"
      },
      "execution_count": null,
      "outputs": []
    },
    {
      "cell_type": "code",
      "execution_count": null,
      "metadata": {
        "colab": {
          "base_uri": "https://localhost:8080/",
          "height": 17
        },
        "id": "6D41qDnAPPbD",
        "outputId": "13e07a34-5034-4847-e2a7-8a80b8d59236"
      },
      "outputs": [
        {
          "output_type": "display_data",
          "data": {
            "text/plain": [
              "<IPython.core.display.HTML object>"
            ],
            "text/html": []
          },
          "metadata": {}
        }
      ],
      "source": [
        "# final_metrics = {}\n",
        "\n",
        "# for lang in tokenized_test_set:\n",
        "predictions, labels, metrics = trainer.predict(tokenized_test_set)\n",
        "\n",
        "lang_specific_results = {}\n",
        "for key in metrics:\n",
        "  if 'overall_precision' in key:\n",
        "    lang_specific_results['Precision'] = metrics[key]\n",
        "  elif 'overall_recall' in key:\n",
        "    lang_specific_results['Recall'] = metrics[key]\n",
        "  elif 'overall_f1' in key:\n",
        "    lang_specific_results['F1'] = metrics[key]\n",
        "  # elif 'macro_f1' in key:\n",
        "  #   lang_specific_results['macro_f1'] = metrics[key]\n",
        "final_metrics = lang_specific_results"
      ]
    },
    {
      "cell_type": "code",
      "source": [
        "tokenized_test_set['tokens'][0]"
      ],
      "metadata": {
        "colab": {
          "base_uri": "https://localhost:8080/"
        },
        "id": "BvL2aRGIl4u-",
        "outputId": "9ece9f5f-adc5-4493-b8ea-32f65a23f579"
      },
      "execution_count": null,
      "outputs": [
        {
          "output_type": "execute_result",
          "data": {
            "text/plain": [
              "['उल्हासनगर',\n",
              " 'रेल्वे',\n",
              " 'स्थानक',\n",
              " 'हे',\n",
              " 'ठाणे',\n",
              " 'जिल्ह्यातील',\n",
              " 'शहर',\n",
              " 'आहे',\n",
              " '.']"
            ]
          },
          "metadata": {},
          "execution_count": 113
        }
      ]
    },
    {
      "cell_type": "code",
      "source": [
        "for i in range(len(tokenized_test_set['input_ids'][0])):\n",
        "  print(index_to_label[np.argmax(predictions[0][i])],end=' ')"
      ],
      "metadata": {
        "colab": {
          "base_uri": "https://localhost:8080/"
        },
        "id": "dvty1I0uVh8t",
        "outputId": "93c3760a-2c81-44ce-e06b-da8ff443a75d"
      },
      "execution_count": null,
      "outputs": [
        {
          "output_type": "stream",
          "name": "stdout",
          "text": [
            "O B-LOC B-LOC B-LOC B-LOC B-LOC O O O O B-LOC B-LOC B-LOC O O O O O O O "
          ]
        }
      ]
    },
    {
      "cell_type": "code",
      "source": [
        "print(tokenizer.convert_ids_to_tokens(tokenized_test_set['input_ids'][0]),end=' ')"
      ],
      "metadata": {
        "colab": {
          "base_uri": "https://localhost:8080/"
        },
        "id": "eBfuFkQKWsGk",
        "outputId": "fb58e0ac-8bce-4a60-973d-0301acbb5583"
      },
      "execution_count": null,
      "outputs": [
        {
          "output_type": "stream",
          "name": "stdout",
          "text": [
            "['[CLS]', 'उ', '##ल', '##हा', '##सन', '##गर', 'रलव', 'सथान', '##क', 'ह', 'ठ', '##ा', '##ण', 'जिल', '##ह', '##यातील', 'शहर', 'आह', '.', '[SEP]'] "
          ]
        }
      ]
    },
    {
      "cell_type": "code",
      "execution_count": null,
      "metadata": {
        "colab": {
          "background_save": true
        },
        "id": "CeBqj5EZq4so",
        "outputId": "3f3bfd78-32b3-4a7a-aff7-cb31acde8844"
      },
      "outputs": [
        {
          "data": {
            "text/plain": [
              "array([ 5.808945  , -0.37781578, -3.3114064 , -2.838295  , -4.221993  ,\n",
              "       -0.97511256, -0.33662325], dtype=float32)"
            ]
          },
          "execution_count": 51,
          "metadata": {},
          "output_type": "execute_result"
        }
      ],
      "source": [
        "(predictions[0][0])"
      ]
    },
    {
      "cell_type": "code",
      "execution_count": null,
      "metadata": {
        "id": "nnnHWuGamXws"
      },
      "outputs": [],
      "source": [
        "with open('/content/gdrive/MyDrive/cs689/a2/saved_models/metrics/final_metrics.json', 'w') as f:\n",
        "    json.dump(final_metrics, f)"
      ]
    },
    {
      "cell_type": "markdown",
      "metadata": {
        "id": "Ce7SYK6AH5uK"
      },
      "source": [
        "Print the individual result on each of the language"
      ]
    },
    {
      "cell_type": "code",
      "execution_count": null,
      "metadata": {
        "id": "0yZ57-xjGMQL"
      },
      "outputs": [],
      "source": [
        "import pandas as pd\n",
        "\n",
        "combined_results = pd.DataFrame.from_dict(\n",
        "            final_metrics, orient=\"index\"\n",
        "        )\n",
        "\n",
        "print(combined_results)"
      ]
    },
    {
      "cell_type": "code",
      "execution_count": null,
      "metadata": {
        "id": "eRcmxBfjNJ4o"
      },
      "outputs": [],
      "source": [
        "combined_results.to_csv('/content/gdrive/MyDrive/cs689/a2/saved_models/metrics/combined_results.csv')"
      ]
    },
    {
      "cell_type": "code",
      "execution_count": null,
      "metadata": {
        "id": "koEXW7xd0zIT"
      },
      "outputs": [],
      "source": [
        "model=model.to(\"cpu\")"
      ]
    },
    {
      "cell_type": "code",
      "source": [
        "model.config.label2id={\"O\": 0, \"B-PER\": 1, \"I-PER\": 2, \"B-ORG\": 3, \"I-ORG\": 4,\"B-LOC\": 5, \"I-LOC\": 6}\n",
        "model.config.id2label={0: \"O\" , 1: \"B-PER\" , 2: \"I-PER\" , 3: \"B-ORG\" , 4: \"I-ORG\" ,5: \"B-LOC\" , 6: \"I-LOC\" }\n"
      ],
      "metadata": {
        "id": "h9IX9jN32UUN"
      },
      "execution_count": null,
      "outputs": []
    },
    {
      "cell_type": "code",
      "execution_count": null,
      "metadata": {
        "id": "VtW5-KVw0Cx0"
      },
      "outputs": [],
      "source": [
        "def get_predictions( sentence, tokenizer, model ):\n",
        "  # Let us first tokenize the sentence - split words into subwords\n",
        "  tok_sentence = tokenizer(sentence, return_tensors='pt')\n",
        "\n",
        "  with torch.no_grad():\n",
        "    # we will send the tokenized sentence to the model to get predictions\n",
        "    logits = model(**tok_sentence).logits.argmax(-1)\n",
        "\n",
        "    # We will map the maximum predicted class id with the class label\n",
        "    # predicted_tokens_classes = [model.config.id2label[t.item()] for t in logits[0]]\n",
        "    predicted_tokens_classes = [str(t.item()) for t in logits[0]]\n",
        "\n",
        "    predicted_labels = []\n",
        "\n",
        "    previous_token_id = 0\n",
        "    # we need to assign the named entity label to the head word and not the following sub-words\n",
        "    word_ids = tok_sentence.word_ids()\n",
        "    for word_index in range(len(word_ids)):\n",
        "        if word_ids[word_index] == None:\n",
        "            previous_token_id = word_ids[word_index]\n",
        "        elif word_ids[word_index] == previous_token_id:\n",
        "            previous_token_id = word_ids[word_index]\n",
        "        else:\n",
        "            predicted_labels.append( int(predicted_tokens_classes[ word_index ]) )\n",
        "            previous_token_id = word_ids[word_index]\n",
        "\n",
        "    return predicted_labels"
      ]
    },
    {
      "cell_type": "code",
      "execution_count": null,
      "metadata": {
        "id": "bd6YCaG_NE34",
        "colab": {
          "base_uri": "https://localhost:8080/"
        },
        "outputId": "e85134bb-3812-47d3-e7f1-757e8bf0f9db"
      },
      "outputs": [
        {
          "output_type": "stream",
          "name": "stdout",
          "text": [
            "24 24\n",
            "लगातार \t 0 हमलावर \t 0 हो \t 0 रहे \t 0 शिवपाल \t 1 और \t 0 राजभर \t 1 को \t 0 सपा \t 3 की \t 0 दो \t 0 टूक \t 0 , \t 0 चिट्ठी \t 0 जारी \t 0 कर \t 0 कहा \t 0 - \t 0 जहां \t 0 जाना \t 0 चाहें \t 0 जा \t 0 सकते \t 0 हैं \t 0 "
          ]
        }
      ],
      "source": [
        "# let us try with some example sentences herejj\n",
        "sentence = 'लगातार हमलावर हो रहे शिवपाल और राजभर को सपा की दो टूक , चिट्ठी जारी कर कहा - जहां जाना चाहें जा सकते हैं'\n",
        "#sentence = ' '.join(['उल्हासनगर',\n",
        "#  'रेल्वे',\n",
        "#  'स्थानक',\n",
        "#  'हे',\n",
        "#  'ठाणे',\n",
        "#  'जिल्ह्यातील',\n",
        "#  'शहर',\n",
        "#  'आहे',\n",
        "#  '.'])\n",
        "# sentence = ' '.join(train_dataset['tokens'][1])\n",
        "predicted_labels = get_predictions(sentence=sentence,\n",
        "                                   tokenizer=tokenizer,\n",
        "                                   model=model\n",
        "                                   )\n",
        "print(len(sentence.split(' ')),len(predicted_labels))\n",
        "for index in range(len(sentence.split(' '))):\n",
        "  print( sentence.split(' ')[index] , '\\t' , predicted_labels[index] ,end=' ')"
      ]
    },
    {
      "cell_type": "code",
      "source": [
        "index_to_label"
      ],
      "metadata": {
        "colab": {
          "base_uri": "https://localhost:8080/"
        },
        "id": "KgepeuPeT43V",
        "outputId": "0b80775c-9cd1-4582-d98d-62b0e8ea799c"
      },
      "execution_count": null,
      "outputs": [
        {
          "output_type": "execute_result",
          "data": {
            "text/plain": [
              "{0: 'O',\n",
              " 1: 'B-PER',\n",
              " 2: 'I-PER',\n",
              " 3: 'B-ORG',\n",
              " 4: 'I-ORG',\n",
              " 5: 'B-LOC',\n",
              " 6: 'I-LOC'}"
            ]
          },
          "metadata": {},
          "execution_count": 17
        }
      ]
    },
    {
      "cell_type": "code",
      "source": [
        "train_actual_labels = []\n",
        "train_predicted_labels = []\n",
        "test_actual_labels = []\n",
        "test_predicted_labels = []\n",
        "validation_actual_labels = []\n",
        "validation_predicted_labels = []"
      ],
      "metadata": {
        "id": "Rlm8aO4Eqlvx"
      },
      "execution_count": null,
      "outputs": []
    },
    {
      "cell_type": "code",
      "source": [
        "train_tags = train_dataset_sampled['ner_tags']\n",
        "train_toks = train_dataset_sampled['tokens']\n",
        "for i in range(len(train_dataset_sampled)):\n",
        "  train_actual_labels.append(train_tags[i])\n",
        "  train_predicted_labels.append(get_predictions(sentence=' '.join(train_toks[i]), tokenizer=tokenizer, model=model))"
      ],
      "metadata": {
        "id": "8bfXKBRnCR5j"
      },
      "execution_count": null,
      "outputs": []
    },
    {
      "cell_type": "code",
      "source": [
        "for i in range(len(data['validation'])):\n",
        "  validation_actual_labels.append(data['validation'][i]['ner_tags'])\n",
        "  predicted_labels = get_predictions(sentence=' '.join(data['validation'][i]['tokens']), tokenizer=tokenizer, model=model)\n",
        "  validation_predicted_labels.append(predicted_labels)"
      ],
      "metadata": {
        "id": "_4JcuVEQroWk"
      },
      "execution_count": null,
      "outputs": []
    },
    {
      "cell_type": "code",
      "source": [
        "for i in range(len(data['test'])):\n",
        "  test_actual_labels.append(data['test'][i]['ner_tags'])\n",
        "  predicted_labels = get_predictions(sentence=' '.join(data['test'][i]['tokens']), tokenizer=tokenizer, model=model)\n",
        "  test_predicted_labels.append(predicted_labels)"
      ],
      "metadata": {
        "id": "ZpDDnSY3rv5c"
      },
      "execution_count": null,
      "outputs": []
    },
    {
      "cell_type": "code",
      "source": [
        "data_to_save = {\n",
        "    \"train_actual_labels\": train_actual_labels,\n",
        "    \"train_predicted_labels\": train_predicted_labels,\n",
        "    \"validation_actual_labels\": validation_actual_labels,\n",
        "    \"validation_predicted_labels\": validation_predicted_labels,\n",
        "    \"test_actual_labels\": test_actual_labels,\n",
        "    \"test_predicted_labels\": test_predicted_labels,\n",
        "}\n",
        "\n",
        "\n",
        "# Save the data to a JSON file\n",
        "with open('/content/gdrive/MyDrive/cs689/a2/saved_models/ner_predictions/prediction_ttv.json', 'w') as f:\n",
        "    json.dump(data_to_save, f)"
      ],
      "metadata": {
        "id": "jQ6zUlm9sWEB"
      },
      "execution_count": null,
      "outputs": []
    },
    {
      "cell_type": "code",
      "source": [
        "print(pred_data[3]['tokens'],end=' ')"
      ],
      "metadata": {
        "colab": {
          "base_uri": "https://localhost:8080/"
        },
        "id": "XC7XdXeHBms6",
        "outputId": "593be766-3aff-40cb-87d1-8cfa4419c453"
      },
      "execution_count": null,
      "outputs": [
        {
          "output_type": "stream",
          "name": "stdout",
          "text": [
            "['कर्नाटकातल्या', 'धर्मसंसदेच्या', 'कार्यक्रमात', 'ते', 'बोलत', 'होते', '.'] "
          ]
        }
      ]
    },
    {
      "cell_type": "code",
      "source": [
        "help(precision_recall_fscore_support)"
      ],
      "metadata": {
        "colab": {
          "base_uri": "https://localhost:8080/"
        },
        "id": "SxTs3E_EOe9x",
        "outputId": "c2f5c4cb-4626-487b-f30b-9d00dd1b68b8"
      },
      "execution_count": null,
      "outputs": [
        {
          "output_type": "stream",
          "name": "stdout",
          "text": [
            "Help on function precision_recall_fscore_support in module sklearn.metrics._classification:\n",
            "\n",
            "precision_recall_fscore_support(y_true, y_pred, *, beta=1.0, labels=None, pos_label=1, average=None, warn_for=('precision', 'recall', 'f-score'), sample_weight=None, zero_division='warn')\n",
            "    Compute precision, recall, F-measure and support for each class.\n",
            "    \n",
            "    The precision is the ratio ``tp / (tp + fp)`` where ``tp`` is the number of\n",
            "    true positives and ``fp`` the number of false positives. The precision is\n",
            "    intuitively the ability of the classifier not to label a negative sample as\n",
            "    positive.\n",
            "    \n",
            "    The recall is the ratio ``tp / (tp + fn)`` where ``tp`` is the number of\n",
            "    true positives and ``fn`` the number of false negatives. The recall is\n",
            "    intuitively the ability of the classifier to find all the positive samples.\n",
            "    \n",
            "    The F-beta score can be interpreted as a weighted harmonic mean of\n",
            "    the precision and recall, where an F-beta score reaches its best\n",
            "    value at 1 and worst score at 0.\n",
            "    \n",
            "    The F-beta score weights recall more than precision by a factor of\n",
            "    ``beta``. ``beta == 1.0`` means recall and precision are equally important.\n",
            "    \n",
            "    The support is the number of occurrences of each class in ``y_true``.\n",
            "    \n",
            "    If ``pos_label is None`` and in binary classification, this function\n",
            "    returns the average precision, recall and F-measure if ``average``\n",
            "    is one of ``'micro'``, ``'macro'``, ``'weighted'`` or ``'samples'``.\n",
            "    \n",
            "    Read more in the :ref:`User Guide <precision_recall_f_measure_metrics>`.\n",
            "    \n",
            "    Parameters\n",
            "    ----------\n",
            "    y_true : 1d array-like, or label indicator array / sparse matrix\n",
            "        Ground truth (correct) target values.\n",
            "    \n",
            "    y_pred : 1d array-like, or label indicator array / sparse matrix\n",
            "        Estimated targets as returned by a classifier.\n",
            "    \n",
            "    beta : float, default=1.0\n",
            "        The strength of recall versus precision in the F-score.\n",
            "    \n",
            "    labels : array-like, default=None\n",
            "        The set of labels to include when ``average != 'binary'``, and their\n",
            "        order if ``average is None``. Labels present in the data can be\n",
            "        excluded, for example to calculate a multiclass average ignoring a\n",
            "        majority negative class, while labels not present in the data will\n",
            "        result in 0 components in a macro average. For multilabel targets,\n",
            "        labels are column indices. By default, all labels in ``y_true`` and\n",
            "        ``y_pred`` are used in sorted order.\n",
            "    \n",
            "    pos_label : str or int, default=1\n",
            "        The class to report if ``average='binary'`` and the data is binary.\n",
            "        If the data are multiclass or multilabel, this will be ignored;\n",
            "        setting ``labels=[pos_label]`` and ``average != 'binary'`` will report\n",
            "        scores for that label only.\n",
            "    \n",
            "    average : {'binary', 'micro', 'macro', 'samples', 'weighted'},             default=None\n",
            "        If ``None``, the scores for each class are returned. Otherwise, this\n",
            "        determines the type of averaging performed on the data:\n",
            "    \n",
            "        ``'binary'``:\n",
            "            Only report results for the class specified by ``pos_label``.\n",
            "            This is applicable only if targets (``y_{true,pred}``) are binary.\n",
            "        ``'micro'``:\n",
            "            Calculate metrics globally by counting the total true positives,\n",
            "            false negatives and false positives.\n",
            "        ``'macro'``:\n",
            "            Calculate metrics for each label, and find their unweighted\n",
            "            mean.  This does not take label imbalance into account.\n",
            "        ``'weighted'``:\n",
            "            Calculate metrics for each label, and find their average weighted\n",
            "            by support (the number of true instances for each label). This\n",
            "            alters 'macro' to account for label imbalance; it can result in an\n",
            "            F-score that is not between precision and recall.\n",
            "        ``'samples'``:\n",
            "            Calculate metrics for each instance, and find their average (only\n",
            "            meaningful for multilabel classification where this differs from\n",
            "            :func:`accuracy_score`).\n",
            "    \n",
            "    warn_for : tuple or set, for internal use\n",
            "        This determines which warnings will be made in the case that this\n",
            "        function is being used to return only one of its metrics.\n",
            "    \n",
            "    sample_weight : array-like of shape (n_samples,), default=None\n",
            "        Sample weights.\n",
            "    \n",
            "    zero_division : \"warn\", 0 or 1, default=\"warn\"\n",
            "        Sets the value to return when there is a zero division:\n",
            "           - recall: when there are no positive labels\n",
            "           - precision: when there are no positive predictions\n",
            "           - f-score: both\n",
            "    \n",
            "        If set to \"warn\", this acts as 0, but warnings are also raised.\n",
            "    \n",
            "    Returns\n",
            "    -------\n",
            "    precision : float (if average is not None) or array of float, shape =        [n_unique_labels]\n",
            "        Precision score.\n",
            "    \n",
            "    recall : float (if average is not None) or array of float, shape =        [n_unique_labels]\n",
            "        Recall score.\n",
            "    \n",
            "    fbeta_score : float (if average is not None) or array of float, shape =        [n_unique_labels]\n",
            "        F-beta score.\n",
            "    \n",
            "    support : None (if average is not None) or array of int, shape =        [n_unique_labels]\n",
            "        The number of occurrences of each label in ``y_true``.\n",
            "    \n",
            "    Notes\n",
            "    -----\n",
            "    When ``true positive + false positive == 0``, precision is undefined.\n",
            "    When ``true positive + false negative == 0``, recall is undefined.\n",
            "    In such cases, by default the metric will be set to 0, as will f-score,\n",
            "    and ``UndefinedMetricWarning`` will be raised. This behavior can be\n",
            "    modified with ``zero_division``.\n",
            "    \n",
            "    References\n",
            "    ----------\n",
            "    .. [1] `Wikipedia entry for the Precision and recall\n",
            "           <https://en.wikipedia.org/wiki/Precision_and_recall>`_.\n",
            "    \n",
            "    .. [2] `Wikipedia entry for the F1-score\n",
            "           <https://en.wikipedia.org/wiki/F1_score>`_.\n",
            "    \n",
            "    .. [3] `Discriminative Methods for Multi-labeled Classification Advances\n",
            "           in Knowledge Discovery and Data Mining (2004), pp. 22-30 by Shantanu\n",
            "           Godbole, Sunita Sarawagi\n",
            "           <http://www.godbole.net/shantanu/pubs/multilabelsvm-pakdd04.pdf>`_.\n",
            "    \n",
            "    Examples\n",
            "    --------\n",
            "    >>> import numpy as np\n",
            "    >>> from sklearn.metrics import precision_recall_fscore_support\n",
            "    >>> y_true = np.array(['cat', 'dog', 'pig', 'cat', 'dog', 'pig'])\n",
            "    >>> y_pred = np.array(['cat', 'pig', 'dog', 'cat', 'cat', 'dog'])\n",
            "    >>> precision_recall_fscore_support(y_true, y_pred, average='macro')\n",
            "    (0.22..., 0.33..., 0.26..., None)\n",
            "    >>> precision_recall_fscore_support(y_true, y_pred, average='micro')\n",
            "    (0.33..., 0.33..., 0.33..., None)\n",
            "    >>> precision_recall_fscore_support(y_true, y_pred, average='weighted')\n",
            "    (0.22..., 0.33..., 0.26..., None)\n",
            "    \n",
            "    It is possible to compute per-label precisions, recalls, F1-scores and\n",
            "    supports instead of averaging:\n",
            "    \n",
            "    >>> precision_recall_fscore_support(y_true, y_pred, average=None,\n",
            "    ... labels=['pig', 'dog', 'cat'])\n",
            "    (array([0.        , 0.        , 0.66...]),\n",
            "     array([0., 0., 1.]), array([0. , 0. , 0.8]),\n",
            "     array([2, 2, 2]))\n",
            "\n"
          ]
        }
      ]
    },
    {
      "cell_type": "code",
      "source": [
        "from sklearn.metrics import precision_recall_fscore_support\n",
        "\n",
        "def calculate_metrics_sentencewise(actual_tags, predicted_tags, labels):\n",
        "    # Initialize lists to store precision, recall, F1 score, and support for each class\n",
        "    precision_list = []\n",
        "    recall_list = []\n",
        "    f1_list = []\n",
        "    macro_f1 = []\n",
        "    # macro_f1 = []\n",
        "    # for actual_tags2, predicted_tags2 in zip(actual_tags,predicted_tags):\n",
        "    for i in range(len(actual_tags)):\n",
        "          if(i%1000==0):\n",
        "            print(i)\n",
        "          if(len(actual_tags[i])!=len(predicted_tags[i])):\n",
        "            continue\n",
        "    # Calculate precision, recall, F1 score, and support for each class\n",
        "      # for label in labels:\n",
        "          # vjvjvj\n",
        "          # Calculate precision, recall, F1 score, and support for the current class\n",
        "          precision, recall, f1, _ = precision_recall_fscore_support(actual_tags[i], predicted_tags[i], labels=labels, average=None,zero_division=0)\n",
        "          # type(precision)\n",
        "          # Append the values to the respective lists\n",
        "          precision_list.append(precision)\n",
        "          recall_list.append(recall)\n",
        "          f1_list.append(f1)\n",
        "          macro_f1.append(sum(f1)/len(f1))\n",
        "        # Calculate macro F1 score\n",
        "      # macro_f1.append(np.sum(f1_list) / len(f1_list))\n",
        "    precision_list = np.sum(precision_list,axis=0)/len(precision_list)\n",
        "    recall_list = np.sum(recall_list,axis=0)/len(recall_list)\n",
        "    f1_list = np.sum(f1_list,axis=0)/len(f1_list)\n",
        "    macro_f1 = sum(macro_f1)/len(macro_f1)\n",
        "    return precision_list, recall_list, f1_list, macro_f1\n"
      ],
      "metadata": {
        "id": "T9SPG7VEh_2k"
      },
      "execution_count": null,
      "outputs": []
    },
    {
      "cell_type": "code",
      "source": [
        "def calculate_metrics_overall(actual_tags, predicted_tags, labels):\n",
        "    # Initialize lists to store precision, recall, F1 score, and support for each class\n",
        "    at=[]\n",
        "    pt=[]\n",
        "    precision_list = []\n",
        "    recall_list = []\n",
        "    f1_list = []\n",
        "    macro_f1 = []\n",
        "    # macro_f1 = []\n",
        "    # for actual_tags2, predicted_tags2 in zip(actual_tags,predicted_tags):\n",
        "    for i in range(len(actual_tags)):\n",
        "          if(i%1000==0):\n",
        "            print(i)\n",
        "          if(len(actual_tags[i])!=len(predicted_tags[i])):\n",
        "            continue\n",
        "          at.extend(actual_tags[i])\n",
        "          pt.extend(predicted_tags[i])\n",
        "\n",
        "    precision, recall, f1, _ = precision_recall_fscore_support(at, pt, labels=labels, average=None,zero_division=0)\n",
        "          # type(precision)\n",
        "          # Append the values to the respective lists\n",
        "    precision_list.append(precision)\n",
        "    recall_list.append(recall)\n",
        "    f1_list.append(f1)\n",
        "    macro_f1.append(sum(f1)/len(f1))\n",
        "        # Calculate macro F1 score\n",
        "      # macro_f1.append(np.sum(f1_list) / len(f1_list))\n",
        "    precision_list = np.sum(precision_list,axis=0)/len(precision_list)\n",
        "    recall_list = np.sum(recall_list,axis=0)/len(recall_list)\n",
        "    f1_list = np.sum(f1_list,axis=0)/len(f1_list)\n",
        "    macro_f1 = sum(macro_f1)/len(macro_f1)\n",
        "    precision_all, recall_all, f1_all, _ = precision_recall_fscore_support(at, pt, labels=labels, average='micro',zero_division=0) #this and the line below\n",
        "    return precision_list, recall_list, f1_list, macro_f1, precision_all, recall_all, f1_all # are for 7 returns\n",
        "    # return precision_list, recall_list, f1_list, macro_f1"
      ],
      "metadata": {
        "id": "qKk6IX_20bQN"
      },
      "execution_count": null,
      "outputs": []
    },
    {
      "cell_type": "code",
      "source": [
        "with open('/content/gdrive/MyDrive/cs689/a2/saved_models/ner_predictions/prediction_ttv.json', 'r') as f:\n",
        "    data_ttv = json.load(f)"
      ],
      "metadata": {
        "id": "firvXU9GwkGT"
      },
      "execution_count": null,
      "outputs": []
    },
    {
      "cell_type": "code",
      "source": [
        "data_ttv['train_predicted_labels'][26]"
      ],
      "metadata": {
        "colab": {
          "base_uri": "https://localhost:8080/"
        },
        "id": "PWqQWu9Hx1t0",
        "outputId": "e6efc9e6-58b7-4c6a-8f7b-ff0d1c557557"
      },
      "execution_count": null,
      "outputs": [
        {
          "output_type": "execute_result",
          "data": {
            "text/plain": [
              "[0, 4, 4, 4, 4, 1, 2, 0, 0, 0, 0, 0, 0, 0, 0, 0, 0, 0]"
            ]
          },
          "metadata": {},
          "execution_count": 155
        }
      ]
    },
    {
      "cell_type": "code",
      "source": [
        "train_dataset_sampled['tokens'][26]"
      ],
      "metadata": {
        "colab": {
          "base_uri": "https://localhost:8080/"
        },
        "id": "3PCKSJIhywz2",
        "outputId": "269353e7-e137-4015-a56e-4a414238ae93"
      },
      "execution_count": null,
      "outputs": [
        {
          "output_type": "execute_result",
          "data": {
            "text/plain": [
              "['मुंबईतील',\n",
              " 'वरळी',\n",
              " 'येथील',\n",
              " 'ग्रीनलॉन्स',\n",
              " 'स्कूलच्या',\n",
              " 'फरझान',\n",
              " 'भरुचाने',\n",
              " '99.20',\n",
              " 'टक्के',\n",
              " 'गुणांसह',\n",
              " 'देशातून',\n",
              " 'दुसरा',\n",
              " 'क्रमांक',\n",
              " 'मिळवला',\n",
              " 'आहे',\n",
              " '.']"
            ]
          },
          "metadata": {},
          "execution_count": 158
        }
      ]
    },
    {
      "cell_type": "code",
      "source": [
        "train_dataset_sampled['ner_tags'][26]"
      ],
      "metadata": {
        "colab": {
          "base_uri": "https://localhost:8080/"
        },
        "id": "UvLrv9Vey-3c",
        "outputId": "6bb8581a-33e7-4c9e-8682-06770ebd6e8b"
      },
      "execution_count": null,
      "outputs": [
        {
          "output_type": "execute_result",
          "data": {
            "text/plain": [
              "[3, 4, 4, 4, 4, 1, 2, 0, 0, 0, 5, 0, 0, 0, 0, 0]"
            ]
          },
          "metadata": {},
          "execution_count": 156
        }
      ]
    },
    {
      "cell_type": "code",
      "execution_count": null,
      "metadata": {
        "id": "DIJgm62_cjDU",
        "colab": {
          "base_uri": "https://localhost:8080/"
        },
        "outputId": "9cb96629-317b-4e18-8f70-cce42f494603"
      },
      "outputs": [
        {
          "output_type": "stream",
          "name": "stdout",
          "text": [
            "0\n",
            "1000\n",
            "2000\n",
            "0\n",
            "1000\n",
            "2000\n",
            "precision_classwise_sentencewisecalculated:  [0.9608345  0.41710828 0.31452524 0.1942344  0.06678119 0.24872794\n",
            " 0.05232404] \n",
            "recall_classwise_sentencewisecalculated:  [0.9613745  0.42080139 0.31073198 0.19374349 0.06702084 0.25247226\n",
            " 0.05303362] \n",
            "f1_classwise_sentencewisecalculated:  [0.95768697 0.41509313 0.30908703 0.19083658 0.06544667 0.24734768\n",
            " 0.05178936] \n",
            "macro_f1_sentencewisecalculated:  0.31961248899846145\n",
            "precision_classwise_overall:  [0.96602466 0.8691385  0.89306931 0.76251455 0.71404959 0.82888147\n",
            " 0.68231047] \n",
            "recall_classwise_overall:  [0.96693843 0.8801767  0.86068702 0.76518692 0.66359447 0.86498258\n",
            " 0.69741697] \n",
            "f1_classwise_overall:  [0.96648133 0.87462277 0.8765792  0.7638484  0.68789809 0.84654731\n",
            " 0.68978102] \n",
            "macro_f1_overall:  0.8151083033455032\n"
          ]
        }
      ],
      "source": [
        "\n",
        "# Have to run this cell thrice for train, testing and validation\n",
        "labels = [0, 1, 2, 3, 4, 5, 6]\n",
        "# # labels = [0, 1, 2, 3]\n",
        "# # Define the actual and predicted tags\n",
        "# # actual_tags = [[0, 0, 1], [2, 2, 3]]\n",
        "# # predicted_tags = [[2, 2, 1], [2, 0, 3]]\n",
        "actual_tags = data_ttv['validation_actual_labels']\n",
        "predicted_tags = data_ttv['validation_predicted_labels']\n",
        "\n",
        "# Calculate metrics\n",
        "precision_list, recall_list, f1_list, macro_f1 = calculate_metrics_sentencewise(actual_tags, predicted_tags, labels)\n",
        "validation_sentwise_stats=[precision_list,recall_list,f1_list,macro_f1]\n",
        "\n",
        "precision_list_overall, recall_list_overall, f1_list_overall, macro_f1_overall = calculate_metrics_overall(actual_tags, predicted_tags, labels)\n",
        "validation_overall_stats=[precision_list_overall,recall_list_overall,f1_list_overall,macro_f1_overall]\n",
        "\n",
        "print('precision_classwise_sentencewisecalculated: ',precision_list,'\\nrecall_classwise_sentencewisecalculated: ',recall_list,\n",
        "      '\\nf1_classwise_sentencewisecalculated: ',f1_list,'\\nmacro_f1_sentencewisecalculated: ',macro_f1)\n",
        "\n",
        "print('precision_classwise_overall: ',precision_list_overall,'\\nrecall_classwise_overall: ',recall_list_overall,\n",
        "      '\\nf1_classwise_overall: ',f1_list_overall,'\\nmacro_f1_overall: ',macro_f1_overall)\n",
        "\n"
      ]
    },
    {
      "cell_type": "code",
      "source": [
        "with open('/content/gdrive/MyDrive/cs689/a2/saved_models/ner_predictions/stats_ttv_indicner.txt', 'w') as f3:\n",
        "    f3.write('IndicNER\\n\\n')\n",
        "    f3.write('Over all the predicted words\\n\\n')\n",
        "    f3.write('TRAINING\\n')\n",
        "    f3.write('MACRO-f1  : %1f\\n' % (train_overall_stats[3]))\n",
        "    f3.write('Metric    :     O    :   B-PER  :   I-PER  :   B-ORG  :   I-ORG  :   B-LOC  :   I-LOC\\n')\n",
        "    f3.write('Precision : %1f : %1f : %1f : %1f : %1f : %1f : %1f\\n' % (train_overall_stats[0][0],train_overall_stats[0][1],train_overall_stats[0][2],train_overall_stats[0][3],train_overall_stats[0][4],train_overall_stats[0][5],train_overall_stats[0][6]))\n",
        "    f3.write('Recall    : %1f : %1f : %1f : %1f : %1f : %1f : %1f\\n' % (train_overall_stats[1][0],train_overall_stats[1][1],train_overall_stats[1][2],train_overall_stats[1][3],train_overall_stats[1][4],train_overall_stats[1][5],train_overall_stats[1][6]))\n",
        "    f3.write('f1        : %1f : %1f : %1f : %1f : %1f : %1f : %1f\\n' % (train_overall_stats[2][0],train_overall_stats[2][1],train_overall_stats[2][2],train_overall_stats[2][3],train_overall_stats[2][4],train_overall_stats[2][5],train_overall_stats[2][6]))\n",
        "    f3.write('\\nTESTING\\n')\n",
        "    f3.write('MACRO-f1  : %1f\\n' % (test_overall_stats[3]))\n",
        "    f3.write('Metric    :     O    :   B-PER  :   I-PER  :   B-ORG  :   I-ORG  :   B-LOC  :   I-LOC\\n')\n",
        "    f3.write('Precision : %1f : %1f : %1f : %1f : %1f : %1f : %1f\\n' % (test_overall_stats[0][0],test_overall_stats[0][1],test_overall_stats[0][2],test_overall_stats[0][3],test_overall_stats[0][4],test_overall_stats[0][5],test_overall_stats[0][6]))\n",
        "    f3.write('Recall    : %1f : %1f : %1f : %1f : %1f : %1f : %1f\\n' % (test_overall_stats[1][0],test_overall_stats[1][1],test_overall_stats[1][2],test_overall_stats[1][3],test_overall_stats[1][4],test_overall_stats[1][5],test_overall_stats[1][6]))\n",
        "    f3.write('f1        : %1f : %1f : %1f : %1f : %1f : %1f : %1f\\n' % (test_overall_stats[2][0],test_overall_stats[2][1],test_overall_stats[2][2],test_overall_stats[2][3],test_overall_stats[2][4],test_overall_stats[2][5],test_overall_stats[2][6]))\n",
        "    f3.write('\\nVALIDATION\\n')\n",
        "    f3.write('MACRO-f1  : %1f\\n' % (validation_overall_stats[3]))\n",
        "    f3.write('Metric    :     O    :   B-PER  :   I-PER  :   B-ORG  :   I-ORG  :   B-LOC  :   I-LOC\\n')\n",
        "    f3.write('Precision : %1f : %1f : %1f : %1f : %1f : %1f : %1f\\n' % (validation_overall_stats[0][0],validation_overall_stats[0][1],validation_overall_stats[0][2],validation_overall_stats[0][3],validation_overall_stats[0][4],validation_overall_stats[0][5],validation_overall_stats[0][6]))\n",
        "    f3.write('Recall    : %1f : %1f : %1f : %1f : %1f : %1f : %1f\\n' % (validation_overall_stats[1][0],validation_overall_stats[1][1],validation_overall_stats[1][2],validation_overall_stats[1][3],validation_overall_stats[1][4],validation_overall_stats[1][5],validation_overall_stats[1][6]))\n",
        "    f3.write('f1        : %1f : %1f : %1f : %1f : %1f : %1f : %1f\\n' % (validation_overall_stats[2][0],validation_overall_stats[2][1],validation_overall_stats[2][2],validation_overall_stats[2][3],validation_overall_stats[2][4],validation_overall_stats[2][5],validation_overall_stats[2][6]))\n",
        "    f3.write('\\n\\n------------------------------------------------------------------------------------------------------------------------------------------\\n\\n')\n",
        "    f3.write('Averaged over sentences (Not very important, just for stats)\\n\\n')\n",
        "    f3.write('TRAINING\\n')\n",
        "    f3.write('MACRO-f1  : %1f\\n' % (train_sentwise_stats[3]))\n",
        "    f3.write('Metric    :     O    :   B-PER  :   I-PER  :   B-ORG  :   I-ORG  :   B-LOC  :   I-LOC\\n')\n",
        "    f3.write('Precision : %1f : %1f : %1f : %1f : %1f : %1f : %1f\\n' % (train_sentwise_stats[0][0],train_sentwise_stats[0][1],train_sentwise_stats[0][2],train_sentwise_stats[0][3],train_sentwise_stats[0][4],train_sentwise_stats[0][5],train_sentwise_stats[0][6]))\n",
        "    f3.write('Recall    : %1f : %1f : %1f : %1f : %1f : %1f : %1f\\n' % (train_sentwise_stats[1][0],train_sentwise_stats[1][1],train_sentwise_stats[1][2],train_sentwise_stats[1][3],train_sentwise_stats[1][4],train_sentwise_stats[1][5],train_sentwise_stats[1][6]))\n",
        "    f3.write('f1        : %1f : %1f : %1f : %1f : %1f : %1f : %1f\\n' % (train_sentwise_stats[2][0],train_sentwise_stats[2][1],train_sentwise_stats[2][2],train_sentwise_stats[2][3],train_sentwise_stats[2][4],train_sentwise_stats[2][5],train_sentwise_stats[2][6]))\n",
        "    f3.write('\\nTESTING\\n')\n",
        "    f3.write('MACRO-f1  : %1f\\n' % (test_sentwise_stats[3]))\n",
        "    f3.write('Metric    :     O    :   B-PER  :   I-PER  :   B-ORG  :   I-ORG  :   B-LOC  :   I-LOC\\n')\n",
        "    f3.write('Precision : %1f : %1f : %1f : %1f : %1f : %1f : %1f\\n' % (test_sentwise_stats[0][0],test_sentwise_stats[0][1],test_sentwise_stats[0][2],test_sentwise_stats[0][3],test_sentwise_stats[0][4],test_sentwise_stats[0][5],test_sentwise_stats[0][6]))\n",
        "    f3.write('Recall    : %1f : %1f : %1f : %1f : %1f : %1f : %1f\\n' % (test_sentwise_stats[1][0],test_sentwise_stats[1][1],test_sentwise_stats[1][2],test_sentwise_stats[1][3],test_sentwise_stats[1][4],test_sentwise_stats[1][5],test_sentwise_stats[1][6]))\n",
        "    f3.write('f1        : %1f : %1f : %1f : %1f : %1f : %1f : %1f\\n' % (test_sentwise_stats[2][0],test_sentwise_stats[2][1],test_sentwise_stats[2][2],test_sentwise_stats[2][3],test_sentwise_stats[2][4],test_sentwise_stats[2][5],test_sentwise_stats[2][6]))\n",
        "    f3.write('\\nVALIDATION\\n')\n",
        "    f3.write('MACRO-f1  : %1f\\n' % (validation_sentwise_stats[3]))\n",
        "    f3.write('Metric    :     O    :   B-PER  :   I-PER  :   B-ORG  :   I-ORG  :   B-LOC  :   I-LOC\\n')\n",
        "    f3.write('Precision : %1f : %1f : %1f : %1f : %1f : %1f : %1f\\n' % (validation_sentwise_stats[0][0],validation_sentwise_stats[0][1],validation_sentwise_stats[0][2],validation_sentwise_stats[0][3],validation_sentwise_stats[0][4],validation_sentwise_stats[0][5],validation_sentwise_stats[0][6]))\n",
        "    f3.write('Recall    : %1f : %1f : %1f : %1f : %1f : %1f : %1f\\n' % (validation_sentwise_stats[1][0],validation_sentwise_stats[1][1],validation_sentwise_stats[1][2],validation_sentwise_stats[1][3],validation_sentwise_stats[1][4],validation_sentwise_stats[1][5],validation_sentwise_stats[1][6]))\n",
        "    f3.write('f1        : %1f : %1f : %1f : %1f : %1f : %1f : %1f\\n' % (validation_sentwise_stats[2][0],validation_sentwise_stats[2][1],validation_sentwise_stats[2][2],validation_sentwise_stats[2][3],validation_sentwise_stats[2][4],validation_sentwise_stats[2][5],validation_sentwise_stats[2][6]))"
      ],
      "metadata": {
        "id": "gnedDWw7tBji"
      },
      "execution_count": null,
      "outputs": []
    },
    {
      "cell_type": "code",
      "source": [
        "import re\n",
        "#converting sentences to proper format for classification\n",
        "def sen_to_list(sentence):\n",
        "\n",
        "  pattern = r'[\\'\\+’\\-\\*/\\.!‘@#$%&~`=,<>\\?\\|\\(\\)]'\n",
        "  words = re.sub(r'([कखगघङचछजझञटठडढणतथदधनपफबभमयरलवशषसहabcdefghijklmnopqrstuvwxyz])(?=[1234567890०१२३४५६७८९])|([1234567890०१२३४५६७८९])(?=[कखगघङचछजझञटठडढणतथदधनपफबभमयरलवशषसहabcdefghijklmnopqrstuvwxyz])', r'\\g<1>\\g<2> ', sentence)\n",
        "  words = re.sub(r'[‘’@#$%&~`=,<>\\+\\-\\?\\|\\(\\)\\'\\*\\.]',r' \\g<0> ' ,words)\n",
        "  words = re.sub('\\xa0',r' ' ,words)\n",
        "  words = words.strip()\n",
        "  words = words.split(' ')\n",
        "  words = [item for item in words if item]\n",
        "  return words"
      ],
      "metadata": {
        "id": "Szv9wpnSGiGW"
      },
      "execution_count": null,
      "outputs": []
    },
    {
      "cell_type": "code",
      "source": [
        "with open('/content/gdrive/MyDrive/cs689/a2/q1_cs689_a2_gpt.txt', 'r') as f2:\n",
        "  gpt = f2.read()"
      ],
      "metadata": {
        "id": "T57fJXMyanlU"
      },
      "execution_count": null,
      "outputs": []
    },
    {
      "cell_type": "code",
      "source": [
        "with open('/content/gdrive/MyDrive/cs689/a2/q1_cs689_a2.txt', 'r') as f3:\n",
        "  orig = f3.read()"
      ],
      "metadata": {
        "id": "RUaWOKivGsbF"
      },
      "execution_count": null,
      "outputs": []
    },
    {
      "cell_type": "code",
      "source": [
        "orig = orig.split('\\n')\n",
        "gpt = gpt.split('\\n')"
      ],
      "metadata": {
        "id": "pZxNA38WHLzT"
      },
      "execution_count": null,
      "outputs": []
    },
    {
      "cell_type": "code",
      "source": [
        "orig = [item for item in orig if item]\n",
        "gpt = [item for item in gpt if item]"
      ],
      "metadata": {
        "id": "mhabRkqyHQSA"
      },
      "execution_count": null,
      "outputs": []
    },
    {
      "cell_type": "code",
      "source": [
        "# orig"
      ],
      "metadata": {
        "id": "1N2zMCpGHfzt"
      },
      "execution_count": null,
      "outputs": []
    },
    {
      "cell_type": "code",
      "source": [
        "q1_list = []\n",
        "q1_actual_labels = []\n",
        "q1_predicted_labels = []\n",
        "q1_gpt_labels = []"
      ],
      "metadata": {
        "id": "UXwGVAOuIAAh"
      },
      "execution_count": null,
      "outputs": []
    },
    {
      "cell_type": "code",
      "source": [
        "for i in range(0,len(orig)-1,2):\n",
        "  q1_list.append(sen_to_list(orig[i][3:]))\n",
        "  q1_actual_labels.append(orig[i+1].split(' '))\n",
        "  q1_gpt_labels.append(gpt[i+1].split(' '))"
      ],
      "metadata": {
        "id": "QEwtQlwAIaaq"
      },
      "execution_count": null,
      "outputs": []
    },
    {
      "cell_type": "code",
      "source": [
        "label_to_index_q1 = {\"O\": 0, \"B-PER\": 1, \"I-PER\": 2, \"B-ORG\": 3, \"I-ORG\": 4,\"B-LOC\": 5, \"I-LOC\": 6, \"B-MISC\":7,\"I-MISC\":8}  # Add more labels as needed\n",
        "index_to_label_q1 = {0: \"O\" , 1: \"B-PER\" , 2: \"I-PER\" , 3: \"B-ORG\" , 4: \"I-ORG\" ,5: \"B-LOC\" , 6: \"I-LOC\",7:\"B-MISC\",8: \"I-MISC\" }  # Add more labels as needed"
      ],
      "metadata": {
        "id": "WsvRs6osbd0T"
      },
      "execution_count": null,
      "outputs": []
    },
    {
      "cell_type": "code",
      "source": [
        "for j in range(len(q1_actual_labels)):\n",
        "  for i in range(len(q1_actual_labels[j])):\n",
        "    q1_actual_labels[j][i] = label_to_index_q1[q1_actual_labels[j][i]]\n",
        "    q1_gpt_labels[j][i] = label_to_index_q1[q1_gpt_labels[j][i]]"
      ],
      "metadata": {
        "id": "0NMLIbv2alno"
      },
      "execution_count": null,
      "outputs": []
    },
    {
      "cell_type": "code",
      "source": [
        " for i in range(len(q1_list)):\n",
        "  # predicted_labels = get_predictions(sentence=' '.join(train_toks[i]), tokenizer=tokenizer, model=model)\n",
        "  # train_predicted_labels.append(predicted_labels)\n",
        "  q1_predicted_labels.append(get_predictions(sentence=' '.join(q1_list[i]), tokenizer=tokenizer, model=model))"
      ],
      "metadata": {
        "id": "sJTrSC3OdE-f"
      },
      "execution_count": null,
      "outputs": []
    },
    {
      "cell_type": "code",
      "source": [
        "\n",
        "# Define the labels\n",
        "labels = [0, 1, 2, 3, 4, 5, 6,7,8]\n",
        "\n",
        "# Calculate metrics\n",
        "precision_list_overall, recall_list_overall, f1_list_overall, macro_f1_overall, precision_all_overall,recall_all_overall,f1_all_overall = calculate_metrics_overall(q1_actual_labels, q1_predicted_labels, labels)\n",
        "ner_vs_manual_overall_stats=[precision_list_overall,recall_list_overall,f1_list_overall,macro_f1_overall,precision_all_overall,recall_all_overall,f1_all_overall]\n",
        "\n",
        "precision_list_overall2, recall_list_overall2, f1_list_overall2, macro_f1_overall2, precision_all_overall2,recall_all_overall2,f1_all_overall2 = calculate_metrics_overall(q1_actual_labels, q1_gpt_labels, labels)\n",
        "gpt_vs_manual_overall2_stats=[precision_list_overall2,recall_list_overall2,f1_list_overall2,macro_f1_overall2, precision_all_overall2,recall_all_overall2,f1_all_overall2]\n",
        "\n",
        "print('precision_classwise_overall: ',precision_list_overall,'\\nrecall_classwise_overall: ',recall_list_overall,\n",
        "      '\\nf1_classwise_overall: ',f1_list_overall,'\\nmacro_f1_overall: ',macro_f1_overall,'\\nprecision_all_overall: ',precision_all_overall,'\\nrecall_all_overall: ',recall_all_overall,\n",
        "      '\\nf1_all_overall: ',f1_all_overall)\n",
        "\n",
        "print('precision_classwise_overall2: ',precision_list_overall2,'\\nrecall_classwise_overall2: ',recall_list_overall2,\n",
        "      '\\nf1_classwise_overall2: ',f1_list_overall2,'\\nmacro_f1_overall2: ',macro_f1_overall2,'\\nprecision_all_overall2: ',precision_all_overall2,'\\nrecall_all_overall2: ',recall_all_overall2,\n",
        "      '\\nf1_all_overall2: ',f1_all_overall2)\n",
        "\n"
      ],
      "metadata": {
        "colab": {
          "base_uri": "https://localhost:8080/"
        },
        "id": "nzLqdFxTeiSl",
        "outputId": "b4268716-264d-44c7-c755-4c8792ea3e7a"
      },
      "execution_count": null,
      "outputs": [
        {
          "output_type": "stream",
          "name": "stdout",
          "text": [
            "0\n",
            "0\n",
            "precision_classwise_overall:  [0.82599119 0.75       1.         0.85714286 0.61111111 0.71428571\n",
            " 0.5        0.         0.        ] \n",
            "recall_classwise_overall:  [0.98684211 0.9        0.91666667 0.52173913 0.52380952 0.83333333\n",
            " 1.         0.         0.        ] \n",
            "f1_classwise_overall:  [0.89928058 0.81818182 0.95652174 0.64864865 0.56410256 0.76923077\n",
            " 0.66666667 0.         0.        ] \n",
            "macro_f1_overall:  0.5914036423889413 \n",
            "precision_all_overall:  0.8185328185328186 \n",
            "recall_all_overall:  0.8185328185328186 \n",
            "f1_all_overall:  0.8185328185328186\n",
            "precision_classwise_overall2:  [0.75555556 0.57142857 0.5        0.         0.         0.\n",
            " 0.         1.         1.        ] \n",
            "recall_classwise_overall2:  [0.98421053 0.4        0.33333333 0.         0.         0.\n",
            " 0.         0.04       0.025     ] \n",
            "f1_classwise_overall2:  [0.85485714 0.47058824 0.4        0.         0.         0.\n",
            " 0.         0.07692308 0.04878049] \n",
            "macro_f1_overall2:  0.20568321587546834 \n",
            "precision_all_overall2:  0.7413127413127413 \n",
            "recall_all_overall2:  0.7413127413127413 \n",
            "f1_all_overall2:  0.7413127413127413\n"
          ]
        }
      ]
    },
    {
      "cell_type": "code",
      "source": [
        "with open('/content/gdrive/MyDrive/cs689/a2/saved_models/ner_predictions/ner_vs_manual.txt', 'w') as f3:\n",
        "    f3.write('IndicNER\\n\\n')\n",
        "    f3.write('Over all the predicted words over all 9 labels\\n\\n')\n",
        "    f3.write('NER Model\\n')\n",
        "    f3.write('MACRO-f1  : %1f\\n' % (ner_vs_manual_overall_stats[3]))\n",
        "    f3.write('Metric    :     O    :   B-PER  :   I-PER  :   B-ORG  :   I-ORG  :   B-LOC  :   I-LOC  :  B-MISC  :  I-MISC\\n')\n",
        "    f3.write('Precision : %1f : %1f : %1f : %1f : %1f : %1f : %1f : %1f : %1f\\n' % (ner_vs_manual_overall_stats[0][0],ner_vs_manual_overall_stats[0][1],ner_vs_manual_overall_stats[0][2],ner_vs_manual_overall_stats[0][3],ner_vs_manual_overall_stats[0][4],ner_vs_manual_overall_stats[0][5],ner_vs_manual_overall_stats[0][6],ner_vs_manual_overall_stats[0][7],ner_vs_manual_overall_stats[0][8]))\n",
        "    f3.write('Recall    : %1f : %1f : %1f : %1f : %1f : %1f : %1f : %1f : %1f\\n' % (ner_vs_manual_overall_stats[1][0],ner_vs_manual_overall_stats[1][1],ner_vs_manual_overall_stats[1][2],ner_vs_manual_overall_stats[1][3],ner_vs_manual_overall_stats[1][4],ner_vs_manual_overall_stats[1][5],ner_vs_manual_overall_stats[1][6],ner_vs_manual_overall_stats[1][7],ner_vs_manual_overall_stats[1][8]))\n",
        "    f3.write('f1        : %1f : %1f : %1f : %1f : %1f : %1f : %1f : %1f : %1f\\n' % (ner_vs_manual_overall_stats[2][0],ner_vs_manual_overall_stats[2][1],ner_vs_manual_overall_stats[2][2],ner_vs_manual_overall_stats[2][3],ner_vs_manual_overall_stats[2][4],ner_vs_manual_overall_stats[2][5],ner_vs_manual_overall_stats[2][6],ner_vs_manual_overall_stats[2][7],ner_vs_manual_overall_stats[2][8]))\n",
        "    f3.write('Prec_all  : %1f\\n' % (ner_vs_manual_overall_stats[4]))\n",
        "    f3.write('Recall_all: %1f\\n' % (ner_vs_manual_overall_stats[5]))\n",
        "    f3.write('f1_all    : %1f\\n' % (ner_vs_manual_overall_stats[6]))\n",
        "    f3.write('\\nGPT\\n')\n",
        "    f3.write('MACRO-f1  : %1f\\n' % (gpt_vs_manual_overall2_stats[3]))\n",
        "    f3.write('Metric    :     O    :   B-PER  :   I-PER  :   B-ORG  :   I-ORG  :   B-LOC  :   I-LOC  :  B-MISC  :  I-MISC\\n')\n",
        "    f3.write('Precision : %1f : %1f : %1f : %1f : %1f : %1f : %1f : %1f : %1f\\n' % (gpt_vs_manual_overall2_stats[0][0],gpt_vs_manual_overall2_stats[0][1],gpt_vs_manual_overall2_stats[0][2],gpt_vs_manual_overall2_stats[0][3],gpt_vs_manual_overall2_stats[0][4],gpt_vs_manual_overall2_stats[0][5],gpt_vs_manual_overall2_stats[0][6],gpt_vs_manual_overall2_stats[0][7],gpt_vs_manual_overall2_stats[0][8]))\n",
        "    f3.write('Recall    : %1f : %1f : %1f : %1f : %1f : %1f : %1f : %1f : %1f\\n' % (gpt_vs_manual_overall2_stats[1][0],gpt_vs_manual_overall2_stats[1][1],gpt_vs_manual_overall2_stats[1][2],gpt_vs_manual_overall2_stats[1][3],gpt_vs_manual_overall2_stats[1][4],gpt_vs_manual_overall2_stats[1][5],gpt_vs_manual_overall2_stats[1][6],gpt_vs_manual_overall2_stats[1][7],gpt_vs_manual_overall2_stats[1][8]))\n",
        "    f3.write('f1        : %1f : %1f : %1f : %1f : %1f : %1f : %1f : %1f : %1f\\n' % (gpt_vs_manual_overall2_stats[2][0],gpt_vs_manual_overall2_stats[2][1],gpt_vs_manual_overall2_stats[2][2],gpt_vs_manual_overall2_stats[2][3],gpt_vs_manual_overall2_stats[2][4],gpt_vs_manual_overall2_stats[2][5],gpt_vs_manual_overall2_stats[2][6],gpt_vs_manual_overall2_stats[2][7],gpt_vs_manual_overall2_stats[2][8]))\n",
        "    f3.write('Prec_all  : %1f\\n' % (gpt_vs_manual_overall2_stats[4]))\n",
        "    f3.write('Recall_all: %1f\\n' % (gpt_vs_manual_overall2_stats[5]))\n",
        "    f3.write('f1_all    : %1f\\n' % (gpt_vs_manual_overall2_stats[6]))"
      ],
      "metadata": {
        "id": "aFqAUT5_i4Yy"
      },
      "execution_count": null,
      "outputs": []
    }
  ],
  "metadata": {
    "colab": {
      "provenance": []
    },
    "kernelspec": {
      "display_name": "Python 3",
      "name": "python3"
    },
    "language_info": {
      "name": "python"
    },
    "widgets": {
      "application/vnd.jupyter.widget-state+json": {
        "70a1a9630b474daf93a2c9cf5a029190": {
          "model_module": "@jupyter-widgets/controls",
          "model_name": "HBoxModel",
          "model_module_version": "1.5.0",
          "state": {
            "_dom_classes": [],
            "_model_module": "@jupyter-widgets/controls",
            "_model_module_version": "1.5.0",
            "_model_name": "HBoxModel",
            "_view_count": null,
            "_view_module": "@jupyter-widgets/controls",
            "_view_module_version": "1.5.0",
            "_view_name": "HBoxView",
            "box_style": "",
            "children": [
              "IPY_MODEL_89af7fdad51f4bdf8ab28b1d576d9a52",
              "IPY_MODEL_c7d109fe36a54f05ad0c13e73c64d973",
              "IPY_MODEL_4a29f1d6eea54b7f815c6b830709d55a"
            ],
            "layout": "IPY_MODEL_06171875f549454bbcbe784ffa3e8365"
          }
        },
        "89af7fdad51f4bdf8ab28b1d576d9a52": {
          "model_module": "@jupyter-widgets/controls",
          "model_name": "HTMLModel",
          "model_module_version": "1.5.0",
          "state": {
            "_dom_classes": [],
            "_model_module": "@jupyter-widgets/controls",
            "_model_module_version": "1.5.0",
            "_model_name": "HTMLModel",
            "_view_count": null,
            "_view_module": "@jupyter-widgets/controls",
            "_view_module_version": "1.5.0",
            "_view_name": "HTMLView",
            "description": "",
            "description_tooltip": null,
            "layout": "IPY_MODEL_cd1b84456eb14491a1c8ad03ceaf4ea6",
            "placeholder": "​",
            "style": "IPY_MODEL_a1f2e359b6cc4bf0b73397ff06147e2d",
            "value": "Running tokenizer on Validation dataset (num_proc=4): 100%"
          }
        },
        "c7d109fe36a54f05ad0c13e73c64d973": {
          "model_module": "@jupyter-widgets/controls",
          "model_name": "FloatProgressModel",
          "model_module_version": "1.5.0",
          "state": {
            "_dom_classes": [],
            "_model_module": "@jupyter-widgets/controls",
            "_model_module_version": "1.5.0",
            "_model_name": "FloatProgressModel",
            "_view_count": null,
            "_view_module": "@jupyter-widgets/controls",
            "_view_module_version": "1.5.0",
            "_view_name": "ProgressView",
            "bar_style": "success",
            "description": "",
            "description_tooltip": null,
            "layout": "IPY_MODEL_b9eafbd4f4c54f69a15645b660d8c41e",
            "max": 2300,
            "min": 0,
            "orientation": "horizontal",
            "style": "IPY_MODEL_e62ba5e198474df1b3384b7c6a471e11",
            "value": 2300
          }
        },
        "4a29f1d6eea54b7f815c6b830709d55a": {
          "model_module": "@jupyter-widgets/controls",
          "model_name": "HTMLModel",
          "model_module_version": "1.5.0",
          "state": {
            "_dom_classes": [],
            "_model_module": "@jupyter-widgets/controls",
            "_model_module_version": "1.5.0",
            "_model_name": "HTMLModel",
            "_view_count": null,
            "_view_module": "@jupyter-widgets/controls",
            "_view_module_version": "1.5.0",
            "_view_name": "HTMLView",
            "description": "",
            "description_tooltip": null,
            "layout": "IPY_MODEL_67862b7550734334a7f1461a86563f8f",
            "placeholder": "​",
            "style": "IPY_MODEL_e7a5083aced34bcb9777f31c1fd956a8",
            "value": " 2300/2300 [00:03&lt;00:00, 1341.10 examples/s]"
          }
        },
        "06171875f549454bbcbe784ffa3e8365": {
          "model_module": "@jupyter-widgets/base",
          "model_name": "LayoutModel",
          "model_module_version": "1.2.0",
          "state": {
            "_model_module": "@jupyter-widgets/base",
            "_model_module_version": "1.2.0",
            "_model_name": "LayoutModel",
            "_view_count": null,
            "_view_module": "@jupyter-widgets/base",
            "_view_module_version": "1.2.0",
            "_view_name": "LayoutView",
            "align_content": null,
            "align_items": null,
            "align_self": null,
            "border": null,
            "bottom": null,
            "display": null,
            "flex": null,
            "flex_flow": null,
            "grid_area": null,
            "grid_auto_columns": null,
            "grid_auto_flow": null,
            "grid_auto_rows": null,
            "grid_column": null,
            "grid_gap": null,
            "grid_row": null,
            "grid_template_areas": null,
            "grid_template_columns": null,
            "grid_template_rows": null,
            "height": null,
            "justify_content": null,
            "justify_items": null,
            "left": null,
            "margin": null,
            "max_height": null,
            "max_width": null,
            "min_height": null,
            "min_width": null,
            "object_fit": null,
            "object_position": null,
            "order": null,
            "overflow": null,
            "overflow_x": null,
            "overflow_y": null,
            "padding": null,
            "right": null,
            "top": null,
            "visibility": null,
            "width": null
          }
        },
        "cd1b84456eb14491a1c8ad03ceaf4ea6": {
          "model_module": "@jupyter-widgets/base",
          "model_name": "LayoutModel",
          "model_module_version": "1.2.0",
          "state": {
            "_model_module": "@jupyter-widgets/base",
            "_model_module_version": "1.2.0",
            "_model_name": "LayoutModel",
            "_view_count": null,
            "_view_module": "@jupyter-widgets/base",
            "_view_module_version": "1.2.0",
            "_view_name": "LayoutView",
            "align_content": null,
            "align_items": null,
            "align_self": null,
            "border": null,
            "bottom": null,
            "display": null,
            "flex": null,
            "flex_flow": null,
            "grid_area": null,
            "grid_auto_columns": null,
            "grid_auto_flow": null,
            "grid_auto_rows": null,
            "grid_column": null,
            "grid_gap": null,
            "grid_row": null,
            "grid_template_areas": null,
            "grid_template_columns": null,
            "grid_template_rows": null,
            "height": null,
            "justify_content": null,
            "justify_items": null,
            "left": null,
            "margin": null,
            "max_height": null,
            "max_width": null,
            "min_height": null,
            "min_width": null,
            "object_fit": null,
            "object_position": null,
            "order": null,
            "overflow": null,
            "overflow_x": null,
            "overflow_y": null,
            "padding": null,
            "right": null,
            "top": null,
            "visibility": null,
            "width": null
          }
        },
        "a1f2e359b6cc4bf0b73397ff06147e2d": {
          "model_module": "@jupyter-widgets/controls",
          "model_name": "DescriptionStyleModel",
          "model_module_version": "1.5.0",
          "state": {
            "_model_module": "@jupyter-widgets/controls",
            "_model_module_version": "1.5.0",
            "_model_name": "DescriptionStyleModel",
            "_view_count": null,
            "_view_module": "@jupyter-widgets/base",
            "_view_module_version": "1.2.0",
            "_view_name": "StyleView",
            "description_width": ""
          }
        },
        "b9eafbd4f4c54f69a15645b660d8c41e": {
          "model_module": "@jupyter-widgets/base",
          "model_name": "LayoutModel",
          "model_module_version": "1.2.0",
          "state": {
            "_model_module": "@jupyter-widgets/base",
            "_model_module_version": "1.2.0",
            "_model_name": "LayoutModel",
            "_view_count": null,
            "_view_module": "@jupyter-widgets/base",
            "_view_module_version": "1.2.0",
            "_view_name": "LayoutView",
            "align_content": null,
            "align_items": null,
            "align_self": null,
            "border": null,
            "bottom": null,
            "display": null,
            "flex": null,
            "flex_flow": null,
            "grid_area": null,
            "grid_auto_columns": null,
            "grid_auto_flow": null,
            "grid_auto_rows": null,
            "grid_column": null,
            "grid_gap": null,
            "grid_row": null,
            "grid_template_areas": null,
            "grid_template_columns": null,
            "grid_template_rows": null,
            "height": null,
            "justify_content": null,
            "justify_items": null,
            "left": null,
            "margin": null,
            "max_height": null,
            "max_width": null,
            "min_height": null,
            "min_width": null,
            "object_fit": null,
            "object_position": null,
            "order": null,
            "overflow": null,
            "overflow_x": null,
            "overflow_y": null,
            "padding": null,
            "right": null,
            "top": null,
            "visibility": null,
            "width": null
          }
        },
        "e62ba5e198474df1b3384b7c6a471e11": {
          "model_module": "@jupyter-widgets/controls",
          "model_name": "ProgressStyleModel",
          "model_module_version": "1.5.0",
          "state": {
            "_model_module": "@jupyter-widgets/controls",
            "_model_module_version": "1.5.0",
            "_model_name": "ProgressStyleModel",
            "_view_count": null,
            "_view_module": "@jupyter-widgets/base",
            "_view_module_version": "1.2.0",
            "_view_name": "StyleView",
            "bar_color": null,
            "description_width": ""
          }
        },
        "67862b7550734334a7f1461a86563f8f": {
          "model_module": "@jupyter-widgets/base",
          "model_name": "LayoutModel",
          "model_module_version": "1.2.0",
          "state": {
            "_model_module": "@jupyter-widgets/base",
            "_model_module_version": "1.2.0",
            "_model_name": "LayoutModel",
            "_view_count": null,
            "_view_module": "@jupyter-widgets/base",
            "_view_module_version": "1.2.0",
            "_view_name": "LayoutView",
            "align_content": null,
            "align_items": null,
            "align_self": null,
            "border": null,
            "bottom": null,
            "display": null,
            "flex": null,
            "flex_flow": null,
            "grid_area": null,
            "grid_auto_columns": null,
            "grid_auto_flow": null,
            "grid_auto_rows": null,
            "grid_column": null,
            "grid_gap": null,
            "grid_row": null,
            "grid_template_areas": null,
            "grid_template_columns": null,
            "grid_template_rows": null,
            "height": null,
            "justify_content": null,
            "justify_items": null,
            "left": null,
            "margin": null,
            "max_height": null,
            "max_width": null,
            "min_height": null,
            "min_width": null,
            "object_fit": null,
            "object_position": null,
            "order": null,
            "overflow": null,
            "overflow_x": null,
            "overflow_y": null,
            "padding": null,
            "right": null,
            "top": null,
            "visibility": null,
            "width": null
          }
        },
        "e7a5083aced34bcb9777f31c1fd956a8": {
          "model_module": "@jupyter-widgets/controls",
          "model_name": "DescriptionStyleModel",
          "model_module_version": "1.5.0",
          "state": {
            "_model_module": "@jupyter-widgets/controls",
            "_model_module_version": "1.5.0",
            "_model_name": "DescriptionStyleModel",
            "_view_count": null,
            "_view_module": "@jupyter-widgets/base",
            "_view_module_version": "1.2.0",
            "_view_name": "StyleView",
            "description_width": ""
          }
        },
        "e95f3164ce9d416ea2e74ef3d5fda814": {
          "model_module": "@jupyter-widgets/controls",
          "model_name": "HBoxModel",
          "model_module_version": "1.5.0",
          "state": {
            "_dom_classes": [],
            "_model_module": "@jupyter-widgets/controls",
            "_model_module_version": "1.5.0",
            "_model_name": "HBoxModel",
            "_view_count": null,
            "_view_module": "@jupyter-widgets/controls",
            "_view_module_version": "1.5.0",
            "_view_name": "HBoxView",
            "box_style": "",
            "children": [
              "IPY_MODEL_12e2065d41914ce8a0d776b575140271",
              "IPY_MODEL_bbea5963ce7048db9065426ca1c09a52",
              "IPY_MODEL_f5bc5457ee65428f9af241bb6ce6ecd1"
            ],
            "layout": "IPY_MODEL_8ac6a1d36b054b33b21220df78402f18"
          }
        },
        "12e2065d41914ce8a0d776b575140271": {
          "model_module": "@jupyter-widgets/controls",
          "model_name": "HTMLModel",
          "model_module_version": "1.5.0",
          "state": {
            "_dom_classes": [],
            "_model_module": "@jupyter-widgets/controls",
            "_model_module_version": "1.5.0",
            "_model_name": "HTMLModel",
            "_view_count": null,
            "_view_module": "@jupyter-widgets/controls",
            "_view_module_version": "1.5.0",
            "_view_name": "HTMLView",
            "description": "",
            "description_tooltip": null,
            "layout": "IPY_MODEL_fb5bf06930d345bc885a764a1228a74c",
            "placeholder": "​",
            "style": "IPY_MODEL_1334533062e04c18a1eb30556a90fa76",
            "value": "Map (num_proc=32): 100%"
          }
        },
        "bbea5963ce7048db9065426ca1c09a52": {
          "model_module": "@jupyter-widgets/controls",
          "model_name": "FloatProgressModel",
          "model_module_version": "1.5.0",
          "state": {
            "_dom_classes": [],
            "_model_module": "@jupyter-widgets/controls",
            "_model_module_version": "1.5.0",
            "_model_name": "FloatProgressModel",
            "_view_count": null,
            "_view_module": "@jupyter-widgets/controls",
            "_view_module_version": "1.5.0",
            "_view_name": "ProgressView",
            "bar_style": "success",
            "description": "",
            "description_tooltip": null,
            "layout": "IPY_MODEL_8a971c15041d46e584e174efd5b0e0a6",
            "max": 1080,
            "min": 0,
            "orientation": "horizontal",
            "style": "IPY_MODEL_e4ea85494d544246873c2953991fa06d",
            "value": 1080
          }
        },
        "f5bc5457ee65428f9af241bb6ce6ecd1": {
          "model_module": "@jupyter-widgets/controls",
          "model_name": "HTMLModel",
          "model_module_version": "1.5.0",
          "state": {
            "_dom_classes": [],
            "_model_module": "@jupyter-widgets/controls",
            "_model_module_version": "1.5.0",
            "_model_name": "HTMLModel",
            "_view_count": null,
            "_view_module": "@jupyter-widgets/controls",
            "_view_module_version": "1.5.0",
            "_view_name": "HTMLView",
            "description": "",
            "description_tooltip": null,
            "layout": "IPY_MODEL_637ce09d24cb4696a34b71ff75e2df0e",
            "placeholder": "​",
            "style": "IPY_MODEL_38a1eb6fc49e4719aa2758b92d147a76",
            "value": " 1080/1080 [00:01&lt;00:00, 755.88 examples/s]"
          }
        },
        "8ac6a1d36b054b33b21220df78402f18": {
          "model_module": "@jupyter-widgets/base",
          "model_name": "LayoutModel",
          "model_module_version": "1.2.0",
          "state": {
            "_model_module": "@jupyter-widgets/base",
            "_model_module_version": "1.2.0",
            "_model_name": "LayoutModel",
            "_view_count": null,
            "_view_module": "@jupyter-widgets/base",
            "_view_module_version": "1.2.0",
            "_view_name": "LayoutView",
            "align_content": null,
            "align_items": null,
            "align_self": null,
            "border": null,
            "bottom": null,
            "display": null,
            "flex": null,
            "flex_flow": null,
            "grid_area": null,
            "grid_auto_columns": null,
            "grid_auto_flow": null,
            "grid_auto_rows": null,
            "grid_column": null,
            "grid_gap": null,
            "grid_row": null,
            "grid_template_areas": null,
            "grid_template_columns": null,
            "grid_template_rows": null,
            "height": null,
            "justify_content": null,
            "justify_items": null,
            "left": null,
            "margin": null,
            "max_height": null,
            "max_width": null,
            "min_height": null,
            "min_width": null,
            "object_fit": null,
            "object_position": null,
            "order": null,
            "overflow": null,
            "overflow_x": null,
            "overflow_y": null,
            "padding": null,
            "right": null,
            "top": null,
            "visibility": null,
            "width": null
          }
        },
        "fb5bf06930d345bc885a764a1228a74c": {
          "model_module": "@jupyter-widgets/base",
          "model_name": "LayoutModel",
          "model_module_version": "1.2.0",
          "state": {
            "_model_module": "@jupyter-widgets/base",
            "_model_module_version": "1.2.0",
            "_model_name": "LayoutModel",
            "_view_count": null,
            "_view_module": "@jupyter-widgets/base",
            "_view_module_version": "1.2.0",
            "_view_name": "LayoutView",
            "align_content": null,
            "align_items": null,
            "align_self": null,
            "border": null,
            "bottom": null,
            "display": null,
            "flex": null,
            "flex_flow": null,
            "grid_area": null,
            "grid_auto_columns": null,
            "grid_auto_flow": null,
            "grid_auto_rows": null,
            "grid_column": null,
            "grid_gap": null,
            "grid_row": null,
            "grid_template_areas": null,
            "grid_template_columns": null,
            "grid_template_rows": null,
            "height": null,
            "justify_content": null,
            "justify_items": null,
            "left": null,
            "margin": null,
            "max_height": null,
            "max_width": null,
            "min_height": null,
            "min_width": null,
            "object_fit": null,
            "object_position": null,
            "order": null,
            "overflow": null,
            "overflow_x": null,
            "overflow_y": null,
            "padding": null,
            "right": null,
            "top": null,
            "visibility": null,
            "width": null
          }
        },
        "1334533062e04c18a1eb30556a90fa76": {
          "model_module": "@jupyter-widgets/controls",
          "model_name": "DescriptionStyleModel",
          "model_module_version": "1.5.0",
          "state": {
            "_model_module": "@jupyter-widgets/controls",
            "_model_module_version": "1.5.0",
            "_model_name": "DescriptionStyleModel",
            "_view_count": null,
            "_view_module": "@jupyter-widgets/base",
            "_view_module_version": "1.2.0",
            "_view_name": "StyleView",
            "description_width": ""
          }
        },
        "8a971c15041d46e584e174efd5b0e0a6": {
          "model_module": "@jupyter-widgets/base",
          "model_name": "LayoutModel",
          "model_module_version": "1.2.0",
          "state": {
            "_model_module": "@jupyter-widgets/base",
            "_model_module_version": "1.2.0",
            "_model_name": "LayoutModel",
            "_view_count": null,
            "_view_module": "@jupyter-widgets/base",
            "_view_module_version": "1.2.0",
            "_view_name": "LayoutView",
            "align_content": null,
            "align_items": null,
            "align_self": null,
            "border": null,
            "bottom": null,
            "display": null,
            "flex": null,
            "flex_flow": null,
            "grid_area": null,
            "grid_auto_columns": null,
            "grid_auto_flow": null,
            "grid_auto_rows": null,
            "grid_column": null,
            "grid_gap": null,
            "grid_row": null,
            "grid_template_areas": null,
            "grid_template_columns": null,
            "grid_template_rows": null,
            "height": null,
            "justify_content": null,
            "justify_items": null,
            "left": null,
            "margin": null,
            "max_height": null,
            "max_width": null,
            "min_height": null,
            "min_width": null,
            "object_fit": null,
            "object_position": null,
            "order": null,
            "overflow": null,
            "overflow_x": null,
            "overflow_y": null,
            "padding": null,
            "right": null,
            "top": null,
            "visibility": null,
            "width": null
          }
        },
        "e4ea85494d544246873c2953991fa06d": {
          "model_module": "@jupyter-widgets/controls",
          "model_name": "ProgressStyleModel",
          "model_module_version": "1.5.0",
          "state": {
            "_model_module": "@jupyter-widgets/controls",
            "_model_module_version": "1.5.0",
            "_model_name": "ProgressStyleModel",
            "_view_count": null,
            "_view_module": "@jupyter-widgets/base",
            "_view_module_version": "1.2.0",
            "_view_name": "StyleView",
            "bar_color": null,
            "description_width": ""
          }
        },
        "637ce09d24cb4696a34b71ff75e2df0e": {
          "model_module": "@jupyter-widgets/base",
          "model_name": "LayoutModel",
          "model_module_version": "1.2.0",
          "state": {
            "_model_module": "@jupyter-widgets/base",
            "_model_module_version": "1.2.0",
            "_model_name": "LayoutModel",
            "_view_count": null,
            "_view_module": "@jupyter-widgets/base",
            "_view_module_version": "1.2.0",
            "_view_name": "LayoutView",
            "align_content": null,
            "align_items": null,
            "align_self": null,
            "border": null,
            "bottom": null,
            "display": null,
            "flex": null,
            "flex_flow": null,
            "grid_area": null,
            "grid_auto_columns": null,
            "grid_auto_flow": null,
            "grid_auto_rows": null,
            "grid_column": null,
            "grid_gap": null,
            "grid_row": null,
            "grid_template_areas": null,
            "grid_template_columns": null,
            "grid_template_rows": null,
            "height": null,
            "justify_content": null,
            "justify_items": null,
            "left": null,
            "margin": null,
            "max_height": null,
            "max_width": null,
            "min_height": null,
            "min_width": null,
            "object_fit": null,
            "object_position": null,
            "order": null,
            "overflow": null,
            "overflow_x": null,
            "overflow_y": null,
            "padding": null,
            "right": null,
            "top": null,
            "visibility": null,
            "width": null
          }
        },
        "38a1eb6fc49e4719aa2758b92d147a76": {
          "model_module": "@jupyter-widgets/controls",
          "model_name": "DescriptionStyleModel",
          "model_module_version": "1.5.0",
          "state": {
            "_model_module": "@jupyter-widgets/controls",
            "_model_module_version": "1.5.0",
            "_model_name": "DescriptionStyleModel",
            "_view_count": null,
            "_view_module": "@jupyter-widgets/base",
            "_view_module_version": "1.2.0",
            "_view_name": "StyleView",
            "description_width": ""
          }
        },
        "610c97d3cf95410791e040c76fab423b": {
          "model_module": "@jupyter-widgets/controls",
          "model_name": "HBoxModel",
          "model_module_version": "1.5.0",
          "state": {
            "_dom_classes": [],
            "_model_module": "@jupyter-widgets/controls",
            "_model_module_version": "1.5.0",
            "_model_name": "HBoxModel",
            "_view_count": null,
            "_view_module": "@jupyter-widgets/controls",
            "_view_module_version": "1.5.0",
            "_view_name": "HBoxView",
            "box_style": "",
            "children": [
              "IPY_MODEL_7a90686ebded4365a8bec662711ef056",
              "IPY_MODEL_8d69bf5ec3c9412bbe882ed72d3e75a1",
              "IPY_MODEL_823881efab4f448dab61085d8f0b77a2"
            ],
            "layout": "IPY_MODEL_45a10198c71c4b068598bcc8f3e17bef"
          }
        },
        "7a90686ebded4365a8bec662711ef056": {
          "model_module": "@jupyter-widgets/controls",
          "model_name": "HTMLModel",
          "model_module_version": "1.5.0",
          "state": {
            "_dom_classes": [],
            "_model_module": "@jupyter-widgets/controls",
            "_model_module_version": "1.5.0",
            "_model_name": "HTMLModel",
            "_view_count": null,
            "_view_module": "@jupyter-widgets/controls",
            "_view_module_version": "1.5.0",
            "_view_name": "HTMLView",
            "description": "",
            "description_tooltip": null,
            "layout": "IPY_MODEL_2a6bd3856cda4055ac44aef60dbd56e3",
            "placeholder": "​",
            "style": "IPY_MODEL_e52632ca71be498baa7f224ee87e4ae1",
            "value": "Running tokenizer on train dataset (num_proc=20): 100%"
          }
        },
        "8d69bf5ec3c9412bbe882ed72d3e75a1": {
          "model_module": "@jupyter-widgets/controls",
          "model_name": "FloatProgressModel",
          "model_module_version": "1.5.0",
          "state": {
            "_dom_classes": [],
            "_model_module": "@jupyter-widgets/controls",
            "_model_module_version": "1.5.0",
            "_model_name": "FloatProgressModel",
            "_view_count": null,
            "_view_module": "@jupyter-widgets/controls",
            "_view_module_version": "1.5.0",
            "_view_name": "ProgressView",
            "bar_style": "success",
            "description": "",
            "description_tooltip": null,
            "layout": "IPY_MODEL_324eb0843e3b47578f4071134d6e9d50",
            "max": 100000,
            "min": 0,
            "orientation": "horizontal",
            "style": "IPY_MODEL_9bc2217a5796447d8eab8c39e08ad217",
            "value": 100000
          }
        },
        "823881efab4f448dab61085d8f0b77a2": {
          "model_module": "@jupyter-widgets/controls",
          "model_name": "HTMLModel",
          "model_module_version": "1.5.0",
          "state": {
            "_dom_classes": [],
            "_model_module": "@jupyter-widgets/controls",
            "_model_module_version": "1.5.0",
            "_model_name": "HTMLModel",
            "_view_count": null,
            "_view_module": "@jupyter-widgets/controls",
            "_view_module_version": "1.5.0",
            "_view_name": "HTMLView",
            "description": "",
            "description_tooltip": null,
            "layout": "IPY_MODEL_3bdbef4418f24e60a224fc2b440bde8c",
            "placeholder": "​",
            "style": "IPY_MODEL_11f975d233a94ef9b5e5b97c71d60a18",
            "value": " 100000/100000 [00:24&lt;00:00, 4049.16 examples/s]"
          }
        },
        "45a10198c71c4b068598bcc8f3e17bef": {
          "model_module": "@jupyter-widgets/base",
          "model_name": "LayoutModel",
          "model_module_version": "1.2.0",
          "state": {
            "_model_module": "@jupyter-widgets/base",
            "_model_module_version": "1.2.0",
            "_model_name": "LayoutModel",
            "_view_count": null,
            "_view_module": "@jupyter-widgets/base",
            "_view_module_version": "1.2.0",
            "_view_name": "LayoutView",
            "align_content": null,
            "align_items": null,
            "align_self": null,
            "border": null,
            "bottom": null,
            "display": null,
            "flex": null,
            "flex_flow": null,
            "grid_area": null,
            "grid_auto_columns": null,
            "grid_auto_flow": null,
            "grid_auto_rows": null,
            "grid_column": null,
            "grid_gap": null,
            "grid_row": null,
            "grid_template_areas": null,
            "grid_template_columns": null,
            "grid_template_rows": null,
            "height": null,
            "justify_content": null,
            "justify_items": null,
            "left": null,
            "margin": null,
            "max_height": null,
            "max_width": null,
            "min_height": null,
            "min_width": null,
            "object_fit": null,
            "object_position": null,
            "order": null,
            "overflow": null,
            "overflow_x": null,
            "overflow_y": null,
            "padding": null,
            "right": null,
            "top": null,
            "visibility": null,
            "width": null
          }
        },
        "2a6bd3856cda4055ac44aef60dbd56e3": {
          "model_module": "@jupyter-widgets/base",
          "model_name": "LayoutModel",
          "model_module_version": "1.2.0",
          "state": {
            "_model_module": "@jupyter-widgets/base",
            "_model_module_version": "1.2.0",
            "_model_name": "LayoutModel",
            "_view_count": null,
            "_view_module": "@jupyter-widgets/base",
            "_view_module_version": "1.2.0",
            "_view_name": "LayoutView",
            "align_content": null,
            "align_items": null,
            "align_self": null,
            "border": null,
            "bottom": null,
            "display": null,
            "flex": null,
            "flex_flow": null,
            "grid_area": null,
            "grid_auto_columns": null,
            "grid_auto_flow": null,
            "grid_auto_rows": null,
            "grid_column": null,
            "grid_gap": null,
            "grid_row": null,
            "grid_template_areas": null,
            "grid_template_columns": null,
            "grid_template_rows": null,
            "height": null,
            "justify_content": null,
            "justify_items": null,
            "left": null,
            "margin": null,
            "max_height": null,
            "max_width": null,
            "min_height": null,
            "min_width": null,
            "object_fit": null,
            "object_position": null,
            "order": null,
            "overflow": null,
            "overflow_x": null,
            "overflow_y": null,
            "padding": null,
            "right": null,
            "top": null,
            "visibility": null,
            "width": null
          }
        },
        "e52632ca71be498baa7f224ee87e4ae1": {
          "model_module": "@jupyter-widgets/controls",
          "model_name": "DescriptionStyleModel",
          "model_module_version": "1.5.0",
          "state": {
            "_model_module": "@jupyter-widgets/controls",
            "_model_module_version": "1.5.0",
            "_model_name": "DescriptionStyleModel",
            "_view_count": null,
            "_view_module": "@jupyter-widgets/base",
            "_view_module_version": "1.2.0",
            "_view_name": "StyleView",
            "description_width": ""
          }
        },
        "324eb0843e3b47578f4071134d6e9d50": {
          "model_module": "@jupyter-widgets/base",
          "model_name": "LayoutModel",
          "model_module_version": "1.2.0",
          "state": {
            "_model_module": "@jupyter-widgets/base",
            "_model_module_version": "1.2.0",
            "_model_name": "LayoutModel",
            "_view_count": null,
            "_view_module": "@jupyter-widgets/base",
            "_view_module_version": "1.2.0",
            "_view_name": "LayoutView",
            "align_content": null,
            "align_items": null,
            "align_self": null,
            "border": null,
            "bottom": null,
            "display": null,
            "flex": null,
            "flex_flow": null,
            "grid_area": null,
            "grid_auto_columns": null,
            "grid_auto_flow": null,
            "grid_auto_rows": null,
            "grid_column": null,
            "grid_gap": null,
            "grid_row": null,
            "grid_template_areas": null,
            "grid_template_columns": null,
            "grid_template_rows": null,
            "height": null,
            "justify_content": null,
            "justify_items": null,
            "left": null,
            "margin": null,
            "max_height": null,
            "max_width": null,
            "min_height": null,
            "min_width": null,
            "object_fit": null,
            "object_position": null,
            "order": null,
            "overflow": null,
            "overflow_x": null,
            "overflow_y": null,
            "padding": null,
            "right": null,
            "top": null,
            "visibility": null,
            "width": null
          }
        },
        "9bc2217a5796447d8eab8c39e08ad217": {
          "model_module": "@jupyter-widgets/controls",
          "model_name": "ProgressStyleModel",
          "model_module_version": "1.5.0",
          "state": {
            "_model_module": "@jupyter-widgets/controls",
            "_model_module_version": "1.5.0",
            "_model_name": "ProgressStyleModel",
            "_view_count": null,
            "_view_module": "@jupyter-widgets/base",
            "_view_module_version": "1.2.0",
            "_view_name": "StyleView",
            "bar_color": null,
            "description_width": ""
          }
        },
        "3bdbef4418f24e60a224fc2b440bde8c": {
          "model_module": "@jupyter-widgets/base",
          "model_name": "LayoutModel",
          "model_module_version": "1.2.0",
          "state": {
            "_model_module": "@jupyter-widgets/base",
            "_model_module_version": "1.2.0",
            "_model_name": "LayoutModel",
            "_view_count": null,
            "_view_module": "@jupyter-widgets/base",
            "_view_module_version": "1.2.0",
            "_view_name": "LayoutView",
            "align_content": null,
            "align_items": null,
            "align_self": null,
            "border": null,
            "bottom": null,
            "display": null,
            "flex": null,
            "flex_flow": null,
            "grid_area": null,
            "grid_auto_columns": null,
            "grid_auto_flow": null,
            "grid_auto_rows": null,
            "grid_column": null,
            "grid_gap": null,
            "grid_row": null,
            "grid_template_areas": null,
            "grid_template_columns": null,
            "grid_template_rows": null,
            "height": null,
            "justify_content": null,
            "justify_items": null,
            "left": null,
            "margin": null,
            "max_height": null,
            "max_width": null,
            "min_height": null,
            "min_width": null,
            "object_fit": null,
            "object_position": null,
            "order": null,
            "overflow": null,
            "overflow_x": null,
            "overflow_y": null,
            "padding": null,
            "right": null,
            "top": null,
            "visibility": null,
            "width": null
          }
        },
        "11f975d233a94ef9b5e5b97c71d60a18": {
          "model_module": "@jupyter-widgets/controls",
          "model_name": "DescriptionStyleModel",
          "model_module_version": "1.5.0",
          "state": {
            "_model_module": "@jupyter-widgets/controls",
            "_model_module_version": "1.5.0",
            "_model_name": "DescriptionStyleModel",
            "_view_count": null,
            "_view_module": "@jupyter-widgets/base",
            "_view_module_version": "1.2.0",
            "_view_name": "StyleView",
            "description_width": ""
          }
        }
      }
    }
  },
  "nbformat": 4,
  "nbformat_minor": 0
}