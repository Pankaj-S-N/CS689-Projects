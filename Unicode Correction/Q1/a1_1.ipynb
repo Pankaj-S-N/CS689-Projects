{
 "cells": [
  {
   "cell_type": "code",
   "execution_count": 530,
   "metadata": {},
   "outputs": [],
   "source": [
    "# z = open(\"tester.txt\",'r',errors='ignore',encoding = 'utf-8')"
   ]
  },
  {
   "cell_type": "code",
   "execution_count": 531,
   "metadata": {},
   "outputs": [],
   "source": [
    "# ip = z.read()"
   ]
  },
  {
   "cell_type": "code",
   "execution_count": null,
   "metadata": {},
   "outputs": [],
   "source": [
    "# z.close()"
   ]
  },
  {
   "cell_type": "code",
   "execution_count": 11,
   "metadata": {},
   "outputs": [],
   "source": [
    "ip = input()"
   ]
  },
  {
   "cell_type": "code",
   "execution_count": 12,
   "metadata": {},
   "outputs": [
    {
     "name": "stdout",
     "output_type": "stream",
     "text": [
      "श ् र ी ग ो ं द े ,   ग ा व ा त ी ल ,   ह े म ा ड प ं थ ी ,   म ं द ि र े ,   क ो ळ ग ा व च ा ,   स य ् य द ब ा ब ा   द र ् ग ा ,   व ि स ा प ू र च ा ,   त ल ा व ,   श े ख   म ह ं म द   म ह ा र ा ज ा ं च ी ,   स म ा ध ी ,   श ि ं द े क ा ल ि न ,   व ा ड े ,   ढ ो र ज े   य े थ ी ल ,   क ा श ी व ि श ् व े श ् व र   म ं द ि र ,   म ा ं ड व ग ण च े ,   स ि द ् ध े श ् व र   म ं द ि र ,   व   ,   म ा ं ड व ् य ऋ ष ी ं च ी ,   स म ा ध ी ,   क ो स े ग व ् ह ा ण च ा ,   म ह ा द े व द र ा ,   द ै व द ै ठ ण च े ,   न ि ं ब र ा ज   स म ा ध ी   म ं द ि र "
     ]
    }
   ],
   "source": [
    "for i in range(len(ip)):\n",
    "    print(ip[i],end=' ',)\n",
    "    "
   ]
  },
  {
   "cell_type": "code",
   "execution_count": 13,
   "metadata": {},
   "outputs": [
    {
     "name": "stdout",
     "output_type": "stream",
     "text": [
      "अ आ इ ई उ ऊ ऋ ऌ ऍ ऎ ए ऐ ऑ ऒ ओ "
     ]
    }
   ],
   "source": [
    "for i in range(2309,2324): #from aa to औ \n",
    "    print(chr(i),end=' ')"
   ]
  },
  {
   "cell_type": "code",
   "execution_count": 14,
   "metadata": {},
   "outputs": [],
   "source": [
    "fin=[]"
   ]
  },
  {
   "cell_type": "code",
   "execution_count": 15,
   "metadata": {},
   "outputs": [],
   "source": [
    "for i in range(len(ip)-1):\n",
    "    if (ord(ip[i])>=2309 and ord(ip[i])<=2324):\n",
    "        if (ip[i]!='अ' or ip[i+1]!='ं'):\n",
    "            fin.append(ip[i])\n",
    "        else:\n",
    "            fin.append('अं')\n",
    "    elif (ord(ip[i])>=2325 and ord(ip[i])<=2361):\n",
    "        fin.append(ip[i])\n",
    "        if ((ord(ip[i+1])<2366 or ord(ip[i+1])>=2382) and ip[i+1] !='ं'):\n",
    "            fin.append('अ')\n",
    "    elif ((ord(ip[i])>=2366 and ord(ip[i])<2381)):\n",
    "        fin.append(chr(ord(ip[i])-56))\n",
    "    elif ((ord(ip[i])>=2305 and ord(ip[i])<2309) and ip[i-1] != 'अ'):\n",
    "        fin.append('अ'+ip[i])\n",
    "i = len(ip)-1\n",
    "if (ord(ip[i])>=2309 and ord(ip[i])<=2324):\n",
    "        fin.append(ip[i])\n",
    "elif (ord(ip[i])>=2325 and ord(ip[i])<=2361):\n",
    "    fin.append(ip[i])\n",
    "    fin.append('अ')\n",
    "elif ((ord(ip[i])>=2366 and ord(ip[i])<2381)):\n",
    "        fin.append(chr(ord(ip[i])-56))\n",
    "elif ((ord(ip[i])>=2305 and ord(ip[i])<2309)):\n",
    "        fin.append('अ'+ip[i])\n"
   ]
  },
  {
   "cell_type": "code",
   "execution_count": 16,
   "metadata": {},
   "outputs": [
    {
     "data": {
      "text/plain": [
       "['श',\n",
       " 'र',\n",
       " 'ई',\n",
       " 'ग',\n",
       " 'ओ',\n",
       " 'अं',\n",
       " 'द',\n",
       " 'ए',\n",
       " 'ग',\n",
       " 'आ',\n",
       " 'व',\n",
       " 'आ',\n",
       " 'त',\n",
       " 'ई',\n",
       " 'ल',\n",
       " 'अ',\n",
       " 'ह',\n",
       " 'ए',\n",
       " 'म',\n",
       " 'आ',\n",
       " 'ड',\n",
       " 'अ',\n",
       " 'प',\n",
       " 'अं',\n",
       " 'थ',\n",
       " 'ई',\n",
       " 'म',\n",
       " 'अं',\n",
       " 'द',\n",
       " 'इ',\n",
       " 'र',\n",
       " 'ए',\n",
       " 'क',\n",
       " 'ओ',\n",
       " 'ळ',\n",
       " 'अ',\n",
       " 'ग',\n",
       " 'आ',\n",
       " 'व',\n",
       " 'अ',\n",
       " 'च',\n",
       " 'आ',\n",
       " 'स',\n",
       " 'अ',\n",
       " 'य',\n",
       " 'य',\n",
       " 'अ',\n",
       " 'द',\n",
       " 'अ',\n",
       " 'ब',\n",
       " 'आ',\n",
       " 'ब',\n",
       " 'आ',\n",
       " 'द',\n",
       " 'अ',\n",
       " 'र',\n",
       " 'ग',\n",
       " 'आ',\n",
       " 'व',\n",
       " 'इ',\n",
       " 'स',\n",
       " 'आ',\n",
       " 'प',\n",
       " 'ऊ',\n",
       " 'र',\n",
       " 'अ',\n",
       " 'च',\n",
       " 'आ',\n",
       " 'त',\n",
       " 'अ',\n",
       " 'ल',\n",
       " 'आ',\n",
       " 'व',\n",
       " 'अ',\n",
       " 'श',\n",
       " 'ए',\n",
       " 'ख',\n",
       " 'अ',\n",
       " 'म',\n",
       " 'अ',\n",
       " 'ह',\n",
       " 'अं',\n",
       " 'म',\n",
       " 'अ',\n",
       " 'द',\n",
       " 'अ',\n",
       " 'म',\n",
       " 'अ',\n",
       " 'ह',\n",
       " 'आ',\n",
       " 'र',\n",
       " 'आ',\n",
       " 'ज',\n",
       " 'आ',\n",
       " 'अं',\n",
       " 'च',\n",
       " 'ई',\n",
       " 'स',\n",
       " 'अ',\n",
       " 'म',\n",
       " 'आ',\n",
       " 'ध',\n",
       " 'ई',\n",
       " 'श',\n",
       " 'इ',\n",
       " 'अं',\n",
       " 'द',\n",
       " 'ए',\n",
       " 'क',\n",
       " 'आ',\n",
       " 'ल',\n",
       " 'इ',\n",
       " 'न',\n",
       " 'अ',\n",
       " 'व',\n",
       " 'आ',\n",
       " 'ड',\n",
       " 'ए',\n",
       " 'ढ',\n",
       " 'ओ',\n",
       " 'र',\n",
       " 'अ',\n",
       " 'ज',\n",
       " 'ए',\n",
       " 'य',\n",
       " 'ए',\n",
       " 'थ',\n",
       " 'ई',\n",
       " 'ल',\n",
       " 'अ',\n",
       " 'क',\n",
       " 'आ',\n",
       " 'श',\n",
       " 'ई',\n",
       " 'व',\n",
       " 'इ',\n",
       " 'श',\n",
       " 'व',\n",
       " 'ए',\n",
       " 'श',\n",
       " 'व',\n",
       " 'अ',\n",
       " 'र',\n",
       " 'अ',\n",
       " 'म',\n",
       " 'अं',\n",
       " 'द',\n",
       " 'इ',\n",
       " 'र',\n",
       " 'अ',\n",
       " 'म',\n",
       " 'आ',\n",
       " 'अं',\n",
       " 'ड',\n",
       " 'अ',\n",
       " 'व',\n",
       " 'अ',\n",
       " 'ग',\n",
       " 'अ',\n",
       " 'ण',\n",
       " 'अ',\n",
       " 'च',\n",
       " 'ए',\n",
       " 'स',\n",
       " 'इ',\n",
       " 'द',\n",
       " 'ध',\n",
       " 'ए',\n",
       " 'श',\n",
       " 'व',\n",
       " 'अ',\n",
       " 'र',\n",
       " 'अ',\n",
       " 'म',\n",
       " 'अं',\n",
       " 'द',\n",
       " 'इ',\n",
       " 'र',\n",
       " 'अ',\n",
       " 'व',\n",
       " 'अ',\n",
       " 'म',\n",
       " 'आ',\n",
       " 'अं',\n",
       " 'ड',\n",
       " 'अ',\n",
       " 'व',\n",
       " 'य',\n",
       " 'अ',\n",
       " 'ऋ',\n",
       " 'ष',\n",
       " 'ई',\n",
       " 'अं',\n",
       " 'च',\n",
       " 'ई',\n",
       " 'स',\n",
       " 'अ',\n",
       " 'म',\n",
       " 'आ',\n",
       " 'ध',\n",
       " 'ई',\n",
       " 'क',\n",
       " 'ओ',\n",
       " 'स',\n",
       " 'ए',\n",
       " 'ग',\n",
       " 'अ',\n",
       " 'व',\n",
       " 'ह',\n",
       " 'आ',\n",
       " 'ण',\n",
       " 'अ',\n",
       " 'च',\n",
       " 'आ',\n",
       " 'म',\n",
       " 'अ',\n",
       " 'ह',\n",
       " 'आ',\n",
       " 'द',\n",
       " 'ए',\n",
       " 'व',\n",
       " 'अ',\n",
       " 'द',\n",
       " 'अ',\n",
       " 'र',\n",
       " 'आ',\n",
       " 'द',\n",
       " 'ऐ',\n",
       " 'व',\n",
       " 'अ',\n",
       " 'द',\n",
       " 'ऐ',\n",
       " 'ठ',\n",
       " 'अ',\n",
       " 'ण',\n",
       " 'अ',\n",
       " 'च',\n",
       " 'ए',\n",
       " 'न',\n",
       " 'इ',\n",
       " 'अं',\n",
       " 'ब',\n",
       " 'अ',\n",
       " 'र',\n",
       " 'आ',\n",
       " 'ज',\n",
       " 'अ',\n",
       " 'स',\n",
       " 'अ',\n",
       " 'म',\n",
       " 'आ',\n",
       " 'ध',\n",
       " 'ई',\n",
       " 'म',\n",
       " 'अं',\n",
       " 'द',\n",
       " 'इ',\n",
       " 'र',\n",
       " 'अ']"
      ]
     },
     "execution_count": 16,
     "metadata": {},
     "output_type": "execute_result"
    }
   ],
   "source": [
    "fin"
   ]
  },
  {
   "cell_type": "code",
   "execution_count": 17,
   "metadata": {},
   "outputs": [
    {
     "data": {
      "text/plain": [
       "'श्रीगोंदे, गावातील, हेमाडपंथी, मंदिरे, कोळगावचा, सय्यदबाबा दर्गा, विसापूरचा, तलाव, शेख महंमद महाराजांची, समाधी, शिंदेकालिन, वाडे, ढोरजे येथील, काशीविश्वेश्वर मंदिर, मांडवगणचे, सिद्धेश्वर मंदिर, व , मांडव्यऋषींची, समाधी, कोसेगव्हाणचा, महादेवदरा, दैवदैठणचे, निंबराज समाधी मंदिर'"
      ]
     },
     "execution_count": 17,
     "metadata": {},
     "output_type": "execute_result"
    }
   ],
   "source": [
    "ip"
   ]
  },
  {
   "cell_type": "code",
   "execution_count": 18,
   "metadata": {},
   "outputs": [],
   "source": [
    "#Assumptions: composite words are still split according to unicode. since the marathi vowels अं, अः werent present in unicode, they were manually printed instead of  ं,  ः "
   ]
  },
  {
   "cell_type": "code",
   "execution_count": 19,
   "metadata": {},
   "outputs": [
    {
     "name": "stdout",
     "output_type": "stream",
     "text": [
      "श र ई ग ओ अं द ए ग आ व आ त ई ल अ ह ए म आ ड अ प अं थ ई म अं द इ र ए क ओ ळ अ ग आ व अ च आ स अ य य अ द अ ब आ ब आ द अ र ग आ व इ स आ प ऊ र अ च आ त अ ल आ व अ श ए ख अ म अ ह अं म अ द अ म अ ह आ र आ ज आ अं च ई स अ म आ ध ई श इ अं द ए क आ ल इ न अ व आ ड ए ढ ओ र अ ज ए य ए थ ई ल अ क आ श ई व इ श व ए श व अ र अ म अं द इ र अ म आ अं ड अ व अ ग अ ण अ च ए स इ द ध ए श व अ र अ म अं द इ र अ व अ म आ अं ड अ व य अ ऋ ष ई अं च ई स अ म आ ध ई क ओ स ए ग अ व ह आ ण अ च आ म अ ह आ द ए व अ द अ र आ द ऐ व अ द ऐ ठ अ ण अ च ए न इ अं ब अ र आ ज अ स अ म आ ध ई म अं द इ र अ "
     ]
    }
   ],
   "source": [
    "for i in range(len(fin)):\n",
    "    print(fin[i],end=' ')"
   ]
  }
 ],
 "metadata": {
  "kernelspec": {
   "display_name": "Python 3",
   "language": "python",
   "name": "python3"
  },
  "language_info": {
   "codemirror_mode": {
    "name": "ipython",
    "version": 3
   },
   "file_extension": ".py",
   "mimetype": "text/x-python",
   "name": "python",
   "nbconvert_exporter": "python",
   "pygments_lexer": "ipython3",
   "version": "3.11.4"
  }
 },
 "nbformat": 4,
 "nbformat_minor": 2
}
